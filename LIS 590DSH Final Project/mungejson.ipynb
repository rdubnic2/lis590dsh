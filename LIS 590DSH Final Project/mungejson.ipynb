{
 "cells": [
  {
   "cell_type": "markdown",
   "metadata": {},
   "source": [
    "## Reformatting json data as csv\n"
   ]
  },
  {
   "cell_type": "code",
   "execution_count": 3,
   "metadata": {
    "collapsed": false
   },
   "outputs": [
    {
     "name": "stdout",
     "output_type": "stream",
     "text": [
      "['ryan/inu.30000003130071.book', 'ryan/mdp.39015002153180.book', 'ryan/mdp.39015002260167.book', 'ryan/mdp.39015008102165.book', 'ryan/mdp.39015008821251.book', 'ryan/mdp.39015028400326.book', 'ryan/mdp.39015029851667.book', 'ryan/mdp.39015040081708.book', 'ryan/mdp.39015040597794.book', 'ryan/mdp.39015043002289.book', 'ryan/mdp.39015046349141.book', 'ryan/mdp.39015054067759.book', 'ryan/mdp.39015054102655.book', 'ryan/mdp.39015062063501.book', 'ryan/mdp.39015063339868.book', 'ryan/pst.000018252354.book', 'ryan/pst.000018729719.book', 'ryan/pst.000022105387.book', 'ryan/pst.000044192167.book', 'ryan/uc1.$b322793.book', 'ryan/uc1.$b784307.book', 'ryan/uc1.32106002122734.book', 'ryan/uc1.32106010927215.book', 'ryan/uc1.32106011264659.book', 'ryan/uc1.32106014098278.book', 'ryan/uc1.b3462870.book', 'ryan/uc1.b4439246.book']\n"
     ]
    }
   ],
   "source": [
    "import os, csv, json, glob\n",
    "import pandas as pd\n",
    "\n",
    "# let's start by listing the .book files\n",
    "files = glob.glob('ryan/*.book')\n",
    "print(files)"
   ]
  },
  {
   "cell_type": "code",
   "execution_count": 15,
   "metadata": {
    "collapsed": false
   },
   "outputs": [
    {
     "data": {
      "text/html": [
       "<div>\n",
       "<table border=\"1\" class=\"dataframe\">\n",
       "  <thead>\n",
       "    <tr style=\"text-align: right;\">\n",
       "      <th></th>\n",
       "      <th>bookid</th>\n",
       "      <th>name</th>\n",
       "      <th>words</th>\n",
       "    </tr>\n",
       "  </thead>\n",
       "  <tbody>\n",
       "    <tr>\n",
       "      <th>0</th>\n",
       "      <td>inu.30000003130071</td>\n",
       "      <td>Miss Bentley</td>\n",
       "      <td>ask ranks looked came come blushed say come tu...</td>\n",
       "    </tr>\n",
       "    <tr>\n",
       "      <th>1</th>\n",
       "      <td>inu.30000003130071</td>\n",
       "      <td>John Thomas</td>\n",
       "      <td>some252 comes killed getting puts say says tea...</td>\n",
       "    </tr>\n",
       "    <tr>\n",
       "      <th>2</th>\n",
       "      <td>inu.30000003130071</td>\n",
       "      <td>Nero</td>\n",
       "      <td>slaves slaves slaves</td>\n",
       "    </tr>\n",
       "    <tr>\n",
       "      <th>3</th>\n",
       "      <td>inu.30000003130071</td>\n",
       "      <td>Herbert</td>\n",
       "      <td>laughed dead trees</td>\n",
       "    </tr>\n",
       "    <tr>\n",
       "      <th>4</th>\n",
       "      <td>inu.30000003130071</td>\n",
       "      <td>Daniele</td>\n",
       "      <td>wear hireling looks has said betrayed leaving ...</td>\n",
       "    </tr>\n",
       "  </tbody>\n",
       "</table>\n",
       "</div>"
      ],
      "text/plain": [
       "               bookid          name  \\\n",
       "0  inu.30000003130071  Miss Bentley   \n",
       "1  inu.30000003130071   John Thomas   \n",
       "2  inu.30000003130071          Nero   \n",
       "3  inu.30000003130071       Herbert   \n",
       "4  inu.30000003130071       Daniele   \n",
       "\n",
       "                                               words  \n",
       "0  ask ranks looked came come blushed say come tu...  \n",
       "1  some252 comes killed getting puts say says tea...  \n",
       "2                               slaves slaves slaves  \n",
       "3                                 laughed dead trees  \n",
       "4  wear hireling looks has said betrayed leaving ...  "
      ]
     },
     "execution_count": 15,
     "metadata": {},
     "output_type": "execute_result"
    }
   ],
   "source": [
    "chardict = dict()\n",
    "chardict['bookid'] = []\n",
    "chardict['name'] = []\n",
    "chardict['words'] = []\n",
    "\n",
    "for afile in files:\n",
    "    with open(afile, encoding = 'utf-8') as f:\n",
    "        filestring = f.read()\n",
    "        jsonobj = json.loads(filestring)\n",
    "        the_id = jsonobj['id']\n",
    "        allnames = set()\n",
    "        for c in jsonobj['characters']:\n",
    "            names = c['names']\n",
    "            # let's take the name that occurs most often\n",
    "            the_name = ''\n",
    "            maxcount = 0\n",
    "            for n in names:\n",
    "                ct = n['c']\n",
    "                if ct > maxcount and n['n'] not in allnames:\n",
    "                    maxcount = ct\n",
    "                    the_name = n['n']\n",
    "            words = []\n",
    "            for gram_cat in ['agent', 'patient', 'mod', 'poss']:\n",
    "                for word in c[gram_cat]:\n",
    "                    words.append(word['w'])\n",
    "            \n",
    "            if len(words) > 0:\n",
    "                chardict['bookid'].append(the_id)\n",
    "                chardict['name'].append(the_name)\n",
    "                allnames.add(the_name)\n",
    "                chardict['words'].append(' '.join(words))\n",
    "\n",
    "post22 = pd.DataFrame(chardict)\n",
    "post22.head()\n",
    "            "
   ]
  },
  {
   "cell_type": "code",
   "execution_count": 17,
   "metadata": {
    "collapsed": false
   },
   "outputs": [
    {
     "data": {
      "text/html": [
       "<div>\n",
       "<table border=\"1\" class=\"dataframe\">\n",
       "  <thead>\n",
       "    <tr style=\"text-align: right;\">\n",
       "      <th></th>\n",
       "      <th>bookid</th>\n",
       "      <th>name</th>\n",
       "      <th>words</th>\n",
       "    </tr>\n",
       "  </thead>\n",
       "  <tbody>\n",
       "    <tr>\n",
       "      <th>0</th>\n",
       "      <td>10117</td>\n",
       "      <td>Theodore</td>\n",
       "      <td>remember</td>\n",
       "    </tr>\n",
       "    <tr>\n",
       "      <th>1</th>\n",
       "      <td>10117</td>\n",
       "      <td>Mademoiselle</td>\n",
       "      <td>repeat pour</td>\n",
       "    </tr>\n",
       "    <tr>\n",
       "      <th>2</th>\n",
       "      <td>10117</td>\n",
       "      <td>Mr. Rochester</td>\n",
       "      <td>take commissioned intends does was lay carried...</td>\n",
       "    </tr>\n",
       "    <tr>\n",
       "      <th>3</th>\n",
       "      <td>10117</td>\n",
       "      <td>Mr. Broeklehurst</td>\n",
       "      <td>said</td>\n",
       "    </tr>\n",
       "    <tr>\n",
       "      <th>4</th>\n",
       "      <td>10117</td>\n",
       "      <td>Miss Temple</td>\n",
       "      <td>received name face side ear eye bed</td>\n",
       "    </tr>\n",
       "  </tbody>\n",
       "</table>\n",
       "</div>"
      ],
      "text/plain": [
       "  bookid              name                                              words\n",
       "0  10117          Theodore                                           remember\n",
       "1  10117      Mademoiselle                                        repeat pour\n",
       "2  10117     Mr. Rochester  take commissioned intends does was lay carried...\n",
       "3  10117  Mr. Broeklehurst                                               said\n",
       "4  10117       Miss Temple                received name face side ear eye bed"
      ]
     },
     "execution_count": 17,
     "metadata": {},
     "output_type": "execute_result"
    }
   ],
   "source": [
    "# basically the same approach but just a different i/o process\n",
    "\n",
    "chardict = dict()\n",
    "chardict['bookid'] = []\n",
    "chardict['name'] = []\n",
    "chardict['words'] = []\n",
    "\n",
    "with open('ryan/earlychars.jsonl', encoding = 'utf-8') as f:\n",
    "    for line in f:\n",
    "        jsonobj = json.loads(line)\n",
    "        \n",
    "        # from here in, it's the same; if I were being careful I'd\n",
    "        # encapuslate it as a function to avoid repeating code, but\n",
    "        # working quickly I just copy and paste\n",
    "        \n",
    "        the_id = jsonobj['id']\n",
    "        allnames = set()\n",
    "        for c in jsonobj['characters']:\n",
    "            names = c['names']\n",
    "            # let's take the name that occurs most often\n",
    "            the_name = ''\n",
    "            maxcount = 0\n",
    "            for n in names:\n",
    "                ct = n['c']\n",
    "                if ct > maxcount and n['n'] not in allnames:\n",
    "                    maxcount = ct\n",
    "                    the_name = n['n']\n",
    "            words = []\n",
    "            for gram_cat in ['agent', 'patient', 'mod', 'poss']:\n",
    "                for word in c[gram_cat]:\n",
    "                    words.append(word['w'])\n",
    "            \n",
    "            if len(words) > 0:\n",
    "                chardict['bookid'].append(the_id)\n",
    "                chardict['name'].append(the_name)\n",
    "                allnames.add(the_name)\n",
    "                chardict['words'].append(' '.join(words))\n",
    "\n",
    "pre23 = pd.DataFrame(chardict)\n",
    "pre23.head()\n",
    "        "
   ]
  },
  {
   "cell_type": "code",
   "execution_count": 18,
   "metadata": {
    "collapsed": false
   },
   "outputs": [
    {
     "name": "stdout",
     "output_type": "stream",
     "text": [
      "(399, 3)\n",
      "(2094, 3)\n"
     ]
    },
    {
     "data": {
      "text/plain": [
       "(2493, 3)"
      ]
     },
     "execution_count": 18,
     "metadata": {},
     "output_type": "execute_result"
    }
   ],
   "source": [
    "allchars = pd.concat([pre23, post22])\n",
    "print(pre23.shape)\n",
    "print(post22.shape)\n",
    "allchars.shape\n"
   ]
  },
  {
   "cell_type": "code",
   "execution_count": 19,
   "metadata": {
    "collapsed": true
   },
   "outputs": [],
   "source": [
    "allchars.to_csv('ryan/allchars.csv')"
   ]
  },
  {
   "cell_type": "code",
   "execution_count": null,
   "metadata": {
    "collapsed": true
   },
   "outputs": [],
   "source": []
  }
 ],
 "metadata": {
  "kernelspec": {
   "display_name": "Python 3",
   "language": "python",
   "name": "python3"
  },
  "language_info": {
   "codemirror_mode": {
    "name": "ipython",
    "version": 3
   },
   "file_extension": ".py",
   "mimetype": "text/x-python",
   "name": "python",
   "nbconvert_exporter": "python",
   "pygments_lexer": "ipython3",
   "version": "3.5.2"
  }
 },
 "nbformat": 4,
 "nbformat_minor": 0
}
