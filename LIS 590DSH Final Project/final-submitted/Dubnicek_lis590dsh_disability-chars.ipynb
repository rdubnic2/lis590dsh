{
 "cells": [
  {
   "cell_type": "markdown",
   "metadata": {},
   "source": [
    "\n",
    "\n",
    "\n",
    "\n",
    "## Classifying Characters with Disabilities in Fiction from the Words Associated with Them: A Pilot Project\n",
    "Ryan Dubnicek (May 11, 2017)"
   ]
  },
  {
   "cell_type": "markdown",
   "metadata": {},
   "source": [
    "### Introduction & Project Summary\n",
    "This project seeks to build a classifier in Python, using naïve Bayes, to pilot identification of characters with disabilities in fiction. I use data resulting from David Bamman and Ted Underwood’s work with HathiTrust fiction data using Bamman’s Book NLP  pipeline. I identified 54 characters from just over 30 volumes that had disabilities of some kind—for this project, disabilities are defined as both physical and mental, as well as conditions that are found in the Diagnostic and Statistical Manual of Mental Disorders, Fifth Edition (DSM-5). This is certainly not a perfect definition, but it’s one to use to ground my classifications, and one that is wide enough to not prohibit this type of study at all due to lack of training data.\n",
    "\n",
    "In the end, I was able to us naïve Bayes to train a classifier that reliably picked out characters with disabilities amongst the ~120 characters chosen for study, with a 92% average accuracy. After completing the classifier, and without the compute resources to extend it run against characters for all  ~94,000 volumes of fiction against which Book NLP was run to extract data, I decided to take a deeper look into the words associated with each class of characters. I used TextBlob  to run sentiment analysis and objectivity of said analysis, against words for each character, and also used some homegrown functions that leverage Dunnings log likelihood to pull the most overrepresented and underrepresented words for each class of character. All together, this data affirmed some assumptions that many in disability studies would’ve made prior to this project: fewer action words were in the top words associated with characters with disabilities and average sentiment is 2.5 times lower than the words that are associated with characters without. However, objectivity of sentiment for words associated with characters with disabilities was lower, which was a surprise, given the radically different average sentiment, and the distribution of sentiment per character, with most characters sentiments below the neutral line, as compared to a normal distribution."
   ]
  },
  {
   "cell_type": "markdown",
   "metadata": {},
   "source": [
    "### Preface\n",
    "This notebook is a companion to a short write-up, available for download [here](https://github.com/rdubnic2/lis590dsh/blob/master/LIS%20590DSH%20Final%20Project/final-submitted/Dubnicek_LIS590DSH-Final-Project_write-up.docx), that makes up my final project for LID 590DSH, Data Science in the Humanities, taught by Professor Ted Underwood at the UIUC School of Information Sciences. This project uses characters and the words associated with them that were extracted from fiction in [HathiTrust (HT)](https://www.hathitrust.org). I employ a number of functions developed over the course of the class, most authored by or seeded by Dr. Underwood, and modified--to varying levels--by me. I don't purport necessarily that they are the best version of their methods, for instance, I employ a homegrown naive Bayes classifier rather than use TextBlob's or Scikit-learn's versions. However, each is understandable to me, a relative text mining novice, and shamefully, but truthfully fierce statistics novice. Naive Bayes may not be the best classifier in this instance either, but it is a classifier I understand and have experience with. Should this project ever grow from this relative pilot project, a look into which classifier might best suit my needs is a must.\n",
    "\n",
    "If you have any questions, please feel free to drop me a note at rdubnicek@gmail.com"
   ]
  },
  {
   "cell_type": "markdown",
   "metadata": {
    "collapsed": false,
    "scrolled": true
   },
   "source": [
    "### Data Collection and Cleaning\n",
    "As my write-up mentions, I worked off of character data that Ted Underwood and David Bamman, using Bamman's [Book NLP](https://github.com/dbamman/book-nlp), a natural language processing (NLP) pipeline that scales specifically for books and other long texts, extracted from fiction in HT. However, prior to actually accessing this data, I needed to identify a subset of volumes that had characters with disabilities, and then record the names of those characters specifically, for later manual classification for training my predictive model. This was an extremely long and tedious process, and highlighted the complete lack of any comprehensive information on characters in fiction with disabilities, as I was often resigned to manually surfing top 10 lists from blogs or user-compiled lists on Goodreads.\n",
    "\n",
    "This is probably the best place to speak a bit about the definition of \"disability\" I am using for this project. I am including both physical and mental disabilities, with the former relatively straightforward, and taking the shape of paralysis, lost limbs, disfigurement and blindness/deafness. The latter is far more nebulous, and difficult to pin down, not just for me but for scholars in disability studies, even. In the end, I decided to use the DSM-5 as a guiding framework for mental disability inclusion, both because I was hoping to see how the classifier might react with such a wide definition and because I didn't want to limit my data to an unusable small amount of characters with disabilities. So, mental disabilities, in this project, can be Downs Syndrome, Autism spectrum disorders and other intellectual disabilities, or things like unnamed mental illness, schizophrenia, PTSD and bi-polar disorder. While I’ve had some training in disability studies and special education, I am not an expert, and generally erred on the side of the most inclusive definition for this project.\n",
    "\n",
    "Once volumes and characters were identified, the corresponding character data for all characters in the book, was extracted into JSON, and parsed by Dr. Underwood using a Python notebook. My entry into the data came after characters for my small corpus were gathered from the overall character data and sent to me in .csv form. At this point, the data, when loaded into a dataframe, looked like this:"
   ]
  },
  {
   "cell_type": "code",
   "execution_count": 1,
   "metadata": {
    "collapsed": true
   },
   "outputs": [],
   "source": [
    "# some imports we'll be using in this notebook\n",
    "\n",
    "import csv, os, math, random\n",
    "import pandas as pd\n",
    "import numpy as np\n",
    "from collections import Counter\n",
    "from textblob import TextBlob\n",
    "import random\n",
    "import matplotlib\n",
    "import seaborn\n",
    "%matplotlib inline"
   ]
  },
  {
   "cell_type": "code",
   "execution_count": 2,
   "metadata": {
    "collapsed": false
   },
   "outputs": [
    {
     "data": {
      "text/html": [
       "<div>\n",
       "<table border=\"1\" class=\"dataframe\">\n",
       "  <thead>\n",
       "    <tr style=\"text-align: right;\">\n",
       "      <th></th>\n",
       "      <th>Unnamed: 0</th>\n",
       "      <th>bookid</th>\n",
       "      <th>name</th>\n",
       "      <th>words</th>\n",
       "    </tr>\n",
       "  </thead>\n",
       "  <tbody>\n",
       "    <tr>\n",
       "      <th>0</th>\n",
       "      <td>0</td>\n",
       "      <td>10117</td>\n",
       "      <td>Theodore</td>\n",
       "      <td>remember</td>\n",
       "    </tr>\n",
       "    <tr>\n",
       "      <th>1</th>\n",
       "      <td>1</td>\n",
       "      <td>10117</td>\n",
       "      <td>Mademoiselle</td>\n",
       "      <td>repeat pour</td>\n",
       "    </tr>\n",
       "    <tr>\n",
       "      <th>2</th>\n",
       "      <td>2</td>\n",
       "      <td>10117</td>\n",
       "      <td>Mr. Rochester</td>\n",
       "      <td>take commissioned intends does was lay carried...</td>\n",
       "    </tr>\n",
       "    <tr>\n",
       "      <th>3</th>\n",
       "      <td>3</td>\n",
       "      <td>10117</td>\n",
       "      <td>Mr. Broeklehurst</td>\n",
       "      <td>said</td>\n",
       "    </tr>\n",
       "    <tr>\n",
       "      <th>4</th>\n",
       "      <td>4</td>\n",
       "      <td>10117</td>\n",
       "      <td>Miss Temple</td>\n",
       "      <td>received name face side ear eye bed</td>\n",
       "    </tr>\n",
       "  </tbody>\n",
       "</table>\n",
       "</div>"
      ],
      "text/plain": [
       "   Unnamed: 0 bookid              name  \\\n",
       "0           0  10117          Theodore   \n",
       "1           1  10117      Mademoiselle   \n",
       "2           2  10117     Mr. Rochester   \n",
       "3           3  10117  Mr. Broeklehurst   \n",
       "4           4  10117       Miss Temple   \n",
       "\n",
       "                                               words  \n",
       "0                                           remember  \n",
       "1                                        repeat pour  \n",
       "2  take commissioned intends does was lay carried...  \n",
       "3                                               said  \n",
       "4                received name face side ear eye bed  "
      ]
     },
     "execution_count": 2,
     "metadata": {},
     "output_type": "execute_result"
    }
   ],
   "source": [
    "raw_data = open('allchars.csv', 'r')\n",
    "raw_df = pd.read_csv(raw_data)\n",
    "raw_df.head()"
   ]
  },
  {
   "cell_type": "markdown",
   "metadata": {},
   "source": [
    "This is a great start, but I needed to massage this a bit, and add a few columns for later programmatic analysis and for my own manual work. I added a column that would be used in classification, `'has_disability'`, but, after trying out a few methods and running into trouble, as well as having a few incidents of losing data I had enriched, I just decidedly to manually update the .csv in Excel versus writing loops to find the characters with disabilities that I had hand identified and change their value in that column. I also added a column, `'bookname'`, which helped me more easily get the character names for each volume, and make sure I had the correct representation of each character based on the Book NLP data. My data ended up looking like this:"
   ]
  },
  {
   "cell_type": "code",
   "execution_count": 3,
   "metadata": {
    "collapsed": false
   },
   "outputs": [
    {
     "data": {
      "text/html": [
       "<div>\n",
       "<table border=\"1\" class=\"dataframe\">\n",
       "  <thead>\n",
       "    <tr style=\"text-align: right;\">\n",
       "      <th></th>\n",
       "      <th>bookid</th>\n",
       "      <th>name</th>\n",
       "      <th>has_disability</th>\n",
       "      <th>words</th>\n",
       "      <th>bookname</th>\n",
       "    </tr>\n",
       "  </thead>\n",
       "  <tbody>\n",
       "    <tr>\n",
       "      <th>0</th>\n",
       "      <td>6479</td>\n",
       "      <td>Mathias</td>\n",
       "      <td>0</td>\n",
       "      <td>shook surrounded grumbled legs knowledge head</td>\n",
       "      <td></td>\n",
       "    </tr>\n",
       "    <tr>\n",
       "      <th>1</th>\n",
       "      <td>6479</td>\n",
       "      <td>Pasquier</td>\n",
       "      <td>0</td>\n",
       "      <td>best</td>\n",
       "      <td></td>\n",
       "    </tr>\n",
       "    <tr>\n",
       "      <th>2</th>\n",
       "      <td>6479</td>\n",
       "      <td>Du Breul</td>\n",
       "      <td>0</td>\n",
       "      <td>blocked</td>\n",
       "      <td></td>\n",
       "    </tr>\n",
       "    <tr>\n",
       "      <th>3</th>\n",
       "      <td>6479</td>\n",
       "      <td>Guillaume Eym</td>\n",
       "      <td>0</td>\n",
       "      <td>considered intervene</td>\n",
       "      <td></td>\n",
       "    </tr>\n",
       "    <tr>\n",
       "      <th>4</th>\n",
       "      <td>6479</td>\n",
       "      <td>Tourangeau</td>\n",
       "      <td>0</td>\n",
       "      <td>took replied cap</td>\n",
       "      <td></td>\n",
       "    </tr>\n",
       "  </tbody>\n",
       "</table>\n",
       "</div>"
      ],
      "text/plain": [
       "  bookid           name  has_disability  \\\n",
       "0   6479        Mathias               0   \n",
       "1   6479       Pasquier               0   \n",
       "2   6479       Du Breul               0   \n",
       "3   6479  Guillaume Eym               0   \n",
       "4   6479     Tourangeau               0   \n",
       "\n",
       "                                           words bookname  \n",
       "0  shook surrounded grumbled legs knowledge head           \n",
       "1                                           best           \n",
       "2                                        blocked           \n",
       "3                           considered intervene           \n",
       "4                               took replied cap           "
      ]
     },
     "execution_count": 3,
     "metadata": {},
     "output_type": "execute_result"
    }
   ],
   "source": [
    "ch_data = open('allchars_RD.csv', 'r')\n",
    "ch_df = pd.read_csv(ch_data)\n",
    "# ch_df.head()\n",
    "\n",
    "del ch_df['Unnamed: 0']\n",
    "ch_df['bookname'] = ''\n",
    "\n",
    "ch_df.head()"
   ]
  },
  {
   "cell_type": "markdown",
   "metadata": {},
   "source": [
    "In order to then accurately populate the `'bookname'` column, I wrote an excessively lengthy for loop to do this in one go, as compared to changing out text, or using lists to iterate over:"
   ]
  },
  {
   "cell_type": "code",
   "execution_count": 4,
   "metadata": {
    "collapsed": false
   },
   "outputs": [
    {
     "data": {
      "text/html": [
       "<div>\n",
       "<table border=\"1\" class=\"dataframe\">\n",
       "  <thead>\n",
       "    <tr style=\"text-align: right;\">\n",
       "      <th></th>\n",
       "      <th>bookid</th>\n",
       "      <th>name</th>\n",
       "      <th>has_disability</th>\n",
       "      <th>words</th>\n",
       "      <th>bookname</th>\n",
       "    </tr>\n",
       "  </thead>\n",
       "  <tbody>\n",
       "    <tr>\n",
       "      <th>0</th>\n",
       "      <td>6479</td>\n",
       "      <td>Mathias</td>\n",
       "      <td>0</td>\n",
       "      <td>shook surrounded grumbled legs knowledge head</td>\n",
       "      <td>Notre Dame de Paris</td>\n",
       "    </tr>\n",
       "    <tr>\n",
       "      <th>1</th>\n",
       "      <td>6479</td>\n",
       "      <td>Pasquier</td>\n",
       "      <td>0</td>\n",
       "      <td>best</td>\n",
       "      <td>Notre Dame de Paris</td>\n",
       "    </tr>\n",
       "    <tr>\n",
       "      <th>2</th>\n",
       "      <td>6479</td>\n",
       "      <td>Du Breul</td>\n",
       "      <td>0</td>\n",
       "      <td>blocked</td>\n",
       "      <td>Notre Dame de Paris</td>\n",
       "    </tr>\n",
       "    <tr>\n",
       "      <th>3</th>\n",
       "      <td>6479</td>\n",
       "      <td>Guillaume Eym</td>\n",
       "      <td>0</td>\n",
       "      <td>considered intervene</td>\n",
       "      <td>Notre Dame de Paris</td>\n",
       "    </tr>\n",
       "    <tr>\n",
       "      <th>4</th>\n",
       "      <td>6479</td>\n",
       "      <td>Tourangeau</td>\n",
       "      <td>0</td>\n",
       "      <td>took replied cap</td>\n",
       "      <td>Notre Dame de Paris</td>\n",
       "    </tr>\n",
       "  </tbody>\n",
       "</table>\n",
       "</div>"
      ],
      "text/plain": [
       "  bookid           name  has_disability  \\\n",
       "0   6479        Mathias               0   \n",
       "1   6479       Pasquier               0   \n",
       "2   6479       Du Breul               0   \n",
       "3   6479  Guillaume Eym               0   \n",
       "4   6479     Tourangeau               0   \n",
       "\n",
       "                                           words             bookname  \n",
       "0  shook surrounded grumbled legs knowledge head  Notre Dame de Paris  \n",
       "1                                           best  Notre Dame de Paris  \n",
       "2                                        blocked  Notre Dame de Paris  \n",
       "3                           considered intervene  Notre Dame de Paris  \n",
       "4                               took replied cap  Notre Dame de Paris  "
      ]
     },
     "execution_count": 4,
     "metadata": {},
     "output_type": "execute_result"
    }
   ],
   "source": [
    "# this long loop will trigger multiple warnings that don't matter much for us here, so we disable the warnings\n",
    "#  prior to running the loop. The loop still takes a while to execute, though.\n",
    "pd.options.mode.chained_assignment = None\n",
    "\n",
    "for i in ch_df.index:\n",
    "        bookid = ch_df['bookid'][i]\n",
    "        if bookid == '6479':\n",
    "            ch_df['bookname'][i] = 'Notre Dame de Paris'\n",
    "        elif bookid == '8469':\n",
    "            ch_df['bookname'][i] = 'Wuthering Heights'\n",
    "        elif bookid == 'mdp.39015000608102':\n",
    "            ch_df['bookname'][i] = 'Winesburg, Ohio'\n",
    "        elif bookid == 'mdp.39015002311556':\n",
    "            ch_df['bookname'][i] = 'The Secret Garden'\n",
    "        elif bookid == 'uc2.ark+=13960=t22b8w678':\n",
    "            ch_df['bookname'][i] = 'The Crux'\n",
    "        elif bookid == 'inu.30000003130071':\n",
    "            ch_df['bookname'][i] = \"Lady Chatterley's Lover\"\n",
    "        elif bookid == 'mdp.39015002153180':\n",
    "            ch_df['bookname'][i] = 'A Good Man is Hard to Find'\n",
    "        elif bookid == 'mdp.39015002260167':\n",
    "            ch_df['bookname'][i] = 'Of Mice and Men'\n",
    "        elif bookid == 'mdp.39015008102165':\n",
    "            ch_df['bookname'][i] = 'In This Sign'\n",
    "        elif bookid == 'mdp.39015008821251':\n",
    "            ch_df['bookname'][i] = 'The Illearth War'\n",
    "        elif bookid == 'mdp.39015043002289':\n",
    "            ch_df['bookname'][i] = 'Johnny Got His Gun'\n",
    "        elif bookid == 'pst.000022105387':\n",
    "            ch_df['bookname'][i] = 'The Wounded Land'\n",
    "        elif bookid == 'uc1.b4439246':\n",
    "            ch_df['bookname'][i] = 'The One Tree'\n",
    "        elif bookid == 'mdp.39015040597794':\n",
    "            ch_df['bookname'][i] = 'Flowers for Algernon'\n",
    "        elif bookid == 'mdp.39015062063501':\n",
    "            ch_df['bookname'][i] = 'The Curious Incident of the Dog in the Night-Time'\n",
    "        elif bookid == 'mdp.39015054102655':\n",
    "            ch_df['bookname'][i] = 'The English Patient'\n",
    "        elif bookid == 'uc1.32106011264659':\n",
    "            ch_df['bookname'][i] = 'Cathedral'\n",
    "        elif bookid == 'pst.000044192167':\n",
    "            ch_df['bookname'][i] = 'The Heart is a Lonely Hunter'\n",
    "        elif bookid == 'mdp.39015054067759':\n",
    "            ch_df['bookname'][i] = 'The Things They Carried'\n",
    "        elif bookid == 'mdp.39015046349141':\n",
    "            ch_df['bookname'][i] = 'The Sound and the Fury'\n",
    "        elif bookid == 'mdp.39015040081708':\n",
    "            ch_df['bookname'][i] = 'Geek Love'\n",
    "        elif bookid == 'pst.000018729719':\n",
    "            ch_df['bookname'][i] = 'The Bell Jar'\n",
    "        elif bookid == 'uc1.32106010927215':\n",
    "            ch_df['bookname'][i] = \"One Flew over the Cuckoo's Nest\"\n",
    "        elif bookid == 'uc1.b3462870':\n",
    "            ch_df['bookname'][i] = 'Alice in Bed'\n",
    "        elif bookid == 'mdp.39015028400326':\n",
    "            ch_df['bookname'][i] = 'Jewel'\n",
    "        elif bookid == 'mdp.39015063339868':\n",
    "            ch_df['bookname'][i] = 'We Are All Welcome Here'\n",
    "        elif bookid == 'uc1.32106002122734':\n",
    "            ch_df['bookname'][i] = 'To Kill A Mockingbird'\n",
    "        elif bookid == 'uc1.32106014098278':\n",
    "            ch_df['bookname'][i] = \"The Optimist's Daughter\"\n",
    "        elif bookid == 'uc1.$b322793':\n",
    "            ch_df['bookname'][i] = 'The Last September'\n",
    "        elif bookid == 'uc1.$b784307':\n",
    "            ch_df['bookname'][i] = 'Back'\n",
    "\n",
    "ch_df.head()"
   ]
  },
  {
   "cell_type": "markdown",
   "metadata": {},
   "source": [
    "The inclusion of this column is optional, but it helped me spot check the characters that I knew should be assigned 1 values in their `'has_disability'` column, and also helped me get a better sense of the rough amount of characters per book.\n",
    "\n",
    "After the data was in this form, I did a quick loop to get a sense of how many characters had disabilities versus how many did not, along with the words describing the characters with disabilities. This data was needed in my next step, which was to make sure we had nearly equal amounts of characters and words for each class, so as to not skew the classifier. Here are the loops:"
   ]
  },
  {
   "cell_type": "code",
   "execution_count": 5,
   "metadata": {
    "collapsed": false
   },
   "outputs": [
    {
     "name": "stdout",
     "output_type": "stream",
     "text": [
      "There are 64 characters with disabilities in this corpus.\n",
      "There are 1881 characters with disabilities in this corpus.\n",
      "There are 90091 words associated with characters without disabilities\n",
      "There are 14772 words associated with characters with disabilities\n"
     ]
    }
   ],
   "source": [
    "dis_char_list = []\n",
    "no_dis_char_list = []\n",
    "\n",
    "for i in ch_df.index:\n",
    "    name = ch_df['name'][i]\n",
    "    dis = ch_df['has_disability'][i]\n",
    "    if dis == 1:\n",
    "        dis_char_list.append(name)\n",
    "        # print(name)\n",
    "    elif dis != 1:\n",
    "        no_dis_char_list.append(name)\n",
    "        # print(name)\n",
    "\n",
    "print('There are', len(dis_char_list), 'characters with disabilities in this corpus.')\n",
    "print('There are', len(no_dis_char_list), 'characters with disabilities in this corpus.')\n",
    "\n",
    "dis_wrd_ct = 0\n",
    "no_dis_wrd_ct = 0\n",
    "\n",
    "for i in ch_df.index:\n",
    "    text = str(ch_df['words'][i])\n",
    "    blob = TextBlob(text)\n",
    "    words = blob.words\n",
    "    dis = ch_df['has_disability'][i]\n",
    "    if dis == 0:\n",
    "        no_dis_wrd_ct += len(words)\n",
    "print('There are', no_dis_wrd_ct,'words associated with characters without disabilities')\n",
    "\n",
    "for i in ch_df.index:\n",
    "    text = str(ch_df['words'][i])\n",
    "    blob = TextBlob(text)\n",
    "    words = blob.words\n",
    "    dis = ch_df['has_disability'][i]\n",
    "    if dis == 1:\n",
    "#         dis_words.append(words)\n",
    "        dis_wrd_ct += len(words)\n",
    "print('There are', dis_wrd_ct,'words associated with characters with disabilities')"
   ]
  },
  {
   "cell_type": "markdown",
   "metadata": {},
   "source": [
    "At this point, both our numbers of characters and words for each class are very far apart, which can negatively impact our classifier. To correct this, I wrote another loop to drop rows of the dataframe where the number of words was less than 150 and the row number was divisible by 2 (an arbitrary parameter) for characters without disabilities. I knew this wouldn't be the last step, but I was curious to see how this might affect the total words for each class of character. *Note: when I initially tried out this code, I made a copy of my dataframe to make sure things weren't irreparably damaged. I'd recommend that course of action first for anyone recreating this type of work.*\n",
    "\n",
    "Here's the code:"
   ]
  },
  {
   "cell_type": "code",
   "execution_count": 6,
   "metadata": {
    "collapsed": false
   },
   "outputs": [
    {
     "data": {
      "text/plain": [
       "(1282, 5)"
      ]
     },
     "execution_count": 6,
     "metadata": {},
     "output_type": "execute_result"
    }
   ],
   "source": [
    "for i in ch_df.index:\n",
    "    dis = ch_df['has_disability'][i]\n",
    "    words = str(ch_df['words'][i])\n",
    "    if dis == 0 and len(words) < 150 and i%2 == 0:\n",
    "        # print('found one')\n",
    "        ch_df.drop(i, inplace=True)\n",
    "\n",
    "# since we've dropped rows, we'll reset the index        \n",
    "ch_df = ch_df.reset_index(drop=True)  \n",
    "\n",
    "ch_df.shape"
   ]
  },
  {
   "cell_type": "markdown",
   "metadata": {},
   "source": [
    "Notice, I first tested to see how many rows might be affected, by commenting out the drop line and using the print line to inform me a row meeting the conditions was found. This was a good failsafe for me throughout the data winnowing portion of this project.\n",
    "\n",
    "We're down to 1282 total rows, which puts just at 1218 characters without disabilities, still far too many. At this point, I realized it would be most efficient to pull down the rows for all characters with disabilities and save it to a .csv using `pd.to_csv`. This would allow me to not worry about accidentally affecting those rows, which would necessarily affect any work to correctly limit rows and words for characters without disabilities. Once I had correctly culled my data frame for characters without disabilities, it'd be simple to concatenate that dataframe back with the one with data for characters with disabilities. That code mirrors what's above, just without any further conditions after `dis == 1`, which would drop all rows for characters without a disability. I then reloaded the `ch_df` dataframe and reproduced the above winnow steps and the immediately above winnowing to bring me back to where I was.\n",
    "\n",
    "At this point, it became clear that the easier way to cut the number of rows was to simply take a random sample using a built in `.sample()` method, which can take a parameter `n` that stands for the number of rows you want returned:"
   ]
  },
  {
   "cell_type": "code",
   "execution_count": 7,
   "metadata": {
    "collapsed": true
   },
   "outputs": [],
   "source": [
    "no_dis_sample = ch_df.sample(n=65)\n",
    "no_dis_sample = no_dis_sample.reset_index(drop=True)\n",
    "# renaming the dataframe\n",
    "no_dis_df = no_dis_sample\n",
    "no_dis_df.head()\n",
    "\n",
    "# saving my dataframe once I got the right number of words and rows, obviously not with a file name now to prevent any\n",
    "#  accidents.\n",
    "no_dis_sample.to_csv('INSERT ANY FILE NAME AND EXTENSION HERE')"
   ]
  },
  {
   "cell_type": "markdown",
   "metadata": {
    "collapsed": false
   },
   "source": [
    "### Training a Naive Bayes Classifier\n",
    "In the end, I needed to tweak my rows in the no disability dataframe to be 65 in order to get closer to the amount of words in my disability data frame, which I had cut 10 of the least-popualted rows from as well to get the word coutns in sync. This step is hard, if not impossible, to reproduce, as I used the `.random` method, which is, well, random. Instead, I've including my final two data frame files, as .csv files, in this folder, and we can now load and concatenate them to come up with our final dataframe, and start our analysis:"
   ]
  },
  {
   "cell_type": "code",
   "execution_count": 8,
   "metadata": {
    "collapsed": false,
    "scrolled": true
   },
   "outputs": [
    {
     "data": {
      "text/html": [
       "<div>\n",
       "<table border=\"1\" class=\"dataframe\">\n",
       "  <thead>\n",
       "    <tr style=\"text-align: right;\">\n",
       "      <th></th>\n",
       "      <th>bookid</th>\n",
       "      <th>name</th>\n",
       "      <th>has_disability</th>\n",
       "      <th>words</th>\n",
       "      <th>bookname</th>\n",
       "    </tr>\n",
       "  </thead>\n",
       "  <tbody>\n",
       "    <tr>\n",
       "      <th>0</th>\n",
       "      <td>8469</td>\n",
       "      <td>Linton</td>\n",
       "      <td>1</td>\n",
       "      <td>had stood whispered stood ate look does replie...</td>\n",
       "      <td>Wuthering Heights</td>\n",
       "    </tr>\n",
       "    <tr>\n",
       "      <th>1</th>\n",
       "      <td>inu.30000003130071</td>\n",
       "      <td>Clifford</td>\n",
       "      <td>1</td>\n",
       "      <td>went had came had drive pretended was was had ...</td>\n",
       "      <td>Lady Chatterley's Lover</td>\n",
       "    </tr>\n",
       "    <tr>\n",
       "      <th>2</th>\n",
       "      <td>mdp.39015000608102</td>\n",
       "      <td>Parcival</td>\n",
       "      <td>1</td>\n",
       "      <td>had appeared been told began began began know man</td>\n",
       "      <td>Winesburg, Ohio</td>\n",
       "    </tr>\n",
       "    <tr>\n",
       "      <th>3</th>\n",
       "      <td>mdp.39015000608102</td>\n",
       "      <td>Elizabeth</td>\n",
       "      <td>1</td>\n",
       "      <td>was went went went yearned cried clenched decl...</td>\n",
       "      <td>Winesburg, Ohio</td>\n",
       "    </tr>\n",
       "    <tr>\n",
       "      <th>4</th>\n",
       "      <td>mdp.39015000608102</td>\n",
       "      <td>Enoch</td>\n",
       "      <td>1</td>\n",
       "      <td>informed emerged lived walked came realise was...</td>\n",
       "      <td>Winesburg, Ohio</td>\n",
       "    </tr>\n",
       "  </tbody>\n",
       "</table>\n",
       "</div>"
      ],
      "text/plain": [
       "               bookid       name  has_disability  \\\n",
       "0                8469     Linton               1   \n",
       "1  inu.30000003130071   Clifford               1   \n",
       "2  mdp.39015000608102   Parcival               1   \n",
       "3  mdp.39015000608102  Elizabeth               1   \n",
       "4  mdp.39015000608102      Enoch               1   \n",
       "\n",
       "                                               words                 bookname  \n",
       "0  had stood whispered stood ate look does replie...        Wuthering Heights  \n",
       "1  went had came had drive pretended was was had ...  Lady Chatterley's Lover  \n",
       "2  had appeared been told began began began know man          Winesburg, Ohio  \n",
       "3  was went went went yearned cried clenched decl...          Winesburg, Ohio  \n",
       "4  informed emerged lived walked came realise was...          Winesburg, Ohio  "
      ]
     },
     "execution_count": 8,
     "metadata": {},
     "output_type": "execute_result"
    }
   ],
   "source": [
    "dis_data = open('dis_df.csv', 'r')\n",
    "no_dis_data = open('no_dis_sample_5819.csv', 'r')\n",
    "\n",
    "dis_df = pd.read_csv(dis_data)\n",
    "no_dis_df = pd.read_csv(no_dis_data)\n",
    "\n",
    "# dis_df.head()\n",
    "# no_dis_df.head()\n",
    "\n",
    "df_list = [dis_df, no_dis_df]\n",
    "char_df = pd.concat(df_list)\n",
    "# it's vital to reset the index here, else we'll throw errors in our functions later due to duplicate indices\n",
    "char_df = char_df.reset_index(drop=True)\n",
    "# deleting our pesky nemesis, column 'Unnamed: 0', which keeps recurring when we ingest our charactr dataframes\n",
    "del char_df['Unnamed: 0']\n",
    "char_df.head()"
   ]
  },
  {
   "cell_type": "markdown",
   "metadata": {},
   "source": [
    "Later, we'll compare our classifier for identifying characters with disabilities to one that does the same, but to find the male and female characters. In order to enable this, we'll output a copy of our final character data frame to a .csv and add in genders based on names, where possible, and from a bit of old-fashioned Google searching where gender wasn't evident from:"
   ]
  },
  {
   "cell_type": "code",
   "execution_count": 9,
   "metadata": {
    "collapsed": false
   },
   "outputs": [
    {
     "name": "stdout",
     "output_type": "stream",
     "text": [
      "(119, 6)\n",
      "found one\n",
      "found one\n",
      "found one\n",
      "(116, 6)\n"
     ]
    },
    {
     "data": {
      "text/html": [
       "<div>\n",
       "<table border=\"1\" class=\"dataframe\">\n",
       "  <thead>\n",
       "    <tr style=\"text-align: right;\">\n",
       "      <th></th>\n",
       "      <th>bookid</th>\n",
       "      <th>name</th>\n",
       "      <th>has_disability</th>\n",
       "      <th>words</th>\n",
       "      <th>bookname</th>\n",
       "      <th>gender</th>\n",
       "    </tr>\n",
       "  </thead>\n",
       "  <tbody>\n",
       "    <tr>\n",
       "      <th>0</th>\n",
       "      <td>8469</td>\n",
       "      <td>Linton</td>\n",
       "      <td>1</td>\n",
       "      <td>had stood whispered stood ate look does replie...</td>\n",
       "      <td>Wuthering Heights</td>\n",
       "      <td>1</td>\n",
       "    </tr>\n",
       "    <tr>\n",
       "      <th>1</th>\n",
       "      <td>inu.30000003130071</td>\n",
       "      <td>Clifford</td>\n",
       "      <td>1</td>\n",
       "      <td>went had came had drive pretended was was had ...</td>\n",
       "      <td>Lady Chatterley's Lover</td>\n",
       "      <td>1</td>\n",
       "    </tr>\n",
       "    <tr>\n",
       "      <th>2</th>\n",
       "      <td>mdp.39015000608102</td>\n",
       "      <td>Parcival</td>\n",
       "      <td>1</td>\n",
       "      <td>had appeared been told began began began know man</td>\n",
       "      <td>Winesburg, Ohio</td>\n",
       "      <td>1</td>\n",
       "    </tr>\n",
       "    <tr>\n",
       "      <th>3</th>\n",
       "      <td>mdp.39015000608102</td>\n",
       "      <td>Elizabeth</td>\n",
       "      <td>1</td>\n",
       "      <td>was went went went yearned cried clenched decl...</td>\n",
       "      <td>Winesburg, Ohio</td>\n",
       "      <td>0</td>\n",
       "    </tr>\n",
       "    <tr>\n",
       "      <th>4</th>\n",
       "      <td>mdp.39015000608102</td>\n",
       "      <td>Enoch</td>\n",
       "      <td>1</td>\n",
       "      <td>informed emerged lived walked came realise was...</td>\n",
       "      <td>Winesburg, Ohio</td>\n",
       "      <td>1</td>\n",
       "    </tr>\n",
       "  </tbody>\n",
       "</table>\n",
       "</div>"
      ],
      "text/plain": [
       "               bookid       name  has_disability  \\\n",
       "0                8469     Linton               1   \n",
       "1  inu.30000003130071   Clifford               1   \n",
       "2  mdp.39015000608102   Parcival               1   \n",
       "3  mdp.39015000608102  Elizabeth               1   \n",
       "4  mdp.39015000608102      Enoch               1   \n",
       "\n",
       "                                               words                 bookname  \\\n",
       "0  had stood whispered stood ate look does replie...        Wuthering Heights   \n",
       "1  went had came had drive pretended was was had ...  Lady Chatterley's Lover   \n",
       "2  had appeared been told began began began know man          Winesburg, Ohio   \n",
       "3  was went went went yearned cried clenched decl...          Winesburg, Ohio   \n",
       "4  informed emerged lived walked came realise was...          Winesburg, Ohio   \n",
       "\n",
       "  gender  \n",
       "0      1  \n",
       "1      1  \n",
       "2      1  \n",
       "3      0  \n",
       "4      1  "
      ]
     },
     "execution_count": 9,
     "metadata": {},
     "output_type": "execute_result"
    }
   ],
   "source": [
    "# commenting out these line to prevent an overwrite of our enhanced dataframe with gender\n",
    "# char_df['gender'] = ''\n",
    "# char_df.head()\n",
    "# char_df.to_csv('ch_gen.csv')\n",
    "\n",
    "ch_gen_data = open('ch_gen.csv', 'r')\n",
    "ch_gen = pd.read_csv(ch_gen_data)\n",
    "\n",
    "del ch_gen['Unnamed: 0']\n",
    "\n",
    "print(ch_gen.shape)\n",
    "\n",
    "no_gen_list = ['El Camino College','New Willard House','Warward']    \n",
    "\n",
    "for i in ch_gen.index:\n",
    "    name = ch_gen['name'][i]\n",
    "    if name in no_gen_list:\n",
    "        print('found one')\n",
    "        ch_gen.drop(i, inplace=True)\n",
    "\n",
    "print(ch_gen.shape)\n",
    "\n",
    "ch_gen.head()"
   ]
  },
  {
   "cell_type": "markdown",
   "metadata": {},
   "source": [
    "As you can see, there's also a quirk with our character data, and three entities that aren't traditionally considered characters have been included in our dataframe. Though these won't skew our disability test, they will make it impossible to assign a gender value for those rows, so I've dropped them.\n",
    "\n",
    "Now we need to streamline and adjust our disability dataframe for use as a training and test set. This involves a few small steps, including removing all columns save for `'has_disability'` and `'words'`:"
   ]
  },
  {
   "cell_type": "markdown",
   "metadata": {
    "collapsed": false
   },
   "source": [
    "We're now ready to randomly assign folds so that we can have a training set and a test set, and append the fold numbers to a new column which will be used to call each subset. To do this, we need a very simple test to return if the row is for a character with a disability or not. This function will also help us replace our binary column with `'y'` or `'n'` in place of 0 or 1, which occasionally caused trouble due to their status as integers:"
   ]
  },
  {
   "cell_type": "code",
   "execution_count": 10,
   "metadata": {
    "collapsed": false
   },
   "outputs": [],
   "source": [
    "def dis_test(a_data_frame, rowidx):\n",
    "    if a_data_frame['has_disability'][rowidx] == 1: # checking our binary column for identification of each review\n",
    "        return 'y'\n",
    "    else:\n",
    "        return 'n'"
   ]
  },
  {
   "cell_type": "markdown",
   "metadata": {},
   "source": [
    "Now, here is the code for creating a new dataframe, `char_basic`, with fold and source columns added:"
   ]
  },
  {
   "cell_type": "code",
   "execution_count": 11,
   "metadata": {
    "collapsed": false
   },
   "outputs": [
    {
     "data": {
      "text/html": [
       "<div>\n",
       "<table border=\"1\" class=\"dataframe\">\n",
       "  <thead>\n",
       "    <tr style=\"text-align: right;\">\n",
       "      <th></th>\n",
       "      <th>words</th>\n",
       "      <th>has_disability</th>\n",
       "      <th>fold</th>\n",
       "    </tr>\n",
       "  </thead>\n",
       "  <tbody>\n",
       "    <tr>\n",
       "      <th>0</th>\n",
       "      <td>had stood whispered stood ate look does replie...</td>\n",
       "      <td>y</td>\n",
       "      <td>3</td>\n",
       "    </tr>\n",
       "    <tr>\n",
       "      <th>1</th>\n",
       "      <td>went had came had drive pretended was was had ...</td>\n",
       "      <td>y</td>\n",
       "      <td>3</td>\n",
       "    </tr>\n",
       "    <tr>\n",
       "      <th>2</th>\n",
       "      <td>had appeared been told began began began know man</td>\n",
       "      <td>y</td>\n",
       "      <td>0</td>\n",
       "    </tr>\n",
       "    <tr>\n",
       "      <th>3</th>\n",
       "      <td>was went went went yearned cried clenched decl...</td>\n",
       "      <td>y</td>\n",
       "      <td>3</td>\n",
       "    </tr>\n",
       "    <tr>\n",
       "      <th>4</th>\n",
       "      <td>informed emerged lived walked came realise was...</td>\n",
       "      <td>y</td>\n",
       "      <td>2</td>\n",
       "    </tr>\n",
       "  </tbody>\n",
       "</table>\n",
       "</div>"
      ],
      "text/plain": [
       "                                               words has_disability  fold\n",
       "0  had stood whispered stood ate look does replie...              y     3\n",
       "1  went had came had drive pretended was was had ...              y     3\n",
       "2  had appeared been told began began began know man              y     0\n",
       "3  was went went went yearned cried clenched decl...              y     3\n",
       "4  informed emerged lived walked came realise was...              y     2"
      ]
     },
     "execution_count": 11,
     "metadata": {},
     "output_type": "execute_result"
    }
   ],
   "source": [
    "labels = char_df['has_disability']\n",
    "words = char_df['words']\n",
    "\n",
    "source = []\n",
    "fold = []\n",
    "\n",
    "for idx in char_df.index: # iterating through a data frame, by row, based on index\n",
    "    source.append(dis_test(char_df, idx)) # using the dis_test function above to populate the source column\n",
    "    fold.append(random.sample(list(range(5)), 1)[0]) # using random.sample to populate the source column\n",
    "\n",
    "source = pd.Series(source, index = char_df.index) # creating a Pandas series out of the above source info\n",
    "fold = pd.Series(fold, index = char_df.index) # creating a Pandas series out of the above fold info\n",
    "\n",
    "char_basic = pd.concat([words, source, fold], axis = 1) # creating a new data frame with all of the above info\n",
    "char_basic.columns = ['words', 'has_disability', 'fold'] # renaming columns for our use\n",
    "\n",
    "char_basic.head()"
   ]
  },
  {
   "cell_type": "markdown",
   "metadata": {},
   "source": [
    "As you can see, the above code loops through our `char_df` dataframe and tests each row to see what the value of the `has_disability` column is, and appends it to a list we define at the top, `fold`. Then, `random.sample`, part of the same `random` library we used to cull our character data, is used to assigned a random integer, from 0-4, to each row, trying to get as even numbers in each 0-4 fold as possible. We then take a new name, `char_basic` and concatenate the `source` and `fold` lists along with the labels and words for each row, which we extracted at the top of the cell. This creates the new dataframe you see above that is all ready to use in training our naive Bayes classifier.\n",
    "\n",
    "*Note: There's no reason you couldn't use the same data frame, and just modify it, using the same name, but I was rather wary of keeping progress retained, and of potentially making a mistake, so I renamed dataframes with substantial modifications so that I could always roll them back if need be. I know it gets a bit annoying having so many different, but still similar dataframe names, but this was the lesser of two evils for me.*\n",
    "\n",
    "The next step is using the `fold` column to actually populate two new sets, `training_set` and `test_set`, whose purposes are obvious:"
   ]
  },
  {
   "cell_type": "code",
   "execution_count": 12,
   "metadata": {
    "collapsed": false
   },
   "outputs": [
    {
     "name": "stdout",
     "output_type": "stream",
     "text": [
      "Training set includes 98\n",
      "Test set includes 21\n"
     ]
    }
   ],
   "source": [
    "test_set = char_basic[char_basic['fold'] == 4] # an arbitrary choice\n",
    "train_set = char_basic[char_basic['fold'] != 4]\n",
    "print('Training set includes ' + str(train_set.shape[0]))\n",
    "print('Test set includes ' + str(test_set.shape[0]))"
   ]
  },
  {
   "cell_type": "markdown",
   "metadata": {},
   "source": [
    "Next, to utilize the homegrown version of naive Bayes classifier that Ted Underwood drafted, and I modified, we need to define a few functions mostly swiped from Dr. Underwood. These are `tokenize`, `create_vocab`, `categorize` and `get_priors`:\n",
    "\n",
    "\n",
    "- `tokenize`: turns a string into tokens, just as its name says. This could be replaced with the built-in version in the Natural Language Toolkit (NLTK) or the TextBlob version. But we'll stick with this simple home-grown function adapted from Ted Underwood's work, as it is easy to understand and clearly see what it does.\n",
    "\n",
    "\n",
    "- `create_vocab`: creates a vocabulary for a given sequence of strings, in this case our two classes of reviews. A vocabulary is a dictionary-like object with unique words as keys and their counts as values. This function takes a number of desired words for the vocab (`n`) as a parameter. Adjusting this number can influence accuracy and speed of run time for train_model and apply_model the two functions that deploy our classifier.\n",
    "\n",
    "\n",
    "- `categorize`: a very similar function to our own `movie_test`, in that it checks a column of a row, this time the source column in order to determine its class, but this time based on the source column in our data frame. The train_model function that we'll soon get to uses this function, so efficiency dictated it being left in rather than further adapting the code the use movie_test.\n",
    "\n",
    "\n",
    "- `get_priors`: gets prior log probability of a given class being assigned to a review. This is based on the initial breakdown of rows: how many are movie reviews and how many are video game reviews. This creates a starting point for our classifier to build upon as opposed to manually setting a probability from which to work, which could make the classifier less accurate.\n",
    "\n",
    "Here's the code:"
   ]
  },
  {
   "cell_type": "code",
   "execution_count": 13,
   "metadata": {
    "collapsed": true
   },
   "outputs": [],
   "source": [
    "def tokenize(astring):\n",
    "    ''' Takes a string and tokenizes, counts, strips most \n",
    "    punctuation and makes all words lowercase\n",
    "    '''\n",
    "    wordcounts = Counter()\n",
    "    # create a counter to hold the counts\n",
    "    \n",
    "    tokens = astring.split()\n",
    "    for t in tokens:\n",
    "        word = t.strip(',.!?:;-—()<>[]/\"\\'').lower()\n",
    "        wordcounts[word] += 1\n",
    "        \n",
    "    return wordcounts\n",
    "\n",
    "def addcounters(counter2add, countersum):\n",
    "    ''' Adds all the counts in counter2add to countersum.\n",
    "    '''\n",
    "    \n",
    "    for key, value in counter2add.items():\n",
    "        countersum[key] += value\n",
    "\n",
    "def create_vocab(seq_of_strings, n):\n",
    "    ''' Given a sequence of strings, this function\n",
    "    returns the n most common words.\n",
    "    '''\n",
    "    vocab = Counter()\n",
    "    for astring in seq_of_strings:\n",
    "        counts = tokenize(astring)\n",
    "        addcounters(counts, vocab)\n",
    "    topn = [x[0] for x in vocab.most_common(n)]\n",
    "    return topn\n",
    "\n",
    "def get_priors(df):\n",
    "    counts = df.groupby('has_disability').count()['words']\n",
    "    print(counts)\n",
    "    dis_odds = counts['y'] / counts['n'] # simple calculation of likelihood based on prevalence\n",
    "    no_dis_odds = counts['n'] / counts['y']\n",
    "    return math.log(dis_odds), math.log(no_dis_odds)"
   ]
  },
  {
   "cell_type": "markdown",
   "metadata": {},
   "source": [
    "Next, we're ready to do the exciting bit (well, *more* exciting, since this has already been a thrill ride!)--training our classifier. Here we'll invoke the `train_nb_model` function which implements naive Bayes and trains on our `training_set`. You'll notice it returns a lot of things, which just happen to be the parameters needed for our next `apply_model` function which will actually use the trained classifier to predict character class:"
   ]
  },
  {
   "cell_type": "code",
   "execution_count": 14,
   "metadata": {
    "collapsed": false
   },
   "outputs": [],
   "source": [
    "def train_nb_model(df, p): # p is the number of words you're using in your model, the portion of the total vocabulary\n",
    "    vocab = create_vocab(df['words'], p)\n",
    "    vocabset = set(vocab)\n",
    "    \n",
    "    # we make a set because membership-checking is faster\n",
    "    # in sets; but we also hold onto the list, which is ordered\n",
    "    \n",
    "    dis_prior, nodis_prior = get_priors(df)\n",
    "    \n",
    "    dis_counts = Counter()\n",
    "    nodis_counts = Counter()\n",
    "    \n",
    "    for i in df.index:\n",
    "        words = df['words'][i]\n",
    "        word_counts = tokenize(words)\n",
    "        category = dis_test(df, i)\n",
    "        # print(category)\n",
    "        if category == 'n':\n",
    "            nodis_counts = nodis_counts + word_counts\n",
    "        elif category == 'y':\n",
    "            dis_counts = dis_counts + word_counts\n",
    "    \n",
    "    # Now let's organize these Counters into a DataFrame\n",
    "    \n",
    "    no_disability = pd.Series(1, index = vocab)\n",
    "    disability = pd.Series(1, index = vocab)\n",
    "    # notice initializing to 1 -- Laplacian smoothing\n",
    "    \n",
    "    for word, count in dis_counts.items():\n",
    "        if word in vocabset:\n",
    "            disability[word] += count\n",
    "    \n",
    "    for word, count in nodis_counts.items():\n",
    "        if word in vocabset:\n",
    "            no_disability[word] += count\n",
    "    \n",
    "    all_prob = (no_disability + disability) / (np.sum(no_disability) + np.sum(disability))\n",
    "    \n",
    "    nodis_prob = no_disability / np.sum(no_disability)\n",
    "    dis_prob = disability / np.sum(disability)\n",
    "    \n",
    "    model = pd.concat([no_disability, disability, all_prob, \n",
    "                       nodis_prob, dis_prob], axis = 1) \n",
    "        \n",
    "    model.columns = ['no_dis', 'dis', 'all_prob', 'no_dis_prob', 'dis_prob']\n",
    "    \n",
    "    model['no_dis_norm'] = nodis_prob / all_prob\n",
    "    model['dis_norm'] = dis_prob / all_prob\n",
    "    \n",
    "    \n",
    "    model['log_no_dis'] = [math.log(x) for x in model['no_dis_norm']] # using log to control for long floats, which are hard to handle\n",
    "    model['log_dis'] = [math.log(x) for x in model['dis_norm']]\n",
    "    \n",
    "    return vocab, dis_prior, nodis_prior, model"
   ]
  },
  {
   "cell_type": "markdown",
   "metadata": {},
   "source": [
    "Now we get to hold our breath and attempt to train the classifier on our training data. You'll see that we use 2000 for `p`, which is the number of features the predictive model will consider when classifying. This number can be adjusted, and sometimes it's arbitrary what number produces the most accurate results. In fact, functions can be written to check which `p` number is best to use to maximize accuracy, and I'll leave tinkering to each person, whose dataset will dictate the most accurate `p` number. Here we go:"
   ]
  },
  {
   "cell_type": "code",
   "execution_count": 15,
   "metadata": {
    "collapsed": false
   },
   "outputs": [
    {
     "name": "stdout",
     "output_type": "stream",
     "text": [
      "has_disability\n",
      "n    52\n",
      "y    46\n",
      "Name: words, dtype: int64\n"
     ]
    },
    {
     "data": {
      "text/html": [
       "<div>\n",
       "<table border=\"1\" class=\"dataframe\">\n",
       "  <thead>\n",
       "    <tr style=\"text-align: right;\">\n",
       "      <th></th>\n",
       "      <th>no_dis</th>\n",
       "      <th>dis</th>\n",
       "      <th>all_prob</th>\n",
       "      <th>no_dis_prob</th>\n",
       "      <th>dis_prob</th>\n",
       "      <th>no_dis_norm</th>\n",
       "      <th>dis_norm</th>\n",
       "      <th>log_no_dis</th>\n",
       "      <th>log_dis</th>\n",
       "    </tr>\n",
       "  </thead>\n",
       "  <tbody>\n",
       "    <tr>\n",
       "      <th>said</th>\n",
       "      <td>1579</td>\n",
       "      <td>1</td>\n",
       "      <td>0.064056</td>\n",
       "      <td>0.069664</td>\n",
       "      <td>0.0005</td>\n",
       "      <td>1.087549</td>\n",
       "      <td>0.007806</td>\n",
       "      <td>0.083927</td>\n",
       "      <td>-4.852902</td>\n",
       "    </tr>\n",
       "    <tr>\n",
       "      <th>had</th>\n",
       "      <td>331</td>\n",
       "      <td>1</td>\n",
       "      <td>0.013460</td>\n",
       "      <td>0.014603</td>\n",
       "      <td>0.0005</td>\n",
       "      <td>1.084960</td>\n",
       "      <td>0.037148</td>\n",
       "      <td>0.081543</td>\n",
       "      <td>-3.292856</td>\n",
       "    </tr>\n",
       "    <tr>\n",
       "      <th>thought</th>\n",
       "      <td>303</td>\n",
       "      <td>1</td>\n",
       "      <td>0.012325</td>\n",
       "      <td>0.013368</td>\n",
       "      <td>0.0005</td>\n",
       "      <td>1.084658</td>\n",
       "      <td>0.040569</td>\n",
       "      <td>0.081265</td>\n",
       "      <td>-3.204749</td>\n",
       "    </tr>\n",
       "    <tr>\n",
       "      <th>face</th>\n",
       "      <td>269</td>\n",
       "      <td>1</td>\n",
       "      <td>0.010946</td>\n",
       "      <td>0.011868</td>\n",
       "      <td>0.0005</td>\n",
       "      <td>1.084207</td>\n",
       "      <td>0.045678</td>\n",
       "      <td>0.080849</td>\n",
       "      <td>-3.086143</td>\n",
       "    </tr>\n",
       "    <tr>\n",
       "      <th>looked</th>\n",
       "      <td>266</td>\n",
       "      <td>1</td>\n",
       "      <td>0.010825</td>\n",
       "      <td>0.011736</td>\n",
       "      <td>0.0005</td>\n",
       "      <td>1.084162</td>\n",
       "      <td>0.046191</td>\n",
       "      <td>0.080807</td>\n",
       "      <td>-3.074970</td>\n",
       "    </tr>\n",
       "  </tbody>\n",
       "</table>\n",
       "</div>"
      ],
      "text/plain": [
       "         no_dis  dis  all_prob  no_dis_prob  dis_prob  no_dis_norm  dis_norm  \\\n",
       "said       1579    1  0.064056     0.069664    0.0005     1.087549  0.007806   \n",
       "had         331    1  0.013460     0.014603    0.0005     1.084960  0.037148   \n",
       "thought     303    1  0.012325     0.013368    0.0005     1.084658  0.040569   \n",
       "face        269    1  0.010946     0.011868    0.0005     1.084207  0.045678   \n",
       "looked      266    1  0.010825     0.011736    0.0005     1.084162  0.046191   \n",
       "\n",
       "         log_no_dis   log_dis  \n",
       "said       0.083927 -4.852902  \n",
       "had        0.081543 -3.292856  \n",
       "thought    0.081265 -3.204749  \n",
       "face       0.080849 -3.086143  \n",
       "looked     0.080807 -3.074970  "
      ]
     },
     "execution_count": 15,
     "metadata": {},
     "output_type": "execute_result"
    }
   ],
   "source": [
    "vocab, dis_prior, nodis_prior, model = train_nb_model(train_set, 2000)\n",
    "model.head()"
   ]
  },
  {
   "cell_type": "markdown",
   "metadata": {
    "collapsed": true
   },
   "source": [
    "Alright--no failures! You'll see that we get a few things returned here. First and foremost, we have a new dataframe with words as rows, and a number of, um... numbers, as columns. Rows are words, ordered by highest gross count (the first two columns), with the remaining columns being probablities for that word. So, we have, from left to right:\n",
    "\n",
    "\n",
    "- `all_prob`: the probability of the word appearing in a given row for this datast, all classes.\n",
    "\n",
    "\n",
    "- `no_dis_prob`: the probablity of the word appearing in the no disability class.\n",
    "\n",
    "\n",
    "- `dis_prob`: the probability of the word appearing in a row of the disability class.\n",
    "\n",
    "\n",
    "- `no_dis_norm`: the normalized version of `no_dis_prob`.\n",
    "\n",
    "\n",
    "- `dis_norm`: the normalized version of `dis_prob`.\n",
    "\n",
    "\n",
    "- `log_no_dis`: the logg odds of the word appearing in the no disability class.\n",
    "\n",
    "\n",
    "- `log_dis`: the log odds of the word appearing in the disability class.\n",
    "\n",
    "\n",
    "These figures are great, but they're incomplete without having run this classifier on the test data, so let's do that. But first, we need to define our `apply_nb_model` function which will take a trained model, creatively called `model`, and apply it to a new dataset, for us, our test set:"
   ]
  },
  {
   "cell_type": "code",
   "execution_count": 16,
   "metadata": {
    "collapsed": false
   },
   "outputs": [],
   "source": [
    "# again pre-emptively turning off warnings, since we aren't concerned with them here\n",
    "pd.options.mode.chained_assignment = None\n",
    "\n",
    "def apply_model(vocab, dis_prior, nodis_prior, model, testset):\n",
    "    right = 0\n",
    "    wrong = 0\n",
    "    vocabset = set(vocab)\n",
    "    odds_dis = []\n",
    "    odds_nodis = []\n",
    "\n",
    "    for i in testset.index:\n",
    "        odds_disability = dis_prior\n",
    "        odds_no_disability = nodis_prior\n",
    "        words = testset['words'][i]\n",
    "        word_counts = tokenize(words)\n",
    "        for word, count in word_counts.items():\n",
    "            if word not in vocabset:\n",
    "                continue\n",
    "            odds_disability += model.loc[word, 'log_dis']\n",
    "            odds_no_disability += model.loc[word, 'log_no_dis']\n",
    "            \n",
    "        if odds_disability > odds_no_disability:\n",
    "            prediction = 'y'\n",
    "        else:\n",
    "            prediction = 'n'\n",
    "        \n",
    "        odds_dis.append(odds_disability)\n",
    "        odds_nodis.append(odds_no_disability)\n",
    "\n",
    "        reality = dis_test(testset, i)\n",
    "        if reality != 'y' and reality != 'n':\n",
    "            continue\n",
    "        elif prediction == reality:\n",
    "            right += 1\n",
    "        else:\n",
    "            wrong += 1\n",
    "\n",
    "    print(\"Got \" + str(right) + \" rows right, and \" + str(wrong) + \" wrong.\")\n",
    "    accuracy = (right / (wrong + right)) * 100\n",
    "    print(\"Accuracy was {0:.2f}%\".format(accuracy))\n",
    "    \n",
    "    resultset = test_set.copy()\n",
    "    resultset['odds_disability'] = odds_disability\n",
    "    resultset['odds_no_disability'] = odds_no_disability\n",
    "    resultset = resultset.sort_values(by = 'odds_disability')\n",
    "    \n",
    "    return resultset, accuracy"
   ]
  },
  {
   "cell_type": "markdown",
   "metadata": {},
   "source": [
    "Now, let's actually run our classifier against the test data, and check the results, which `apply_nb_model` helpfully returns for us:"
   ]
  },
  {
   "cell_type": "code",
   "execution_count": 17,
   "metadata": {
    "collapsed": false
   },
   "outputs": [
    {
     "name": "stdout",
     "output_type": "stream",
     "text": [
      "Got 20 rows right, and 1 wrong.\n",
      "Accuracy was 95.24%\n"
     ]
    }
   ],
   "source": [
    "newtestset, accuracy = apply_model(vocab, dis_prior, nodis_prior, model, test_set)"
   ]
  },
  {
   "cell_type": "markdown",
   "metadata": {},
   "source": [
    "This time around we got fantastic results--100% of the rows correct. But we need to check if this is an aberration for our test data, as defined by this fold, or a true result. To do this, we'll use the `five_fold_cross_valid` function I drafted as part of work earlier this term. This function basically just shuffles the fold that acts as test data, and uses the other folds left over as training data. It does this until all folds are shuffled, and records the accuracy each time around, finally outputting a total average accuracy for this model:"
   ]
  },
  {
   "cell_type": "code",
   "execution_count": 18,
   "metadata": {
    "collapsed": false
   },
   "outputs": [],
   "source": [
    "def five_fold_cross_valid(df, p):\n",
    "    accuracies = []\n",
    "    for i in range(5):\n",
    "        d_test_set = df[df['fold'] == i]\n",
    "        d_training_set = df[df['fold'] != i] \n",
    "        vocab, dis_prior, nodis_prior, model = train_nb_model(d_training_set, p)\n",
    "        d_test_set, accuracy = apply_model(vocab, dis_prior, nodis_prior, model, test_set)\n",
    "        accuracies.append(accuracy)\n",
    "    avg_acc = print('Average accuracy is ', round(sum(accuracies)/len(accuracies),2), '%')\n",
    "    return avg_acc"
   ]
  },
  {
   "cell_type": "markdown",
   "metadata": {},
   "source": [
    "Now let's use this new function to evaluate our classifier, invoking our entire dataframe, `char_basic`:"
   ]
  },
  {
   "cell_type": "code",
   "execution_count": 19,
   "metadata": {
    "collapsed": false
   },
   "outputs": [
    {
     "name": "stdout",
     "output_type": "stream",
     "text": [
      "has_disability\n",
      "n    51\n",
      "y    45\n",
      "Name: words, dtype: int64\n",
      "Got 20 rows right, and 1 wrong.\n",
      "Accuracy was 95.24%\n",
      "has_disability\n",
      "n    52\n",
      "y    38\n",
      "Name: words, dtype: int64\n",
      "Got 20 rows right, and 1 wrong.\n",
      "Accuracy was 95.24%\n",
      "has_disability\n",
      "n    54\n",
      "y    43\n",
      "Name: words, dtype: int64\n",
      "Got 21 rows right, and 0 wrong.\n",
      "Accuracy was 100.00%\n",
      "has_disability\n",
      "n    51\n",
      "y    44\n",
      "Name: words, dtype: int64\n",
      "Got 20 rows right, and 1 wrong.\n",
      "Accuracy was 95.24%\n",
      "has_disability\n",
      "n    52\n",
      "y    46\n",
      "Name: words, dtype: int64\n",
      "Got 20 rows right, and 1 wrong.\n",
      "Accuracy was 95.24%\n",
      "Average accuracy is  96.19 %\n"
     ]
    }
   ],
   "source": [
    "five_fold_cross_valid(char_basic, 2000)"
   ]
  },
  {
   "cell_type": "markdown",
   "metadata": {},
   "source": [
    "Accuracy is very good! But we still might be able to tweak our `p` number and get even better, so let's give it a shot:"
   ]
  },
  {
   "cell_type": "code",
   "execution_count": 20,
   "metadata": {
    "collapsed": false,
    "scrolled": false
   },
   "outputs": [
    {
     "name": "stdout",
     "output_type": "stream",
     "text": [
      "has_disability\n",
      "n    51\n",
      "y    45\n",
      "Name: words, dtype: int64\n",
      "Got 20 rows right, and 1 wrong.\n",
      "Accuracy was 95.24%\n",
      "has_disability\n",
      "n    52\n",
      "y    38\n",
      "Name: words, dtype: int64\n",
      "Got 20 rows right, and 1 wrong.\n",
      "Accuracy was 95.24%\n",
      "has_disability\n",
      "n    54\n",
      "y    43\n",
      "Name: words, dtype: int64\n",
      "Got 20 rows right, and 1 wrong.\n",
      "Accuracy was 95.24%\n",
      "has_disability\n",
      "n    51\n",
      "y    44\n",
      "Name: words, dtype: int64\n",
      "Got 20 rows right, and 1 wrong.\n",
      "Accuracy was 95.24%\n",
      "has_disability\n",
      "n    52\n",
      "y    46\n",
      "Name: words, dtype: int64\n",
      "Got 20 rows right, and 1 wrong.\n",
      "Accuracy was 95.24%\n",
      "Average accuracy is  95.24 %\n"
     ]
    }
   ],
   "source": [
    "five_fold_cross_valid(char_basic, 2500)"
   ]
  },
  {
   "cell_type": "markdown",
   "metadata": {},
   "source": [
    "Looks like increasing our p number doesn't get us much more in the way of accuracy, but that's hardly something to complain about, given the very high accuracy we already have."
   ]
  },
  {
   "cell_type": "markdown",
   "metadata": {},
   "source": [
    "### Comparing to Another Facet of Characters: Gender\n",
    "To truly evaluate this classifier, it's helpful to compare how a new model could predict another facet of this character list. For my purposes, a quick and easy run to see how it predicts gender for each character would be a great litmus test. To do this, we'll take our `ch_gen` dataframe we populated earlier, and strip it down to a more basic dataframe and divide it into a test and training corpus, replicating our code from above:"
   ]
  },
  {
   "cell_type": "code",
   "execution_count": 21,
   "metadata": {
    "collapsed": false,
    "scrolled": true
   },
   "outputs": [
    {
     "data": {
      "text/html": [
       "<div>\n",
       "<table border=\"1\" class=\"dataframe\">\n",
       "  <thead>\n",
       "    <tr style=\"text-align: right;\">\n",
       "      <th></th>\n",
       "      <th>words</th>\n",
       "      <th>gender</th>\n",
       "      <th>fold</th>\n",
       "    </tr>\n",
       "  </thead>\n",
       "  <tbody>\n",
       "    <tr>\n",
       "      <th>0</th>\n",
       "      <td>had stood whispered stood ate look does replie...</td>\n",
       "      <td>m</td>\n",
       "      <td>4.0</td>\n",
       "    </tr>\n",
       "    <tr>\n",
       "      <th>1</th>\n",
       "      <td>went had came had drive pretended was was had ...</td>\n",
       "      <td>m</td>\n",
       "      <td>1.0</td>\n",
       "    </tr>\n",
       "    <tr>\n",
       "      <th>2</th>\n",
       "      <td>had appeared been told began began began know man</td>\n",
       "      <td>m</td>\n",
       "      <td>0.0</td>\n",
       "    </tr>\n",
       "    <tr>\n",
       "      <th>3</th>\n",
       "      <td>was went went went yearned cried clenched decl...</td>\n",
       "      <td>f</td>\n",
       "      <td>2.0</td>\n",
       "    </tr>\n",
       "    <tr>\n",
       "      <th>4</th>\n",
       "      <td>informed emerged lived walked came realise was...</td>\n",
       "      <td>m</td>\n",
       "      <td>1.0</td>\n",
       "    </tr>\n",
       "  </tbody>\n",
       "</table>\n",
       "</div>"
      ],
      "text/plain": [
       "                                               words gender  fold\n",
       "0  had stood whispered stood ate look does replie...      m   4.0\n",
       "1  went had came had drive pretended was was had ...      m   1.0\n",
       "2  had appeared been told began began began know man      m   0.0\n",
       "3  was went went went yearned cried clenched decl...      f   2.0\n",
       "4  informed emerged lived walked came realise was...      m   1.0"
      ]
     },
     "execution_count": 21,
     "metadata": {},
     "output_type": "execute_result"
    }
   ],
   "source": [
    "def gen_test(dataframe, rowidx):\n",
    "    if dataframe['gender'][rowidx] == '1': # checking our binary column for identification of each review\n",
    "        return 'm'\n",
    "    else:\n",
    "        return 'f'\n",
    "\n",
    "gen_labels = ch_gen['gender']\n",
    "gen_words = char_df['words']\n",
    "\n",
    "gen_source = []\n",
    "gen_fold = []\n",
    "\n",
    "for idx in ch_gen.index: # iterating through a data frame, by row, based on index\n",
    "    gen_source.append(gen_test(ch_gen, idx)) # using the gen_test function above to populate the gen_source column\n",
    "    gen_fold.append(random.sample(list(range(5)), 1)[0]) # using random.sample to populate the gen_source column\n",
    "\n",
    "gen_source = pd.Series(gen_source, index = ch_gen.index) # creating a Pandas series out of the above gen_source info\n",
    "gen_fold = pd.Series(gen_fold, index = ch_gen.index) # creating a Pandas series out of the above gen_fold info\n",
    "\n",
    "ch_gen_basic = pd.concat([gen_words, gen_source, gen_fold], axis = 1) # creating a new data frame with all of the above info\n",
    "ch_gen_basic.columns = ['words', 'gender', 'fold'] # renaming columns for our use\n",
    "    \n",
    "ch_gen_basic.head()"
   ]
  },
  {
   "cell_type": "markdown",
   "metadata": {},
   "source": [
    "Now we need to separate our corpus into training (4/5) and test (1/5) sets:"
   ]
  },
  {
   "cell_type": "code",
   "execution_count": 22,
   "metadata": {
    "collapsed": false
   },
   "outputs": [
    {
     "name": "stdout",
     "output_type": "stream",
     "text": [
      "Training set includes 97\n",
      "Test set includes 22\n"
     ]
    }
   ],
   "source": [
    "gen_test_set = ch_gen_basic[char_basic['fold'] == 2]\n",
    "gen_train_set = ch_gen_basic[char_basic['fold'] != 2]\n",
    "print('Training set includes ' + str(gen_train_set.shape[0]))\n",
    "print('Test set includes ' + str(gen_test_set.shape[0]))"
   ]
  },
  {
   "cell_type": "markdown",
   "metadata": {},
   "source": [
    "We'll have to slightly modify our `train_nb_model` and `apply_model` functions to work over the new gender column, as well as modify the `get_priors` function to look at this new column too. Here they are:"
   ]
  },
  {
   "cell_type": "code",
   "execution_count": 23,
   "metadata": {
    "collapsed": true
   },
   "outputs": [],
   "source": [
    "def gen_get_priors(df):\n",
    "    counts = df.groupby('gender').count()['words']\n",
    "    print(counts)\n",
    "    m_odds = counts['m'] / counts['f'] # simple calculation of likelihood based on prevalence\n",
    "    f_odds = counts['f'] / counts['m']\n",
    "    return math.log(m_odds), math.log(f_odds)\n",
    "\n",
    "def gen_train_nb_model(df, p): # p is the number of words you're using in your model, the portion of the total vocabulary\n",
    "    vocab = create_vocab(df['words'], p)\n",
    "    vocabset = set(vocab)\n",
    "    \n",
    "    # we make a set because membership-checking is faster\n",
    "    # in sets; but we also hold onto the list, which is ordered\n",
    "    \n",
    "    m_prior, f_prior = gen_get_priors(df)\n",
    "    \n",
    "    m_counts = Counter()\n",
    "    f_counts = Counter()\n",
    "    \n",
    "    for i in df.index:\n",
    "        words = df['words'][i]\n",
    "        word_counts = tokenize(words)\n",
    "        category = gen_test(df, i)\n",
    "        # print(category)\n",
    "        if category == 'f':\n",
    "            f_counts = f_counts + word_counts\n",
    "        elif category == 'm':\n",
    "            m_counts = m_counts + word_counts\n",
    "    \n",
    "    # Now let's organize these Counters into a DataFrame\n",
    "    \n",
    "    female = pd.Series(1, index = vocab)\n",
    "    male = pd.Series(1, index = vocab)\n",
    "    # notice initializing to 1 -- Laplacian smoothing\n",
    "    \n",
    "    for word, count in m_counts.items():\n",
    "        if word in vocabset:\n",
    "            male[word] += count\n",
    "    \n",
    "    for word, count in f_counts.items():\n",
    "        if word in vocabset:\n",
    "            female[word] += count\n",
    "    \n",
    "    all_prob = (female + male) / (np.sum(female) + np.sum(male))\n",
    "    \n",
    "    f_prob = female / np.sum(female)\n",
    "    m_prob = male / np.sum(male)\n",
    "    \n",
    "    # note that when we sum up the negative and positive\n",
    "    # columns, we are also summing up all the Laplacian 1's\n",
    "    # we initially added to them\n",
    "    \n",
    "    model = pd.concat([female, male, all_prob, \n",
    "                       f_prob, m_prob], axis = 1) \n",
    "        \n",
    "    model.columns = ['female', 'male', 'all_prob', 'f_prob', 'm_prob']\n",
    "    \n",
    "    model['f_norm'] = f_prob / all_prob\n",
    "    model['m_norm'] = m_prob / all_prob\n",
    "    \n",
    "    \n",
    "    model['log_f'] = [math.log(x) for x in model['f_norm']] # using log to control for long floats, which are hard to handle\n",
    "    model['log_m'] = [math.log(x) for x in model['m_norm']]\n",
    "    \n",
    "    return vocab, f_prior, m_prior, model\n",
    "\n",
    "# again pre-emptively turning off warnings, since we aren't concerned with them here\n",
    "pd.options.mode.chained_assignment = None\n",
    "\n",
    "def gen_apply_model(vocab, m_prior, f_prior, model, testset):\n",
    "    right = 0\n",
    "    wrong = 0\n",
    "    vocabset = set(vocab)\n",
    "    odds_m = []\n",
    "    odds_f = []\n",
    "\n",
    "    for i in testset.index:\n",
    "        odds_male = m_prior\n",
    "        odds_female = f_prior\n",
    "        words = testset['words'][i]\n",
    "        word_counts = tokenize(words)\n",
    "        for word, count in word_counts.items():\n",
    "            if word not in vocabset:\n",
    "                continue\n",
    "            odds_male += model.loc[word, 'log_m']\n",
    "            odds_female += model.loc[word, 'log_f']\n",
    "            \n",
    "        if odds_male > odds_female:\n",
    "            prediction = 'm'\n",
    "        else:\n",
    "            prediction = 'f'\n",
    "        \n",
    "        odds_m.append(odds_male)\n",
    "        odds_f.append(odds_female)\n",
    "\n",
    "        reality = gen_test(testset, i)\n",
    "        if reality != 'm' and reality != 'f':\n",
    "            continue\n",
    "        elif prediction == reality:\n",
    "            right += 1\n",
    "        else:\n",
    "            wrong += 1\n",
    "\n",
    "    print(\"Got \" + str(right) + \" rows right, and \" + str(wrong) + \" wrong.\")\n",
    "    accuracy = (right / (wrong + right)) * 100\n",
    "    print(\"Accuracy was {0:.2f}%\".format(accuracy))\n",
    "    \n",
    "    resultset = test_set.copy()\n",
    "    resultset['odds_male'] = odds_male\n",
    "    resultset['odds_female'] = odds_female\n",
    "    resultset = resultset.sort_values(by = 'odds_male')\n",
    "    \n",
    "    return resultset, accuracy"
   ]
  },
  {
   "cell_type": "markdown",
   "metadata": {},
   "source": [
    "We can now go ahead and train our classifier for gender:"
   ]
  },
  {
   "cell_type": "code",
   "execution_count": 24,
   "metadata": {
    "collapsed": false
   },
   "outputs": [
    {
     "name": "stdout",
     "output_type": "stream",
     "text": [
      "gender\n",
      "f    28\n",
      "m    66\n",
      "Name: words, dtype: int64\n"
     ]
    },
    {
     "data": {
      "text/html": [
       "<div>\n",
       "<table border=\"1\" class=\"dataframe\">\n",
       "  <thead>\n",
       "    <tr style=\"text-align: right;\">\n",
       "      <th></th>\n",
       "      <th>female</th>\n",
       "      <th>male</th>\n",
       "      <th>all_prob</th>\n",
       "      <th>f_prob</th>\n",
       "      <th>m_prob</th>\n",
       "      <th>f_norm</th>\n",
       "      <th>m_norm</th>\n",
       "      <th>log_f</th>\n",
       "      <th>log_m</th>\n",
       "    </tr>\n",
       "  </thead>\n",
       "  <tbody>\n",
       "    <tr>\n",
       "      <th>said</th>\n",
       "      <td>1329</td>\n",
       "      <td>1</td>\n",
       "      <td>0.060614</td>\n",
       "      <td>0.066643</td>\n",
       "      <td>0.0005</td>\n",
       "      <td>1.099464</td>\n",
       "      <td>0.008249</td>\n",
       "      <td>0.094822</td>\n",
       "      <td>-4.797679</td>\n",
       "    </tr>\n",
       "    <tr>\n",
       "      <th>had</th>\n",
       "      <td>295</td>\n",
       "      <td>1</td>\n",
       "      <td>0.013490</td>\n",
       "      <td>0.014793</td>\n",
       "      <td>0.0005</td>\n",
       "      <td>1.096574</td>\n",
       "      <td>0.037064</td>\n",
       "      <td>0.092190</td>\n",
       "      <td>-3.295104</td>\n",
       "    </tr>\n",
       "    <tr>\n",
       "      <th>face</th>\n",
       "      <td>259</td>\n",
       "      <td>1</td>\n",
       "      <td>0.011849</td>\n",
       "      <td>0.012988</td>\n",
       "      <td>0.0005</td>\n",
       "      <td>1.096059</td>\n",
       "      <td>0.042196</td>\n",
       "      <td>0.091721</td>\n",
       "      <td>-3.165426</td>\n",
       "    </tr>\n",
       "    <tr>\n",
       "      <th>was</th>\n",
       "      <td>245</td>\n",
       "      <td>1</td>\n",
       "      <td>0.011211</td>\n",
       "      <td>0.012286</td>\n",
       "      <td>0.0005</td>\n",
       "      <td>1.095818</td>\n",
       "      <td>0.044598</td>\n",
       "      <td>0.091501</td>\n",
       "      <td>-3.110076</td>\n",
       "    </tr>\n",
       "    <tr>\n",
       "      <th>eyes</th>\n",
       "      <td>238</td>\n",
       "      <td>1</td>\n",
       "      <td>0.010892</td>\n",
       "      <td>0.011935</td>\n",
       "      <td>0.0005</td>\n",
       "      <td>1.095687</td>\n",
       "      <td>0.045904</td>\n",
       "      <td>0.091382</td>\n",
       "      <td>-3.081208</td>\n",
       "    </tr>\n",
       "  </tbody>\n",
       "</table>\n",
       "</div>"
      ],
      "text/plain": [
       "      female  male  all_prob    f_prob  m_prob    f_norm    m_norm     log_f  \\\n",
       "said    1329     1  0.060614  0.066643  0.0005  1.099464  0.008249  0.094822   \n",
       "had      295     1  0.013490  0.014793  0.0005  1.096574  0.037064  0.092190   \n",
       "face     259     1  0.011849  0.012988  0.0005  1.096059  0.042196  0.091721   \n",
       "was      245     1  0.011211  0.012286  0.0005  1.095818  0.044598  0.091501   \n",
       "eyes     238     1  0.010892  0.011935  0.0005  1.095687  0.045904  0.091382   \n",
       "\n",
       "         log_m  \n",
       "said -4.797679  \n",
       "had  -3.295104  \n",
       "face -3.165426  \n",
       "was  -3.110076  \n",
       "eyes -3.081208  "
      ]
     },
     "execution_count": 24,
     "metadata": {},
     "output_type": "execute_result"
    }
   ],
   "source": [
    "gen_vocab, m_prior, f_prior, gen_model = gen_train_nb_model(gen_train_set, 2000)\n",
    "gen_model.head()"
   ]
  },
  {
   "cell_type": "markdown",
   "metadata": {},
   "source": [
    "And now we can apply it to our test corpus:"
   ]
  },
  {
   "cell_type": "code",
   "execution_count": 25,
   "metadata": {
    "collapsed": false
   },
   "outputs": [
    {
     "name": "stdout",
     "output_type": "stream",
     "text": [
      "Got 22 rows right, and 0 wrong.\n",
      "Accuracy was 100.00%\n"
     ]
    }
   ],
   "source": [
    "newtestset, accuracy = gen_apply_model(gen_vocab, m_prior, f_prior, gen_model, gen_test_set)"
   ]
  },
  {
   "cell_type": "markdown",
   "metadata": {},
   "source": [
    "This classifier also shows some great accuracy, but we need to invoke our five-fold cross-validation again to see for sure, which needs to be slightly modified to use our gender-focused `gen_train_nb_model` and `gen_apply model` functions:"
   ]
  },
  {
   "cell_type": "code",
   "execution_count": 26,
   "metadata": {
    "collapsed": false
   },
   "outputs": [
    {
     "name": "stdout",
     "output_type": "stream",
     "text": [
      "gender\n",
      "f    32\n",
      "m    60\n",
      "Name: words, dtype: int64\n",
      "Got 24 rows right, and 0 wrong.\n",
      "Accuracy was 100.00%\n",
      "gender\n",
      "f    25\n",
      "m    62\n",
      "Name: words, dtype: int64\n",
      "Got 29 rows right, and 0 wrong.\n",
      "Accuracy was 100.00%\n",
      "gender\n",
      "f    30\n",
      "m    64\n",
      "Name: words, dtype: int64\n",
      "Got 22 rows right, and 0 wrong.\n",
      "Accuracy was 100.00%\n",
      "gender\n",
      "f    30\n",
      "m    67\n",
      "Name: words, dtype: int64\n",
      "Got 19 rows right, and 0 wrong.\n",
      "Accuracy was 100.00%\n",
      "gender\n",
      "f    27\n",
      "m    67\n",
      "Name: words, dtype: int64\n",
      "Got 22 rows right, and 0 wrong.\n",
      "Accuracy was 100.00%\n",
      "Average accuracy is  100.0 %\n"
     ]
    }
   ],
   "source": [
    "def gen_five_fold_cross_valid(df, p):\n",
    "    accuracies = []\n",
    "    for i in range(5):\n",
    "        d_test_set = df[df['fold'] == i]\n",
    "        d_training_set = df[df['fold'] != i] \n",
    "        gen_vocab, m_prior, f_prior, gen_model = gen_train_nb_model(d_training_set, p)\n",
    "        d_test_set, accuracy = gen_apply_model(gen_vocab, m_prior, f_prior, gen_model, d_test_set)\n",
    "        accuracies.append(accuracy)\n",
    "    avg_acc = print('Average accuracy is ', round(sum(accuracies)/len(accuracies),2), '%')\n",
    "    return avg_acc\n",
    "\n",
    "gen_five_fold_cross_valid(ch_gen_basic, 2500)"
   ]
  },
  {
   "cell_type": "markdown",
   "metadata": {},
   "source": [
    "We are met with some shockingly good results! So what does this mean? Well, generally, it means it is harder to classify characters based on disability compared to gender. Probably not the most surprising result, but a result nonetheless.\n",
    "\n",
    "However, the high levels of accuracy seem to hint that this small corpus might be quirky to the point of being overly easy to classify. It'd be fascinating to see the success rate for running this over a very large dataset of similar character data."
   ]
  },
  {
   "cell_type": "markdown",
   "metadata": {},
   "source": [
    "### Finding Over- and Underrepresented Words for Each Class\n",
    "Our classifier is a good achievement, and a nice culmination to very heavy, tedious data gathering, wrangling, cleaning and formatting. But without understanding why the classifier works, it is not the best exercise in extracting findings beyond \"we can do it successfully\" (which, it should be mentioned, isn't a bad conclusion for this type of study).\n",
    "\n",
    "So, let's see which words are overrepresented and underrepresented in each class. For clarity, \"overrepresented\" means it is far more likely to appear in one class and not the other, and \"underrepresented\" is the inverse. This information can help us see how the classifier classifies each set of words associated with characters. As a humanist who moonlights as an information scientist, statistics are not my strong point (it's been many years since I've taken a mathematics course!), Dunnings log likelihood is a relatively common option when looking at calculating likelihoods for words. Dr. Underwood drafted this `signed_dunnings` function, which is a variation that uses negative numbers to show negative correlation instead of the open-ended numerical scale, which helps with visualizing the negative correlation. As in class this term, we'll also use a simple `logodds` function against which to compare our Dunnings likelihoods:"
   ]
  },
  {
   "cell_type": "code",
   "execution_count": 27,
   "metadata": {
    "collapsed": true
   },
   "outputs": [],
   "source": [
    "def logodds(countsA, countsB, word):\n",
    "    ''' Straightforward.\n",
    "    '''\n",
    "    # using Laplacian smoothing to get better results\n",
    "    odds = (countsA[word] + 1) / (countsB[word] + 1)\n",
    "    \n",
    "    return math.log(odds)\n",
    "\n",
    "def signed_dunnings(countsA, totalA, countsB, totalB, word):\n",
    "    ''' Less straightforward. This function calculates a signed (+1 / -1)\n",
    "    version of Dunning's log likelihood. This number gets larger as the \n",
    "    frequency of the word in our two corpora diverges from its EXPECTED frequency\n",
    "    i.e., the frequency it would have if it were equally distributed over both. \n",
    "    But it also tends to get larger as the raw frequency of the word increases.\n",
    "    \n",
    "    Note that this function requires two additional arguments:\n",
    "    the total number of words in A and B. We could calculate that inside\n",
    "    the function, but it's faster to calculate it just once, outside the function.\n",
    "    '''\n",
    "    if word not in countsA and word not in countsB:\n",
    "        return 0\n",
    "    \n",
    "    # the raw frequencies of this word in our two corpora\n",
    "    # still doing a little Laplacian smoothing here\n",
    "    a = countsA[word] + 0.1\n",
    "    b = countsB[word] + 0.1\n",
    "    \n",
    "    # now let's calculate the expected number of times this\n",
    "    # word would occur in both if the frequency were constant\n",
    "    # across both\n",
    "    overallfreq = (a + b) / (totalA + totalB)\n",
    "    expectedA = totalA * overallfreq\n",
    "    expectedB = totalB * overallfreq\n",
    "    \n",
    "    # and now the Dunning's formula\n",
    "    dunning = 2 * ((a * math.log(a / expectedA)) + (b * math.log(b / expectedB)))\n",
    "    \n",
    "    if a < expectedA:\n",
    "        return -dunning\n",
    "    else:   \n",
    "        return dunning"
   ]
  },
  {
   "cell_type": "markdown",
   "metadata": {},
   "source": [
    "However, for both of these functions to work, we need a couple of others, which the above functions call:\n",
    "\n",
    "- `addcounters`: a function which adds together a number of `Counter` objects (a dictionary-like object which is part of the `Collections` module for Python). We'll use this to get total counts for the words in each class.\n",
    "\n",
    "- `headandtail`: a function that returns the top and bottom words for a given likelihood, where \"top\" is most likely to occur for a given class and \"bottom\" is the opposite.\n",
    "\n",
    "Here they are:"
   ]
  },
  {
   "cell_type": "code",
   "execution_count": 28,
   "metadata": {
    "collapsed": false
   },
   "outputs": [],
   "source": [
    "def addcounters(counter2add, countersum):\n",
    "    ''' Adds all the counts in counter2add to countersum.'''\n",
    "    \n",
    "    for key, value in counter2add.items():\n",
    "        countersum[key] += value\n",
    "\n",
    "def headandtail(tuplelist, n):\n",
    "    tuplelist.sort(reverse = True)\n",
    "    print(\"TOP VALUES:\")\n",
    "    for i in range(n):\n",
    "        print(tuplelist[i][1], tuplelist[i][0])\n",
    "    \n",
    "    print()\n",
    "    print(\"BOTTOM VALUES:\")\n",
    "    lastindex = len(tuplelist) - 1\n",
    "    for i in range(lastindex, lastindex - n, -1):\n",
    "        print(tuplelist[i][1], tuplelist[i][0])"
   ]
  },
  {
   "cell_type": "markdown",
   "metadata": {},
   "source": [
    "We now need to a vocabulary for words in both classes. We'll do that using the following code, which also filters a list of common stop words (which can be cut out, expanded, or replaced with other lists, such as that found in NLTK):"
   ]
  },
  {
   "cell_type": "code",
   "execution_count": 29,
   "metadata": {
    "collapsed": false
   },
   "outputs": [
    {
     "name": "stdout",
     "output_type": "stream",
     "text": [
      "Total vocab =  4175\n",
      "Total vocab minus stop words =  4168\n"
     ]
    }
   ],
   "source": [
    "# remember, the create_vocab function takes two parameters: a corpus of text and 'n' which represents\n",
    "#  the max size of the created vocab. I'm going to make this number very high, but it can be adjusted\n",
    "#  based on if our results are interesting or not.\n",
    "\n",
    "dis_vocab = create_vocab(char_basic['words'], 15000)\n",
    "print('Total vocab = ', len(dis_vocab))\n",
    "\n",
    "# a list of common stop words to use for removing frequent words that are unenlightening:\n",
    "stopwords = {'a', 'an', 'are', 'and', 'but', 'or', 'that', 'this', 'so', \n",
    "             'all', 'at', 'if', 'in', 'i', 'is', 'was', 'by', 'of', 'to', \n",
    "             'the', 'be', 'were'}\n",
    "\n",
    "# Removing stopwords for more enlightening results\n",
    "dis_vocab_nostop = list(set(dis_vocab) - stopwords)\n",
    "print('Total vocab minus stop words = ', len(dis_vocab_nostop))"
   ]
  },
  {
   "cell_type": "markdown",
   "metadata": {},
   "source": [
    "Here, we only had 7 of the above stop words present in our vocabulary, which is not surprising, given that this data was extracted by a very savvy digital humanist who would've likely not collected stop words for each character to begin with. In this case, there is an argument for not filtering any stop words, given the creator of the dataset, but I don't find any of the words in our stop word list above enlightening for this project.\n",
    "\n",
    "Next up, we'll calculate vocabularies for each class, using a for loop:"
   ]
  },
  {
   "cell_type": "code",
   "execution_count": 30,
   "metadata": {
    "collapsed": false
   },
   "outputs": [
    {
     "name": "stdout",
     "output_type": "stream",
     "text": [
      "Total number of rows in char_basic dataset =  119\n",
      "Total words describing with characters with disabilities =  2999\n",
      "Total words describing with characters without disabilities  2419\n"
     ]
    }
   ],
   "source": [
    "disability = Counter()\n",
    "no_disability = Counter()\n",
    "\n",
    "num_rows = char_basic.shape[0]\n",
    "print('Total number of rows in char_basic dataset = ', num_rows)\n",
    "\n",
    "# Figure out how many rows are in youur DataFrame and put that number \n",
    "#  in a variable like 'numrows.' Then iterate through the 'text' column of the data frame.\n",
    "\n",
    "for i in range(num_rows):\n",
    "    counts = tokenize(char_basic['words'][i])\n",
    "    if 'n' in char_basic['has_disability'][i]:\n",
    "        addcounters(counts, no_disability)\n",
    "    elif 'y' in char_basic['has_disability'][i]:\n",
    "        addcounters(counts, disability)\n",
    "\n",
    "dis_ct = len(disability)\n",
    "no_dis_ct = len(no_disability)\n",
    "\n",
    "print('Total words describing with characters with disabilities = ', dis_ct)\n",
    "print('Total words describing with characters without disabilities ', no_dis_ct)"
   ]
  },
  {
   "cell_type": "markdown",
   "metadata": {},
   "source": [
    "So, of the total words for each class--7,079 for characters with disabilities and 5,819 for characters without--we end up with vocabularies just shy of 3000 for our disability characters and 2500 for our no disability characters.\n",
    "\n",
    "We can now use our first two functions of this section to find two versions of the most and least represented words in each class, in this case 50 words for each:"
   ]
  },
  {
   "cell_type": "code",
   "execution_count": 137,
   "metadata": {
    "collapsed": false
   },
   "outputs": [
    {
     "name": "stdout",
     "output_type": "stream",
     "text": [
      "FOR LOG ODDS:\n",
      "TOP VALUES:\n",
      "mustache 2.5649493574615367\n",
      "bargain 2.5649493574615367\n",
      "dad 2.4849066497880004\n",
      "tie 2.0794415416798357\n",
      "responded 2.0794415416798357\n",
      "girlfriend 2.0794415416798357\n",
      "beard 2.0794415416798357\n",
      "spectacles 1.9459101490553132\n",
      "rasped 1.9459101490553132\n",
      "faced 1.9459101490553132\n",
      "woman 1.791759469228055\n",
      "wearing 1.791759469228055\n",
      "thrust 1.791759469228055\n",
      "thief 1.791759469228055\n",
      "tent 1.791759469228055\n",
      "\n",
      "BOTTOM VALUES:\n",
      "rang -2.833213344056216\n",
      "aunt -2.70805020110221\n",
      "wondered -2.6026896854443837\n",
      "wheeled -2.5649493574615367\n",
      "mother -2.5199979695992702\n",
      "sort -2.3978952727983707\n",
      "thumbs -2.3978952727983707\n",
      "pants -2.3025850929940455\n",
      "tells -2.3025850929940455\n",
      "embarrassed -2.1972245773362196\n",
      "enquired -2.1972245773362196\n",
      "starts -2.1972245773362196\n",
      "father -2.0984897366505306\n",
      "cousin -2.0794415416798357\n",
      "frightened -2.0794415416798357\n",
      "\n",
      "\n",
      "FOR DUNNINGS:\n",
      "TOP VALUES:\n",
      "mustache 18.472522071976197\n",
      "bargain 18.472522071976197\n",
      "dad 16.8769550880802\n",
      "throat 15.750153629790725\n",
      "gaze 11.40223703226242\n",
      "husband 10.791808350060874\n",
      "tie 10.514841379831875\n",
      "responded 10.514841379831875\n",
      "girlfriend 10.514841379831875\n",
      "beard 10.514841379831875\n",
      "boots 10.396339323018275\n",
      "chest 9.674982526579017\n",
      "house 9.080016359952728\n",
      "spectacles 8.932228983961625\n",
      "rasped 8.932228983961625\n",
      "\n",
      "BOTTOM VALUES:\n",
      "mother -195.4466664158344\n",
      "thought -68.26984216214623\n",
      "father -65.98077233986645\n",
      "wondered -43.82090999202654\n",
      "room -37.37774220703629\n",
      "asked -34.78775554608738\n",
      "cried -27.14499733824231\n",
      "bed -23.79884462181867\n",
      "sure -20.002466446793548\n",
      "rang -17.988994366829676\n",
      "looks -17.671480206029642\n",
      "aunt -15.649644173063631\n",
      "doing -14.209596105961015\n",
      "wheeled -13.314330036640637\n",
      "cap -13.263943662451524\n"
     ]
    }
   ],
   "source": [
    "total_words = Counter()\n",
    "addcounters(disability, total_words)\n",
    "addcounters(no_disability, total_words)\n",
    "\n",
    "# Create an empty list to hold pairs of (overrepresentation_measure, word) Then iterate through your \n",
    "# vocabulary. For each word, measure overrepresentation using either logodds or signed_dunnings.\n",
    "\n",
    "overrep_words_log = []\n",
    "overrep_words_dunnings = []\n",
    "\n",
    "for wrd in dis_vocab_nostop:\n",
    "    x = signed_dunnings(no_disability, no_dis_ct, disability, dis_ct, wrd)\n",
    "    overrep_words_dunnings.append((x, wrd))\n",
    "\n",
    "for word in dis_vocab_nostop:\n",
    "    x = logodds(no_disability, disability, word)\n",
    "    overrep_words_log.append((x, word))\n",
    "\n",
    "# Finally use the headandtail function to display the top 25 and bottom 25 words in your tuplelist.\n",
    "\n",
    "print('FOR LOG ODDS:')\n",
    "headandtail(overrep_words_log, 15)\n",
    "print('\\n')\n",
    "print('FOR DUNNINGS:')\n",
    "headandtail(overrep_words_dunnings, 15)"
   ]
  },
  {
   "cell_type": "markdown",
   "metadata": {},
   "source": [
    "This is fantastic data, and there a number of interesting things to be found. First, possibly counter-intuitively, there seem to be more verbs associated with characters with disabilities. Considering the substantially more negative sentiment of these characters, there are a lot of words devoted to what they are doing. Given these two facts, you might expect some more sinister verbs, if we believe the idea of the character with the disability as a surrogate monster in fiction, which is a hypothesis heard in some literary circles. Though, we do have \"hated\" and \"frightened\" and \"embarrassed,\" all words that could be nefarious verbs, but also sympathetic adjectives describing a victim. In fact, \"cried,\" \"wondered,\" and \"thought\" are far more prominent for characters with disabilities, and relay at least a neutral disposition, and possibly even a more heroic description. This could, of course, be linked to our selection of books, which often feature main or prominent characters with disabilities.\n",
    "\n",
    "We also get fewer occurrences of nouns that refer to the body for characters with disabilities than those without. This is also surprising, given that many of these characters have tangible physical signs of their disability on or as part of their bodies. In some instances, these characters, such as Almasy in *The English Patient*, have substantial physical deformities that become key parts of their identities. This analysis seems to illustrate that references to physical ailments are either not very prevalent, or the classifier doesn't find them useful.\n",
    "\n",
    "Lastly, we have a surprising and obvious lack of words referring to disability in general, or technology/devices that might help characters manage their disabilities. We have an occurrence of \"wheeled\" under Dunnings and \"wheelchair\" under log odds, but that's about it for clear words describing disabilities or devices specific to them. This is surprising given other classification work I've done where the classifier typically keys right in on the words necessarily unique to each class. This gives me more confidence about potentially deploying a similar classifier on a large corpus of data."
   ]
  },
  {
   "cell_type": "markdown",
   "metadata": {},
   "source": [
    "### Sentiment Analysis Using TextBlob\n",
    "Though the classification and the words it keyed on are fascinating, another clear question related to this project is the sentiment of the set of words associate with characters in both classes. To check sentiment, we'll use [TextBlob](https://textblob.readthedocs.io/en/dev/index.html) which has a nice and handy [built in ability to analyze sentiment](https://textblob.readthedocs.io/en/dev/quickstart.html#sentiment-analysis). One nice feature of TextBlob's sentiment analysis is that it automatically returns an objectivity score for the sentiment score, which clues you in to how accurate TextBlob thinks its sentiment determination is. This is an important extra piece of data for users to employ in deciding how much the sentiment score should be trusted.\n",
    "\n",
    "To get started, we're going to write a simple `for` loop to gather the sentiment and objectivity scores for the words associated with each character in each class, like so:"
   ]
  },
  {
   "cell_type": "code",
   "execution_count": 32,
   "metadata": {
    "collapsed": true
   },
   "outputs": [],
   "source": [
    "dis_sent_list = [ ] # list that will store sentiment values for our vg reviews\n",
    "nodis_sent_list = [ ] # list that will store sentiment values for our mov reviews\n",
    "\n",
    "for i in char_basic.index:\n",
    "        words = char_basic['words'][i]\n",
    "        rev_blob = TextBlob(words)\n",
    "        if char_basic['has_disability'][i] == 'y':\n",
    "            dis_sent_list.append(rev_blob.sentiment)\n",
    "        elif char_basic['has_disability'][i] == 'n':\n",
    "            nodis_sent_list.append(rev_blob.sentiment)"
   ]
  },
  {
   "cell_type": "markdown",
   "metadata": {},
   "source": [
    "Essentially we're looping through our basic dataframe, grabbing the words for each character, creating a TextBlob object for each, and then calling the sentiment method to append the scores to a list specific to if the character has a disability or not. But, as mentioned, this data is less important without objectivity, and we want to separate that score from the sentiment to get averages of each for both classes:"
   ]
  },
  {
   "cell_type": "code",
   "execution_count": 33,
   "metadata": {
    "collapsed": false
   },
   "outputs": [
    {
     "name": "stdout",
     "output_type": "stream",
     "text": [
      "Average sentiment of words describing characters with disabilities      0.017625345807115764\n",
      "Average sentiment of words describing characters without disabilities   0.04331686481874452\n",
      "Average objectivity of words describing characters with disabilities    0.40884537972872176\n",
      "Average objectivity of words describing characters without disabilities 0.44179530619756163\n"
     ]
    }
   ],
   "source": [
    "# first create some lists to store the values\n",
    "dis_sent_only = []\n",
    "nodis_sent_only = []\n",
    "nodis_obj = []\n",
    "dis_obj = []\n",
    "\n",
    "# then we'll use a for loop to separate them for vg data and add them to the appropriate lists\n",
    "for item in dis_sent_list:\n",
    "    sentiment = item[0]\n",
    "    objectivity = item[1]\n",
    "    dis_sent_only.append(sentiment)\n",
    "    dis_obj.append(objectivity)\n",
    "    \n",
    "# print(vg_sent_only)\n",
    "\n",
    "# then repeat for mov data\n",
    "for item in nodis_sent_list:\n",
    "    sentiment = item[0]\n",
    "    objectivity = item[1]\n",
    "    nodis_sent_only.append(sentiment)\n",
    "    nodis_obj.append(objectivity)\n",
    "    \n",
    "# print(mov_sent_only)\n",
    "\n",
    "# generate averages for each list of values\n",
    "dis_sent_avg = sum(dis_sent_only)/len(dis_sent_only)\n",
    "nodis_sent_avg = sum(nodis_sent_only) / len(nodis_sent_only)\n",
    "nodis_obj_avg = sum(nodis_obj) / len(nodis_obj)\n",
    "dis_obj_avg = sum(dis_obj) / len(dis_obj)\n",
    "\n",
    "print('Average sentiment of words describing characters with disabilities', '    ',dis_sent_avg)\n",
    "print('Average sentiment of words describing characters without disabilities', ' ', nodis_sent_avg)\n",
    "print('Average objectivity of words describing characters with disabilities', '  ', dis_obj_avg)\n",
    "print('Average objectivity of words describing characters without disabilities', nodis_obj_avg)"
   ]
  },
  {
   "cell_type": "markdown",
   "metadata": {},
   "source": [
    "These results are interesting--words associatd with characters with disabilitis are substantially more negative than the words for characters without, to the tune of 250% more negative. Objectivity is near even for both classes, but 10% higher for characters without disabilities.\n",
    "\n",
    "These are interesting numbers, but hard to interpret without looking at the distributions of each score, for each class. To do this, we can easily plot the values for each class, against each other. We'll do this using [Matplotlib](https://matplotlib.org/), and [Seaborn](https://seaborn.pydata.org/), a module that makes Matplotlib's plots prettier:"
   ]
  },
  {
   "cell_type": "code",
   "execution_count": 138,
   "metadata": {
    "collapsed": false
   },
   "outputs": [
    {
     "name": "stdout",
     "output_type": "stream",
     "text": [
      "Sentiment distributions compared:\n"
     ]
    },
    {
     "data": {
      "image/png": "[encoded data removed]",
      "text/plain": [
       "<matplotlib.figure.Figure at 0x11cce35f8>"
      ]
     },
     "metadata": {},
     "output_type": "display_data"
    }
   ],
   "source": [
    "import matplotlib.pyplot as plt\n",
    "matplotlib.rcParams['figure.figsize'] = (15.0, 8.0) # changing the default plot size to be bigger to facilitate reading\n",
    "\n",
    "dis_obj_df = pd.DataFrame(dis_obj)\n",
    "# dis_obj_df.head()\n",
    "\n",
    "dis_sent_df = pd.DataFrame(dis_sent_only)\n",
    "# dis_sent_df.head()\n",
    "\n",
    "nodis_obj_df = pd.DataFrame(nodis_obj)\n",
    "# mov_obj_df.head()\n",
    "\n",
    "nodis_sent_df = pd.DataFrame(nodis_sent_only)\n",
    "# mov_sent_df.head()\n",
    "\n",
    "mylabels = ['disability', 'no disability']\n",
    "a = dis_sent_df.plot()\n",
    "nodis_sent_df.plot(ax=a, colormap='viridis')\n",
    "print('Sentiment distributions compared:')\n",
    "plt.legend(mylabels, loc='best', fontsize='x-large')\n",
    "plt.ylabel('Average sentiment of all words', fontsize='x-large')\n",
    "plt.xlabel('Characters', fontsize='x-large')\n",
    "plt.savefig('sent_analysis.pdf', format='pdf', dpi=1000) # saving this figure as a high-quality graphic\n",
    "plt.show()"
   ]
  },
  {
   "cell_type": "markdown",
   "metadata": {},
   "source": [
    "This really helps us interpret our averages for sentiment much more clearly. We see that characters without disabilities have values that group around 0.2 value, with a smaller portion above and below. Meanwhile, the characters without disabilities have more varied distribution, which results in an average sentiment closer to neutral, which affects the objectivity negatively. But, to confirm, let's take a look at the objectivity plot:"
   ]
  },
  {
   "cell_type": "code",
   "execution_count": 139,
   "metadata": {
    "collapsed": false
   },
   "outputs": [
    {
     "name": "stdout",
     "output_type": "stream",
     "text": [
      "Objectivity of sentiment distributions compared:\n"
     ]
    },
    {
     "data": {
      "image/png": "[encoded data removed]",
      "text/plain": [
       "<matplotlib.figure.Figure at 0x11ccd0c50>"
      ]
     },
     "metadata": {},
     "output_type": "display_data"
    }
   ],
   "source": [
    "c = dis_obj_df.plot()\n",
    "nodis_obj_df.plot(ax=c, colormap='viridis')\n",
    "print('Objectivity of sentiment distributions compared:')\n",
    "plt.legend(mylabels, loc='upper right', fontsize='x-large')\n",
    "plt.ylabel('Average objectivity of sentiment', fontsize='x-large')\n",
    "plt.xlabel('Characters', fontsize='x-large')\n",
    "plt.savefig('sent_analysis_obj.pdf', format='pdf', dpi=1000) # saving this figure as a high-quality graphic\n",
    "plt.show()"
   ]
  },
  {
   "cell_type": "markdown",
   "metadata": {},
   "source": [
    "This plot shows how wildly objectivity jumps based on how polar the sentiments are for each character.\n",
    "\n",
    "All-in-all our sentiment analysis mostly confirms assumptions that most researchers in disability studies would have made about depictions of characters with disabilities in fiction: that they'd mostly be more negative than characters without disabilities. But this is by a huge margin--about 2.5 times more negative. However, given that our corpus is relatively biased toward leading or at least strong supporting characters with disabilities, this is slightly surprising. I'm still wary of potential quirks here with this data since the disparity is so high, but it could be that the problem with character depictions is just much greater than expected."
   ]
  },
  {
   "cell_type": "markdown",
   "metadata": {},
   "source": [
    "### Future Work\n",
    "This project has been fascinating for me, and a great learning experience. Now that I'm more familiar with the character data, it'd be very interesting to explore the best classifier to use for this type of data and then optimize this code to run at scale on all the characters. I think there would be some very interesting developments with regard to both compiling a corpus of characters in fiction that have disabilities that could be shared for study, as well as possibly uncovering characters who might have disabilities that were spoken about in coded, more discrete terms--something that has not been atypical for people with disabilities in real life and in media throughout all of history.\n",
    "\n",
    "The other potential extra facet to include is time. I'd be fascinated to see if and how sentiment and top associated words change over time for characters with disabilities. I think the layman thought would be that we are getting more accepting of individuals with disabilities, and thus our words for these characters might more resemble those of other characters, which could make classification even harder and impact sentiment. That would be another logical next step to this proof-of-concept."
   ]
  },
  {
   "cell_type": "markdown",
   "metadata": {},
   "source": [
    "### Acknowledgements\n",
    "This project has been hugely aided by Dr. Ted Underwood, the course instructor and author of many pieces of code here ranging from seeds upon which I built to some of the finished functions I employed. Dr. Underwood also graciously helped me scope and trouble shoot this project and also made available data that is still fairly new and pretty unused. I'm very grateful for his time and efforts on all of these.\n",
    "\n",
    "Dr. Peter Organisciak, my instructor for another course this semester, LIS 590TXL Text Mining, has also been quite helpful in increasing my awareness of other modules and libraries available for this type of work, as well as general text analysis troubleshooting.\n",
    "\n",
    "Also thank you to Dr. Underwood and Dr. Bamman who extracted this amazing character data I used and to HathiTrust who first made this data available for them to do so."
   ]
  }
 ],
 "metadata": {
  "anaconda-cloud": {},
  "kernelspec": {
   "display_name": "Python [conda root]",
   "language": "python",
   "name": "conda-root-py"
  },
  "language_info": {
   "codemirror_mode": {
    "name": "ipython",
    "version": 3
   },
   "file_extension": ".py",
   "mimetype": "text/x-python",
   "name": "python",
   "nbconvert_exporter": "python",
   "pygments_lexer": "ipython3",
   "version": "3.5.3"
  }
 },
 "nbformat": 4,
 "nbformat_minor": 1
}
