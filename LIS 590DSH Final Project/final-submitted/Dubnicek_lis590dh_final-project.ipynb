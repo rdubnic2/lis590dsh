{
 "cells": [
  {
   "cell_type": "markdown",
   "metadata": {},
   "source": [
    "\n",
    "\n",
    "\n",
    "\n",
    "## Classifying Characters with Disabilities in Fiction from the Words Most Associated with Them: A Pilot Project\n",
    "Ryan Dubnicek (May 11, 2017)"
   ]
  },
  {
   "cell_type": "markdown",
   "metadata": {},
   "source": [
    "### Introduction & Project Summary\n",
    "This project seeks to build a classifier in Python, using naïve Bayes, to pilot identification of characters with disabilities in fiction. I use data resulting from David Bamman and Ted Underwood’s work with HathiTrust fiction data using Bamman’s Book NLP  pipeline. I identified 54 characters from just over 30 volumes that had disabilities of some kind—for this project, disabilities are defined as both physical and mental, as well as conditions that are found in the Diagnostic and Statistical Manual of Mental Disorders, Fifth Edition (DSM-5). This is certainly not a perfect definition, but it’s one to use to ground my classifications, and one that is wide enough to not prohibit this type of study at all due to lack of training data.\n",
    "\n",
    "In the end, I was able to us naïve Bayes to train a classifier that reliably picked out characters with disabilities amongst the ~120 characters chosen for study, with a 92% average accuracy. After completing the classifier, and without the compute resources to extend it run against characters for all  ~94,000 volumes of fiction against which Book NLP was run to extract data, I decided to take a deeper look into the words associated with each class of characters. I used TextBlob  to run sentiment analysis and objectivity of said analysis, against words for each character, and also used some homegrown functions that leverage Dunnings log likelihood to pull the most overrepresented and underrepresented words for each class of character. All together, this data affirmed some assumptions that many in disability studies would’ve made prior to this project: fewer action words were in the top words associated with characters with disabilities and average sentiment is 2.5 times lower than the words that are associated with characters without. However, objectivity of sentiment for words associated with characters with disabilities was lower, which was a surprise, given the radically different average sentiment, and the distribution of sentiment per character, with most characters sentiments below the neutral line, as compared to a normal distribution."
   ]
  },
  {
   "cell_type": "code",
   "execution_count": 854,
   "metadata": {
    "collapsed": false
   },
   "outputs": [],
   "source": [
    "import csv, os, math, random\n",
    "import pandas as pd\n",
    "import numpy as np\n",
    "from collections import Counter\n",
    "from textblob import TextBlob\n",
    "import random\n",
    "import matplotlib\n",
    "import seaborn\n",
    "%matplotlib inline"
   ]
  },
  {
   "cell_type": "markdown",
   "metadata": {},
   "source": [
    "### Preface\n",
    "This notebook is a companion to a short write-up, available [here](), that makes up my final project for LID 590DSH, Data Science in the Humanities, taught by Professor Ted Underwood at the UIUC School of Information Sciences. This project uses characters and the words associated with them that were extracted from fiction in [HathiTrust (HT)](https://www.hathitrust.org). I employ a number of functions developed over the course of the class, most authored by or seeded by Dr. Underwood, and modified--to varying levels--by me. I don't purport necessarily that they are the best version of their methods, for instance, I employ a homegrown naive Bayes classifier rather than use TextBlob's or Scikit-learn's versions. However, each is understandable to me, a relative text mining novice, and shamefully, but truthfully fierce statistics novice. Naive Bayes may not be the best classifier in this instance either, but it is a classifier I understand and have experience with. Should this project ever grow from this relative pilot project, a look into which classifier might best suit my needs is a must.\n",
    "\n",
    "If you have any questions, please feel free to drop me a note at rdubnicek@gmail.com"
   ]
  },
  {
   "cell_type": "markdown",
   "metadata": {
    "collapsed": false,
    "scrolled": true
   },
   "source": [
    "### Data Collection and Cleaning\n",
    "As my write-up mentions, I worked off of character data that Ted Underwood and David Bamman, using Bamman's [Book NLP](https://github.com/dbamman/book-nlp), a natural language processing (NLP) pipeline that scales specifically for books and other long texts, extracted from fiction in HT. This data was extracted into json, and parsed by Dr. Underwood, using a munging python notebook. My entry into the data came after characters for my small corpus were gathered from the overall character data and sent to me in .csv form. At this point, the data looked like this:"
   ]
  },
  {
   "cell_type": "code",
   "execution_count": null,
   "metadata": {
    "collapsed": true
   },
   "outputs": [],
   "source": []
  },
  {
   "cell_type": "code",
   "execution_count": 850,
   "metadata": {
    "collapsed": false
   },
   "outputs": [],
   "source": [
    "# more data massaging by adding a 'bookname' column that allows me to better identify the books in question,\n",
    "#  in preparation for identifying the characters with disabilities (manually)\n",
    "\n",
    "# for i in ch_df.index:\n",
    "#         bookid = ch_df['bookid'][i]\n",
    "#         if bookid == '6479':\n",
    "#             ch_df['bookname'][i] = 'Notre Dame de Paris'\n",
    "#         elif bookid == '8469':\n",
    "#             ch_df['bookname'][i] = 'Wuthering Heights'\n",
    "#         elif bookid == 'mdp.39015000608102':\n",
    "#             ch_df['bookname'][i] = 'Winesburg, Ohio'\n",
    "#         elif bookid == 'mdp.39015002311556':\n",
    "#             ch_df['bookname'][i] = 'The Secret Garden'\n",
    "#         elif bookid == 'uc2.ark+=13960=t22b8w678':\n",
    "#             ch_df['bookname'][i] = 'The Crux'\n",
    "#         elif bookid == 'inu.30000003130071':\n",
    "#             ch_df['bookname'][i] = \"Lady Chatterley's Lover\"\n",
    "#         elif bookid == 'mdp.39015002153180':\n",
    "#             ch_df['bookname'][i] = 'A Good Man is Hard to Find'\n",
    "#         elif bookid == 'mdp.39015002260167':\n",
    "#             ch_df['bookname'][i] = 'Of Mice and Men'\n",
    "#         elif bookid == 'mdp.39015008102165':\n",
    "#             ch_df['bookname'][i] = 'In This Sign'\n",
    "#         elif bookid == 'mdp.39015008821251':\n",
    "#             ch_df['bookname'][i] = 'The Illearth War'\n",
    "#         elif bookid == 'mdp.39015043002289':\n",
    "#             ch_df['bookname'][i] = 'Johnny Got His Gun'\n",
    "#         elif bookid == 'pst.000022105387':\n",
    "#             ch_df['bookname'][i] = 'The Wounded Land'\n",
    "#         elif bookid == 'uc1.b4439246':\n",
    "#             ch_df['bookname'][i] = 'The One Tree'\n",
    "#         elif bookid == 'mdp.39015040597794':\n",
    "#             ch_df['bookname'][i] = 'Flowers for Algernon'\n",
    "#         elif bookid == 'mdp.39015062063501':\n",
    "#             ch_df['bookname'][i] = 'The Curious Incident of the Dog in the Night-Time'\n",
    "#         elif bookid == 'mdp.39015054102655':\n",
    "#             ch_df['bookname'][i] = 'The English Patient'\n",
    "#         elif bookid == 'uc1.32106011264659':\n",
    "#             ch_df['bookname'][i] = 'Cathedral'\n",
    "#         elif bookid == 'pst.000044192167':\n",
    "#             ch_df['bookname'][i] = 'The Heart is a Lonely Hunter'\n",
    "#         elif bookid == 'mdp.39015054067759':\n",
    "#             ch_df['bookname'][i] = 'The Things They Carried'\n",
    "#         elif bookid == 'mdp.39015046349141':\n",
    "#             ch_df['bookname'][i] = 'The Sound and the Fury'\n",
    "#         elif bookid == 'mdp.39015040081708':\n",
    "#             ch_df['bookname'][i] = 'Geek Love'\n",
    "#         elif bookid == 'pst.000018729719':\n",
    "#             ch_df['bookname'][i] = 'The Bell Jar'\n",
    "#         elif bookid == 'uc1.32106010927215':\n",
    "#             ch_df['bookname'][i] = \"One Flew over the Cuckoo's Nest\"\n",
    "#         elif bookid == 'uc1.b3462870':\n",
    "#             ch_df['bookname'][i] = 'Alice in Bed'\n",
    "#         elif bookid == 'mdp.39015028400326':\n",
    "#             ch_df['bookname'][i] = 'Jewel'\n",
    "#         elif bookid == 'mdp.39015063339868':\n",
    "#             ch_df['bookname'][i] = 'We Are All Welcome Here'\n",
    "#         elif bookid == 'uc1.32106002122734':\n",
    "#             ch_df['bookname'][i] = 'To Kill A Mockingbird'\n",
    "#         elif bookid == 'uc1.32106014098278':\n",
    "#             ch_df['bookname'][i] = \"The Optimist's Daughter\"\n",
    "#         elif bookid == 'uc1.$b322793':\n",
    "#             ch_df['bookname'][i] = 'The Last September'\n",
    "#         elif bookid == 'uc1.$b784307':\n",
    "#             ch_df['bookname'][i] = 'Back'\n",
    "\n",
    "# ch_df.head(50)\n",
    "\n",
    "# title_list = []\n",
    "\n",
    "# for i in ch_df.index:\n",
    "#         bookname = ch_df['bookname'][i]\n",
    "#         title_list.append(bookname)\n",
    "# titles = set(title_list)\n",
    "# for title in titles:\n",
    "#     print(title)"
   ]
  },
  {
   "cell_type": "code",
   "execution_count": 851,
   "metadata": {
    "collapsed": false,
    "scrolled": true
   },
   "outputs": [],
   "source": [
    "# one_flew_char = ['Thomas Covenenant','Charley', 'Mr. Summers','McMurphy','William Bibbit','R.P. McMurphy','Fredrickson','Bruce','Mr. Bancini','Mr. Bromden','Williams'\n",
    "#            'Mr. Bibbit','Ruckly', 'Martini','Sefelt', 'Ellis','Billy Boy','Billy','Matterson','George','']\n",
    "\n",
    "# geek_love_list = ['Arturo','Iphy','Olympia Binewski','Fortunato','Elly','Electra','Iphigenia','Miss Olympia','Chick']\n",
    "\n",
    "# for i in ch_df.index:\n",
    "#         bookname = ch_df['bookname'][i]\n",
    "#         if bookname == \"The Heart is a Lonely Hunter\":\n",
    "#             name = ch_df['name'][i]\n",
    "#             words = ch_df['words'][i]\n",
    "# #             if name == 'Joe':\n",
    "# #                 print(words)\n",
    "#             print(name)\n",
    "#             if name == 'Quasimodo':\n",
    "#                 ch_df['has_disability'][i] = 1\n",
    "# #             elif name == 'Antonapoulous':\n",
    "# #                 ch_df['has_disability'][i] = 1\n",
    "#             else:\n",
    "#                 ch_df['has_disability'][i] = 0\n",
    "\n",
    "# true_titles = set(titles)\n",
    "# for line in true_titles:\n",
    "#     print(line)\n",
    "\n",
    "# ch_df_copy = ch_df\n",
    "\n",
    "\n",
    "\n",
    "# ch_df.head(100)"
   ]
  },
  {
   "cell_type": "code",
   "execution_count": null,
   "metadata": {
    "collapsed": true
   },
   "outputs": [],
   "source": []
  },
  {
   "cell_type": "code",
   "execution_count": 852,
   "metadata": {
    "collapsed": false,
    "scrolled": true
   },
   "outputs": [],
   "source": [
    "# ch_df['has_disability'] = 0\n",
    "\n",
    "\n",
    "# ch_df.head()"
   ]
  },
  {
   "cell_type": "code",
   "execution_count": 853,
   "metadata": {
    "collapsed": false
   },
   "outputs": [],
   "source": [
    "# dis_char_list = []\n",
    "# no_dis_char_list = []\n",
    "\n",
    "# for i in ch_df.index:\n",
    "#     bookname = ch_df['bookname'][i]\n",
    "#     dis = ch_df['has_disability'][i]\n",
    "#     if dis == 1:\n",
    "#         name = ch_df['name'][i]\n",
    "#         dis = ch_df['has_disability'][i]\n",
    "#         dis_char_list.append(name)\n",
    "#         print(name)\n",
    "#     elif dis != 1:\n",
    "#         no_dis_char_list.append(name)\n",
    "#             words = ch_df['words'][i]\n",
    "#             if name == 'Joe':\n",
    "#                 print(words)\n",
    "#             print(name)\n",
    "#             if name == 'Quasimodo':\n",
    "#                 ch_df['has_disability'][i] = 1\n",
    "#             elif name == 'Antonapoulous':\n",
    "#                 ch_df['has_disability'][i] = 1\n",
    "#             else:\n",
    "#                 ch_df['has_disability'][i] = 0\n",
    "\n",
    "# print('There are', len(dis_char_list), 'characters with disabilities in this corpus.')\n",
    "# print('There are', len(no_dis_char_list), 'characters with disabilities in this corpus.')"
   ]
  },
  {
   "cell_type": "code",
   "execution_count": null,
   "metadata": {
    "collapsed": false
   },
   "outputs": [],
   "source": [
    "ch_df_copy = ch_df\n"
   ]
  },
  {
   "cell_type": "code",
   "execution_count": null,
   "metadata": {
    "collapsed": false
   },
   "outputs": [],
   "source": [
    "ch_df_copy.shape"
   ]
  },
  {
   "cell_type": "code",
   "execution_count": 178,
   "metadata": {
    "collapsed": false
   },
   "outputs": [
    {
     "data": {
      "text/plain": [
       "(705, 5)"
      ]
     },
     "execution_count": 178,
     "metadata": {},
     "output_type": "execute_result"
    }
   ],
   "source": []
  },
  {
   "cell_type": "code",
   "execution_count": 245,
   "metadata": {
    "collapsed": true
   },
   "outputs": [],
   "source": [
    "# cdata = open('test.csv', 'r')\n",
    "# # print(cdata)\n",
    "# ch_df_copy = pd.read_csv(cdata, encoding='utf-8')"
   ]
  },
  {
   "cell_type": "code",
   "execution_count": 246,
   "metadata": {
    "collapsed": false
   },
   "outputs": [
    {
     "name": "stdout",
     "output_type": "stream",
     "text": [
      "this many no dis words: 16638\n",
      "this many dis words: 14751\n"
     ]
    }
   ],
   "source": [
    "dis_wrd_ct = 0\n",
    "no_dis_wrd_ct = 0\n",
    "no_dis_words = []\n",
    "# # no_dis_row = 0\n",
    "dis_words = []\n",
    "\n",
    "for i in ch_df_copy.index:\n",
    "    blob = TextBlob(ch_df_copy['words'][i])\n",
    "    words = blob.words\n",
    "    dis = ch_df_copy['has_disability'][i]\n",
    "    if dis == 0:\n",
    "        no_dis_wrd_ct += len(words)\n",
    "print('this many no dis words:', no_dis_wrd_ct)\n",
    "\n",
    "\n",
    "# for i in ch_df_copy.index:\n",
    "#     dis = ch_df_copy['has_disability'][i]\n",
    "#     if dis == 0:\n",
    "#         blob = TextBlob(ch_df_copy['words'][i])\n",
    "#         wrds = blob.words\n",
    "#         # num = len(wrds)\n",
    "#         no_dis_words.append(wrds[0:23])\n",
    "#         # ch_df_copy.drop(i, inplace=True)\n",
    "\n",
    "# # print(no_dis_words)     \n",
    "        \n",
    "# # print('new shape is', ch_df_copy.shape)\n",
    "\n",
    "for i in ch_df_copy.index:\n",
    "    blob = TextBlob(ch_df_copy['words'][i])\n",
    "    words = blob.words\n",
    "    dis = ch_df_copy['has_disability'][i]\n",
    "    if dis == 1:\n",
    "#         dis_words.append(words)\n",
    "        dis_wrd_ct += len(words)\n",
    "print('this many dis words:', dis_wrd_ct)\n",
    "\n",
    "# # test_words = ['alls my life i had to fight', 'if somebody kill my son then somebody gettin killed', 'i remember at michaels house in the living room when you kissed my neck and i almost touched your blouse']\n",
    "\n",
    "# num = 0\n",
    "\n",
    "# for i in ch_df_copy.index:\n",
    "#     dis = ch_df_copy['has_disability'][i]\n",
    "#     words = ch_df_copy['words'][i]\n",
    "#     if dis == 0 and len(words) < 40:\n",
    "#         words = ch_df_copy['words'][i]\n",
    "#         no_dis_words.append(words)\n",
    "\n",
    "\n",
    "# for i in ch_df_copy.index:\n",
    "#     dis = ch_df_copy['has_disability'][i]\n",
    "#     words = ch_df_copy['words'][i]\n",
    "#     if dis == 0 and len(words) < 40:\n",
    "#         ch_df_copy.drop(i, inplace=True)\n",
    "\n",
    "# ch_df_copy.shape\n",
    "# no_dis_df.head()\n",
    "\n",
    "# no_dis_words2 = []\n",
    "\n",
    "# for i in ch_df_copy.index:\n",
    "#     word_list = []\n",
    "#     dis = ch_df_copy['has_disability'][i]\n",
    "#     words = ch_df_copy['words'][i]\n",
    "#     if dis == 0:\n",
    "#         split = words.split()\n",
    "#         word_list.append(split)\n",
    "#         words = concat()\n",
    "\n",
    "# f1 score--precision: scikit learn version of MNB, \n",
    "#  will give predicitons by row, then you can calculate the true negatives, true positives, precision, \n",
    "#  f1 is close to an average between precision and recall. model_selection (cross val score) can pass a parameter for f1 score object as a\n",
    "#  parameter and it should use that to cross validate and return the f1.\n",
    "\n"
   ]
  },
  {
   "cell_type": "code",
   "execution_count": 206,
   "metadata": {
    "collapsed": true
   },
   "outputs": [],
   "source": []
  },
  {
   "cell_type": "code",
   "execution_count": 247,
   "metadata": {
    "collapsed": true
   },
   "outputs": [],
   "source": []
  },
  {
   "cell_type": "code",
   "execution_count": 741,
   "metadata": {
    "collapsed": false
   },
   "outputs": [],
   "source": [
    "# for i in ch_df_copy.index:\n",
    "#     dis = ch_df_copy['has_disability'][i]\n",
    "#     words = ch_df_copy['words'][i]\n",
    "#     if dis == 0 and i%5 == int:\n",
    "#         ch_df_copy.drop(i, inplace=True)\n",
    "\n",
    "# print(ch_df_copy.shape)        \n",
    "# ch_df_copy.head(25)\n",
    "\n",
    "\n",
    "# for i in ch_df_copy2.index:\n",
    "#     dis = ch_df_copy2['has_disability'][i]\n",
    "#     words = ch_df_copy2['words'][i]\n",
    "#     if dis == 0 and len(words) < 150 and i%2 == 0:\n",
    "#         print('found one')\n",
    "#         ch_df_copy2.drop(i, inplace=True)"
   ]
  },
  {
   "cell_type": "code",
   "execution_count": 249,
   "metadata": {
    "collapsed": false
   },
   "outputs": [
    {
     "name": "stdout",
     "output_type": "stream",
     "text": [
      "this many dis words: 14751\n"
     ]
    }
   ],
   "source": [
    "# dis_wrd_ct = 0\n",
    "\n",
    "# for i in ch_df_copy.index:\n",
    "#     blob = TextBlob(ch_df_copy['words'][i])\n",
    "#     words = blob.words\n",
    "#     dis = ch_df_copy['has_disability'][i]\n",
    "#     if dis == 1:\n",
    "#         # dis_words.append(words)\n",
    "#         dis_wrd_ct += len(words)\n",
    "# print('this many dis words:', dis_wrd_ct)"
   ]
  },
  {
   "cell_type": "code",
   "execution_count": 216,
   "metadata": {
    "collapsed": true
   },
   "outputs": [],
   "source": [
    "# ch_df_copy.to_csv('test.csv')"
   ]
  },
  {
   "cell_type": "code",
   "execution_count": 742,
   "metadata": {
    "collapsed": false
   },
   "outputs": [],
   "source": [
    "# chardat= open('/Users/rdubnic2/Desktop/LIS 590DSH Final Project/test.csv', 'r')\n",
    "# char_df = pd.read_csv(chardat, encoding='utf-8')\n",
    "\n",
    "# char_df.head()"
   ]
  },
  {
   "cell_type": "code",
   "execution_count": 743,
   "metadata": {
    "collapsed": false
   },
   "outputs": [],
   "source": [
    "# del char_df['Unnamed: 0']\n",
    "\n",
    "# char_df.head()"
   ]
  },
  {
   "cell_type": "code",
   "execution_count": 792,
   "metadata": {
    "collapsed": false
   },
   "outputs": [
    {
     "data": {
      "text/html": [
       "<div>\n",
       "<table border=\"1\" class=\"dataframe\">\n",
       "  <thead>\n",
       "    <tr style=\"text-align: right;\">\n",
       "      <th></th>\n",
       "      <th>bookid</th>\n",
       "      <th>name</th>\n",
       "      <th>has_disability</th>\n",
       "      <th>words</th>\n",
       "      <th>bookname</th>\n",
       "    </tr>\n",
       "  </thead>\n",
       "  <tbody>\n",
       "    <tr>\n",
       "      <th>0</th>\n",
       "      <td>uc1.$b322793</td>\n",
       "      <td>Hugo</td>\n",
       "      <td>0</td>\n",
       "      <td>stayed told expressed had sold set expected ha...</td>\n",
       "      <td>The Last September</td>\n",
       "    </tr>\n",
       "    <tr>\n",
       "      <th>1</th>\n",
       "      <td>uc1.32106002122734</td>\n",
       "      <td>Tom Robinson</td>\n",
       "      <td>0</td>\n",
       "      <td>done do sat raised showed was lived was passed...</td>\n",
       "      <td>To Kill A Mockingbird</td>\n",
       "    </tr>\n",
       "    <tr>\n",
       "      <th>2</th>\n",
       "      <td>uc1.$b322793</td>\n",
       "      <td>Gerald</td>\n",
       "      <td>0</td>\n",
       "      <td>concluded missed conducted rejoined stand said...</td>\n",
       "      <td>The Last September</td>\n",
       "    </tr>\n",
       "    <tr>\n",
       "      <th>3</th>\n",
       "      <td>pst.000044192167</td>\n",
       "      <td>Copeland</td>\n",
       "      <td>0</td>\n",
       "      <td>sat sat cleared had read understand read sense...</td>\n",
       "      <td>The Heart is a Lonely Hunter</td>\n",
       "    </tr>\n",
       "    <tr>\n",
       "      <th>4</th>\n",
       "      <td>mdp.39015040081708</td>\n",
       "      <td>Miss Lick</td>\n",
       "      <td>0</td>\n",
       "      <td>offered pay swears pay kept backed sat said wa...</td>\n",
       "      <td>Geek Love</td>\n",
       "    </tr>\n",
       "    <tr>\n",
       "      <th>5</th>\n",
       "      <td>pst.000044192167</td>\n",
       "      <td>Jake</td>\n",
       "      <td>0</td>\n",
       "      <td>come noticed leaned awoke slept lay thought re...</td>\n",
       "      <td>The Heart is a Lonely Hunter</td>\n",
       "    </tr>\n",
       "    <tr>\n",
       "      <th>6</th>\n",
       "      <td>6479</td>\n",
       "      <td>Louis</td>\n",
       "      <td>0</td>\n",
       "      <td>remember xiv xi said xi spoke patted troubled ...</td>\n",
       "      <td>Notre Dame de Paris</td>\n",
       "    </tr>\n",
       "  </tbody>\n",
       "</table>\n",
       "</div>"
      ],
      "text/plain": [
       "               bookid          name  has_disability  \\\n",
       "0        uc1.$b322793          Hugo               0   \n",
       "1  uc1.32106002122734  Tom Robinson               0   \n",
       "2        uc1.$b322793        Gerald               0   \n",
       "3    pst.000044192167      Copeland               0   \n",
       "4  mdp.39015040081708     Miss Lick               0   \n",
       "5    pst.000044192167          Jake               0   \n",
       "6                6479         Louis               0   \n",
       "\n",
       "                                               words  \\\n",
       "0  stayed told expressed had sold set expected ha...   \n",
       "1  done do sat raised showed was lived was passed...   \n",
       "2  concluded missed conducted rejoined stand said...   \n",
       "3  sat sat cleared had read understand read sense...   \n",
       "4  offered pay swears pay kept backed sat said wa...   \n",
       "5  come noticed leaned awoke slept lay thought re...   \n",
       "6  remember xiv xi said xi spoke patted troubled ...   \n",
       "\n",
       "                       bookname  \n",
       "0            The Last September  \n",
       "1         To Kill A Mockingbird  \n",
       "2            The Last September  \n",
       "3  The Heart is a Lonely Hunter  \n",
       "4                     Geek Love  \n",
       "5  The Heart is a Lonely Hunter  \n",
       "6           Notre Dame de Paris  "
      ]
     },
     "execution_count": 792,
     "metadata": {},
     "output_type": "execute_result"
    }
   ],
   "source": [
    "# characters.head()\n",
    "\n",
    "# del characters['bookid']\n",
    "# del characters['bookname']\n",
    "# del characters['name']\n",
    "\n",
    "# for i in characters_df.index:\n",
    "#     dis = characters_df['has_disability'][i]\n",
    "#     if dis == 1:\n",
    "#         dis = 'y'\n",
    "#     else:\n",
    "#         dis = 'n'\n",
    "\n",
    "characters_df[:7]\n",
    "        \n",
    "# characters_df.head(15)\n",
    "# characters_df['has_disability'].values\n",
    "# characters['has_disability'].values"
   ]
  },
  {
   "cell_type": "code",
   "execution_count": 822,
   "metadata": {
    "collapsed": true
   },
   "outputs": [],
   "source": [
    "def dis_test(a_data_frame, rowidx):\n",
    "    if a_data_frame['has_disability'][rowidx] == 1: # checking our binary column for identification of each review\n",
    "        return 'y'\n",
    "    else:\n",
    "        return 'n'"
   ]
  },
  {
   "cell_type": "code",
   "execution_count": 807,
   "metadata": {
    "collapsed": false
   },
   "outputs": [
    {
     "data": {
      "text/plain": [
       "'n'"
      ]
     },
     "execution_count": 807,
     "metadata": {},
     "output_type": "execute_result"
    }
   ],
   "source": [
    "dis_test(char_df, 8)"
   ]
  },
  {
   "cell_type": "code",
   "execution_count": 855,
   "metadata": {
    "collapsed": false
   },
   "outputs": [
    {
     "data": {
      "text/html": [
       "<div>\n",
       "<table border=\"1\" class=\"dataframe\">\n",
       "  <thead>\n",
       "    <tr style=\"text-align: right;\">\n",
       "      <th></th>\n",
       "      <th>words</th>\n",
       "      <th>has_disability</th>\n",
       "      <th>fold</th>\n",
       "    </tr>\n",
       "  </thead>\n",
       "  <tbody>\n",
       "    <tr>\n",
       "      <th>0</th>\n",
       "      <td>stayed told expressed had sold set expected ha...</td>\n",
       "      <td>n</td>\n",
       "      <td>4</td>\n",
       "    </tr>\n",
       "    <tr>\n",
       "      <th>1</th>\n",
       "      <td>done do sat raised showed was lived was passed...</td>\n",
       "      <td>n</td>\n",
       "      <td>0</td>\n",
       "    </tr>\n",
       "    <tr>\n",
       "      <th>2</th>\n",
       "      <td>concluded missed conducted rejoined stand said...</td>\n",
       "      <td>n</td>\n",
       "      <td>2</td>\n",
       "    </tr>\n",
       "    <tr>\n",
       "      <th>3</th>\n",
       "      <td>sat sat cleared had read understand read sense...</td>\n",
       "      <td>n</td>\n",
       "      <td>2</td>\n",
       "    </tr>\n",
       "    <tr>\n",
       "      <th>4</th>\n",
       "      <td>offered pay swears pay kept backed sat said wa...</td>\n",
       "      <td>n</td>\n",
       "      <td>1</td>\n",
       "    </tr>\n",
       "  </tbody>\n",
       "</table>\n",
       "</div>"
      ],
      "text/plain": [
       "                                               words has_disability  fold\n",
       "0  stayed told expressed had sold set expected ha...              n     4\n",
       "1  done do sat raised showed was lived was passed...              n     0\n",
       "2  concluded missed conducted rejoined stand said...              n     2\n",
       "3  sat sat cleared had read understand read sense...              n     2\n",
       "4  offered pay swears pay kept backed sat said wa...              n     1"
      ]
     },
     "execution_count": 855,
     "metadata": {},
     "output_type": "execute_result"
    }
   ],
   "source": [
    "# labels = char_df['has_disability']\n",
    "# words = char_df['words']\n",
    "\n",
    "# source = []\n",
    "# fold = []\n",
    "\n",
    "# for idx in char_df.index: # iterating through a data frame, by row, based on index\n",
    "#     source.append(dis_test(char_df, idx)) # using the dis_test function above to populate the source column\n",
    "#     fold.append(random.sample(list(range(5)), 1)[0]) # using random.sample to populate the source column\n",
    "\n",
    "# source = pd.Series(source, index = char_df.index) # creating a Pandas series out of the above source info\n",
    "# fold = pd.Series(fold, index = char_df.index) # creating a Pandas series out of the above fold info\n",
    "\n",
    "# char_basic = pd.concat([words, source, fold], axis = 1) # creating a new data frame with all of the above info\n",
    "# char_basic.columns = ['words', 'has_disability', 'fold'] # renaming columns for our use\n",
    "\n",
    "char_basic.head()"
   ]
  },
  {
   "cell_type": "code",
   "execution_count": 824,
   "metadata": {
    "collapsed": false
   },
   "outputs": [
    {
     "name": "stdout",
     "output_type": "stream",
     "text": [
      "Training set includes 92\n",
      "Test set includes 27\n"
     ]
    }
   ],
   "source": [
    "test_set = char_basic[char_basic['fold'] == 4] # an arbitrary choice\n",
    "train_set = char_basic[char_basic['fold'] != 4]\n",
    "print('Training set includes ' + str(train_set.shape[0]))\n",
    "print('Test set includes ' + str(test_set.shape[0]))\n",
    "\n",
    "# train_labels = train_set['has_disability']\n",
    "# test_labels = test_set['has_disability']\n",
    "# train_words = train_set['words']\n",
    "# test_words = test_set['words']\n",
    "# # print('Test words:',len(test_words))\n",
    "# # print('Test labels:',len(test_labels))\n",
    "# # print('Train words:',len(train_words))\n",
    "# # print('Train labels:',len(train_labels))"
   ]
  },
  {
   "cell_type": "code",
   "execution_count": 336,
   "metadata": {
    "collapsed": false
   },
   "outputs": [],
   "source": []
  },
  {
   "cell_type": "code",
   "execution_count": 337,
   "metadata": {
    "collapsed": true
   },
   "outputs": [],
   "source": []
  },
  {
   "cell_type": "code",
   "execution_count": 388,
   "metadata": {
    "collapsed": false
   },
   "outputs": [],
   "source": []
  },
  {
   "cell_type": "code",
   "execution_count": 401,
   "metadata": {
    "collapsed": false
   },
   "outputs": [],
   "source": []
  },
  {
   "cell_type": "code",
   "execution_count": 825,
   "metadata": {
    "collapsed": false
   },
   "outputs": [],
   "source": [
    "def tokenize(astring):\n",
    "    ''' Breaks a string into words, and counts them.\n",
    "    Designed so it strips punctuation and lowercases everything,\n",
    "    but doesn't separate hashtags and at-signs.\n",
    "    '''\n",
    "    wordcounts = Counter()\n",
    "    # create a counter to hold the counts\n",
    "    \n",
    "    tokens = astring.split()\n",
    "    for t in tokens:\n",
    "        word = t.strip(',.!?:;-—()<>[]/\"\\'').lower()\n",
    "        wordcounts[word] += 1\n",
    "        \n",
    "    return wordcounts\n",
    "\n",
    "def addcounters(counter2add, countersum):\n",
    "    ''' Adds all the counts in counter2add to countersum.\n",
    "    Because Counters(like dictionaries) are mutable, it\n",
    "    doesn't need to return anything.\n",
    "    '''\n",
    "    \n",
    "    for key, value in counter2add.items():\n",
    "        countersum[key] += value\n",
    "\n",
    "def create_vocab(seq_of_strings, n):\n",
    "    ''' Given a sequence of text snippets, this function\n",
    "    returns the n most common words. We'll use this to\n",
    "    create a limited 'vocabulary'.\n",
    "    '''\n",
    "    vocab = Counter()\n",
    "    for astring in seq_of_strings:\n",
    "        counts = tokenize(astring)\n",
    "        addcounters(counts, vocab)\n",
    "    topn = [x[0] for x in vocab.most_common(n)]\n",
    "    return topn\n",
    "\n",
    "def get_priors(df):\n",
    "    counts = df.groupby('has_disability').count()['words']\n",
    "    print(counts)\n",
    "    dis_odds = counts['y'] / counts['n'] # simple calculation of likelihood based on prevalence\n",
    "    no_dis_odds = counts['n'] / counts['y']\n",
    "    return math.log(dis_odds), math.log(no_dis_odds)"
   ]
  },
  {
   "cell_type": "code",
   "execution_count": 397,
   "metadata": {
    "collapsed": false
   },
   "outputs": [],
   "source": []
  },
  {
   "cell_type": "code",
   "execution_count": 398,
   "metadata": {
    "collapsed": true
   },
   "outputs": [],
   "source": []
  },
  {
   "cell_type": "code",
   "execution_count": 399,
   "metadata": {
    "collapsed": true
   },
   "outputs": [],
   "source": []
  },
  {
   "cell_type": "code",
   "execution_count": 826,
   "metadata": {
    "collapsed": false
   },
   "outputs": [],
   "source": [
    "def train_nb_model(df, p): # p is the number of words you're using in your model, the portion of the total vocabulary\n",
    "    vocab = create_vocab(df['words'], p)\n",
    "    vocabset = set(vocab)\n",
    "    \n",
    "    # we make a set because membership-checking is faster\n",
    "    # in sets; but we also hold onto the list, which is ordered\n",
    "    \n",
    "    dis_prior, nodis_prior = get_priors(df)\n",
    "    \n",
    "    dis_counts = Counter()\n",
    "    nodis_counts = Counter()\n",
    "    \n",
    "    for i in df.index:\n",
    "        words = df['words'][i]\n",
    "        word_counts = tokenize(words)\n",
    "        category = dis_test(df, i)\n",
    "        # print(category)\n",
    "        if category == 'n':\n",
    "            nodis_counts = nodis_counts + word_counts\n",
    "        elif category == 'y':\n",
    "            dis_counts = dis_counts + word_counts\n",
    "    \n",
    "    # Now let's organize these Counters into a DataFrame\n",
    "    \n",
    "    no_disability = pd.Series(1, index = vocab)\n",
    "    disability = pd.Series(1, index = vocab)\n",
    "    # notice initializing to 1 -- Laplacian smoothing\n",
    "    \n",
    "    for word, count in dis_counts.items():\n",
    "        if word in vocabset:\n",
    "            disability[word] += count\n",
    "    \n",
    "    for word, count in nodis_counts.items():\n",
    "        if word in vocabset:\n",
    "            no_disability[word] += count\n",
    "    \n",
    "    all_prob = (no_disability + disability) / (np.sum(no_disability) + np.sum(disability))\n",
    "    \n",
    "    nodis_prob = no_disability / np.sum(no_disability)\n",
    "    dis_prob = disability / np.sum(disability)\n",
    "    \n",
    "    # note that when we sum up the negative and positive\n",
    "    # columns, we are also summing up all the Laplacian 1's\n",
    "    # we initially added to them\n",
    "    \n",
    "    model = pd.concat([no_disability, disability, all_prob, \n",
    "                       nodis_prob, dis_prob], axis = 1) \n",
    "        \n",
    "    model.columns = ['no_dis', 'dis', 'all_prob', 'no_dis_prob', 'dis_prob']\n",
    "    \n",
    "    model['no_dis_norm'] = nodis_prob / all_prob\n",
    "    model['dis_norm'] = dis_prob / all_prob\n",
    "    \n",
    "    \n",
    "    model['log_no_dis'] = [math.log(x) for x in model['no_dis_norm']] # using log to control for long floats, which are hard to handle\n",
    "    model['log_dis'] = [math.log(x) for x in model['dis_norm']]\n",
    "    \n",
    "    return vocab, dis_prior, nodis_prior, model\n"
   ]
  },
  {
   "cell_type": "code",
   "execution_count": 827,
   "metadata": {
    "collapsed": false,
    "scrolled": true
   },
   "outputs": [
    {
     "name": "stdout",
     "output_type": "stream",
     "text": [
      "has_disability\n",
      "n    50\n",
      "y    42\n",
      "Name: words, dtype: int64\n"
     ]
    },
    {
     "data": {
      "text/html": [
       "<div>\n",
       "<table border=\"1\" class=\"dataframe\">\n",
       "  <thead>\n",
       "    <tr style=\"text-align: right;\">\n",
       "      <th></th>\n",
       "      <th>no_dis</th>\n",
       "      <th>dis</th>\n",
       "      <th>all_prob</th>\n",
       "      <th>no_dis_prob</th>\n",
       "      <th>dis_prob</th>\n",
       "      <th>no_dis_norm</th>\n",
       "      <th>dis_norm</th>\n",
       "      <th>log_no_dis</th>\n",
       "      <th>log_dis</th>\n",
       "    </tr>\n",
       "  </thead>\n",
       "  <tbody>\n",
       "    <tr>\n",
       "      <th>said</th>\n",
       "      <td>1236</td>\n",
       "      <td>1</td>\n",
       "      <td>0.064397</td>\n",
       "      <td>0.071823</td>\n",
       "      <td>0.0005</td>\n",
       "      <td>1.115316</td>\n",
       "      <td>0.007764</td>\n",
       "      <td>0.109138</td>\n",
       "      <td>-4.858213</td>\n",
       "    </tr>\n",
       "    <tr>\n",
       "      <th>had</th>\n",
       "      <td>250</td>\n",
       "      <td>1</td>\n",
       "      <td>0.013067</td>\n",
       "      <td>0.014527</td>\n",
       "      <td>0.0005</td>\n",
       "      <td>1.111771</td>\n",
       "      <td>0.038265</td>\n",
       "      <td>0.105954</td>\n",
       "      <td>-3.263221</td>\n",
       "    </tr>\n",
       "    <tr>\n",
       "      <th>was</th>\n",
       "      <td>220</td>\n",
       "      <td>1</td>\n",
       "      <td>0.011505</td>\n",
       "      <td>0.012784</td>\n",
       "      <td>0.0005</td>\n",
       "      <td>1.111167</td>\n",
       "      <td>0.043459</td>\n",
       "      <td>0.105411</td>\n",
       "      <td>-3.135931</td>\n",
       "    </tr>\n",
       "    <tr>\n",
       "      <th>face</th>\n",
       "      <td>207</td>\n",
       "      <td>1</td>\n",
       "      <td>0.010828</td>\n",
       "      <td>0.012029</td>\n",
       "      <td>0.0005</td>\n",
       "      <td>1.110852</td>\n",
       "      <td>0.046175</td>\n",
       "      <td>0.105127</td>\n",
       "      <td>-3.075306</td>\n",
       "    </tr>\n",
       "    <tr>\n",
       "      <th>eyes</th>\n",
       "      <td>202</td>\n",
       "      <td>1</td>\n",
       "      <td>0.010568</td>\n",
       "      <td>0.011738</td>\n",
       "      <td>0.0005</td>\n",
       "      <td>1.110720</td>\n",
       "      <td>0.047313</td>\n",
       "      <td>0.105008</td>\n",
       "      <td>-3.050974</td>\n",
       "    </tr>\n",
       "  </tbody>\n",
       "</table>\n",
       "</div>"
      ],
      "text/plain": [
       "      no_dis  dis  all_prob  no_dis_prob  dis_prob  no_dis_norm  dis_norm  \\\n",
       "said    1236    1  0.064397     0.071823    0.0005     1.115316  0.007764   \n",
       "had      250    1  0.013067     0.014527    0.0005     1.111771  0.038265   \n",
       "was      220    1  0.011505     0.012784    0.0005     1.111167  0.043459   \n",
       "face     207    1  0.010828     0.012029    0.0005     1.110852  0.046175   \n",
       "eyes     202    1  0.010568     0.011738    0.0005     1.110720  0.047313   \n",
       "\n",
       "      log_no_dis   log_dis  \n",
       "said    0.109138 -4.858213  \n",
       "had     0.105954 -3.263221  \n",
       "was     0.105411 -3.135931  \n",
       "face    0.105127 -3.075306  \n",
       "eyes    0.105008 -3.050974  "
      ]
     },
     "execution_count": 827,
     "metadata": {},
     "output_type": "execute_result"
    }
   ],
   "source": [
    "vocab, dis_prior, nodis_prior, model = train_nb_model(train_set, 2000)\n",
    "model.head()"
   ]
  },
  {
   "cell_type": "code",
   "execution_count": null,
   "metadata": {
    "collapsed": true
   },
   "outputs": [],
   "source": []
  },
  {
   "cell_type": "code",
   "execution_count": 828,
   "metadata": {
    "collapsed": true
   },
   "outputs": [],
   "source": [
    "# pd.options.mode.chained_assignment = None\n",
    "\n",
    "def apply_model(vocab, dis_prior, nodis_prior, model, testset):\n",
    "    right = 0\n",
    "    wrong = 0\n",
    "    vocabset = set(vocab)\n",
    "    odds_dis = []\n",
    "    odds_nodis = []\n",
    "\n",
    "    for i in testset.index:\n",
    "        odds_disability = dis_prior\n",
    "        odds_no_disability = nodis_prior\n",
    "        words = testset['words'][i]\n",
    "        word_counts = tokenize(words)\n",
    "        for word, count in word_counts.items():\n",
    "            if word not in vocabset:\n",
    "                continue\n",
    "            odds_disability += model.loc[word, 'log_dis']\n",
    "            odds_no_disability += model.loc[word, 'log_no_dis']\n",
    "            \n",
    "        if odds_disability > odds_no_disability:\n",
    "            prediction = 'y'\n",
    "        else:\n",
    "            prediction = 'n'\n",
    "        \n",
    "        odds_dis.append(odds_disability)\n",
    "        odds_nodis.append(odds_no_disability)\n",
    "\n",
    "        reality = dis_test(testset, i)\n",
    "        if reality != 'y' and reality != 'n':\n",
    "            continue\n",
    "        elif prediction == reality:\n",
    "            right += 1\n",
    "        else:\n",
    "            wrong += 1\n",
    "\n",
    "    print(\"Got \" + str(right) + \" rows right, and \" + str(wrong) + \" wrong.\")\n",
    "    accuracy = (right / (wrong + right)) * 100\n",
    "    print(\"Accuracy was {0:.2f}%\".format(accuracy))\n",
    "    \n",
    "    resultset = test_set.copy()\n",
    "    resultset['odds_disability'] = odds_dis\n",
    "    resultset['odds_no_disability'] = odds_no_disability\n",
    "    resultset = resultset.sort_values(by = 'odds_disability')\n",
    "    \n",
    "    return resultset, accuracy"
   ]
  },
  {
   "cell_type": "code",
   "execution_count": 829,
   "metadata": {
    "collapsed": false,
    "scrolled": true
   },
   "outputs": [
    {
     "name": "stdout",
     "output_type": "stream",
     "text": [
      "Got 26 rows right, and 1 wrong.\n",
      "Accuracy was 96.30%\n"
     ]
    }
   ],
   "source": [
    "newtestset, accuracy = apply_model(vocab, dis_prior, nodis_prior, model, test_set)"
   ]
  },
  {
   "cell_type": "code",
   "execution_count": null,
   "metadata": {
    "collapsed": true
   },
   "outputs": [],
   "source": []
  },
  {
   "cell_type": "code",
   "execution_count": 830,
   "metadata": {
    "collapsed": true
   },
   "outputs": [],
   "source": [
    "def five_fold_cross_valid(df, p):\n",
    "    accuracies = []\n",
    "    for i in range(5):\n",
    "        d_test_set = df[df['fold'] == i]\n",
    "        d_training_set = df[df['fold'] != i] \n",
    "        vocab, dis_prior, nodis_prior, model = train_nb_model(d_training_set, p)\n",
    "        d_test_set, accuracy = apply_model(vocab, dis_prior, nodis_prior, model, test_set)\n",
    "        accuracies.append(accuracy)\n",
    "    avg_acc = print('Average accuracy is ', round(sum(accuracies)/len(accuracies),2), '%')\n",
    "    return avg_acc"
   ]
  },
  {
   "cell_type": "code",
   "execution_count": 831,
   "metadata": {
    "collapsed": false
   },
   "outputs": [
    {
     "name": "stdout",
     "output_type": "stream",
     "text": [
      "has_disability\n",
      "n    53\n",
      "y    44\n",
      "Name: words, dtype: int64\n",
      "Got 25 rows right, and 2 wrong.\n",
      "Accuracy was 92.59%\n",
      "has_disability\n",
      "n    51\n",
      "y    43\n",
      "Name: words, dtype: int64\n",
      "Got 24 rows right, and 3 wrong.\n",
      "Accuracy was 88.89%\n",
      "has_disability\n",
      "n    48\n",
      "y    41\n",
      "Name: words, dtype: int64\n",
      "Got 24 rows right, and 3 wrong.\n",
      "Accuracy was 88.89%\n",
      "has_disability\n",
      "n    58\n",
      "y    46\n",
      "Name: words, dtype: int64\n",
      "Got 24 rows right, and 3 wrong.\n",
      "Accuracy was 88.89%\n",
      "has_disability\n",
      "n    50\n",
      "y    42\n",
      "Name: words, dtype: int64\n",
      "Got 27 rows right, and 0 wrong.\n",
      "Accuracy was 100.00%\n",
      "Average accuracy is  91.85 %\n"
     ]
    }
   ],
   "source": [
    "five_fold_cross_valid(char_basic, 3000)"
   ]
  },
  {
   "cell_type": "code",
   "execution_count": null,
   "metadata": {
    "collapsed": true
   },
   "outputs": [],
   "source": []
  },
  {
   "cell_type": "code",
   "execution_count": 414,
   "metadata": {
    "collapsed": false
   },
   "outputs": [],
   "source": [
    "# ch_pred = MultinomialNB()\n",
    "# labels = char_df_copy['has_dis']\n",
    "# words = char_df['words']\n",
    "# ch_pred.fit(train_set, train_labels)"
   ]
  },
  {
   "cell_type": "code",
   "execution_count": 833,
   "metadata": {
    "collapsed": false
   },
   "outputs": [],
   "source": [
    "dis_sent_list = [ ] # list that will store sentiment values for our vg reviews\n",
    "nodis_sent_list = [ ] # list that will store sentiment values for our mov reviews\n",
    "\n",
    "for i in char_basic.index:\n",
    "        words = char_basic['words'][i]\n",
    "        rev_blob = TextBlob(words)\n",
    "        if char_basic['has_disability'][i] == 'y':\n",
    "            dis_sent_list.append(rev_blob.sentiment)\n",
    "        elif char_basic['has_disability'][i] == 'n':\n",
    "            nodis_sent_list.append(rev_blob.sentiment)"
   ]
  },
  {
   "cell_type": "code",
   "execution_count": 834,
   "metadata": {
    "collapsed": false
   },
   "outputs": [
    {
     "name": "stdout",
     "output_type": "stream",
     "text": [
      "Average sentiment of words describing characters with disabilities      0.017625345807115764\n",
      "Average sentiment of words describing characters without disabilities   0.04331686481874452\n",
      "Average objectivity of words describing characters with disabilities    0.40884537972872176\n",
      "Average objectivity of words describing characters without disabilities 0.44179530619756163\n"
     ]
    }
   ],
   "source": [
    "# first create some lists to store the values\n",
    "dis_sent_only = []\n",
    "nodis_sent_only = []\n",
    "nodis_obj = []\n",
    "dis_obj = []\n",
    "\n",
    "# then we'll use a for loop to separate them for vg data and add them to the appropriate lists\n",
    "for item in dis_sent_list:\n",
    "    sentiment = item[0]\n",
    "    objectivity = item[1]\n",
    "    dis_sent_only.append(sentiment)\n",
    "    dis_obj.append(objectivity)\n",
    "    \n",
    "# print(vg_sent_only)\n",
    "\n",
    "# then repeat for mov data\n",
    "for item in nodis_sent_list:\n",
    "    sentiment = item[0]\n",
    "    objectivity = item[1]\n",
    "    nodis_sent_only.append(sentiment)\n",
    "    nodis_obj.append(objectivity)\n",
    "    \n",
    "# print(mov_sent_only)\n",
    "\n",
    "# generate averages for each list of values\n",
    "dis_sent_avg = sum(dis_sent_only)/len(dis_sent_only)\n",
    "nodis_sent_avg = sum(nodis_sent_only) / len(nodis_sent_only)\n",
    "nodis_obj_avg = sum(nodis_obj) / len(nodis_obj)\n",
    "dis_obj_avg = sum(dis_obj) / len(dis_obj)\n",
    "\n",
    "print('Average sentiment of words describing characters with disabilities', '    ',dis_sent_avg)\n",
    "print('Average sentiment of words describing characters without disabilities', ' ', nodis_sent_avg)\n",
    "print('Average objectivity of words describing characters with disabilities', '  ', dis_obj_avg)\n",
    "print('Average objectivity of words describing characters without disabilities', nodis_obj_avg)"
   ]
  },
  {
   "cell_type": "code",
   "execution_count": 835,
   "metadata": {
    "collapsed": false
   },
   "outputs": [
    {
     "name": "stdout",
     "output_type": "stream",
     "text": [
      "Sentiment distributions compared:\n"
     ]
    },
    {
     "data": {
      "image/png": "[encoded data removed]",
      "text/plain": [
       "<matplotlib.figure.Figure at 0x11b25dfd0>"
      ]
     },
     "metadata": {},
     "output_type": "display_data"
    }
   ],
   "source": [
    "import matplotlib.pyplot as plt\n",
    "matplotlib.rcParams['figure.figsize'] = (15.0, 8.0) # changing the default plot size to be bigger to facilitate reading\n",
    "\n",
    "dis_obj_df = pd.DataFrame(dis_obj)\n",
    "# dis_obj_df.head()\n",
    "\n",
    "dis_sent_df = pd.DataFrame(dis_sent_only)\n",
    "# dis_sent_df.head()\n",
    "\n",
    "nodis_obj_df = pd.DataFrame(nodis_obj)\n",
    "# mov_obj_df.head()\n",
    "\n",
    "nodis_sent_df = pd.DataFrame(nodis_sent_only)\n",
    "# mov_sent_df.head()\n",
    "\n",
    "mylabels = ['disability', 'no disability']\n",
    "a = dis_sent_df.plot()\n",
    "nodis_sent_df.plot(ax=a)\n",
    "print('Sentiment distributions compared:')\n",
    "plt.legend(mylabels)\n",
    "plt.show()"
   ]
  },
  {
   "cell_type": "code",
   "execution_count": 836,
   "metadata": {
    "collapsed": false
   },
   "outputs": [
    {
     "name": "stdout",
     "output_type": "stream",
     "text": [
      "Objectivity of sentiment distributions compared:\n"
     ]
    },
    {
     "data": {
      "image/png": "[encoded data removed]",
      "text/plain": [
       "<matplotlib.figure.Figure at 0x117967ef0>"
      ]
     },
     "metadata": {},
     "output_type": "display_data"
    }
   ],
   "source": [
    "c = dis_obj_df.plot()\n",
    "nodis_obj_df.plot(ax=c)\n",
    "print('Objectivity of sentiment distributions compared:')\n",
    "plt.legend(mylabels)\n",
    "plt.show()"
   ]
  },
  {
   "cell_type": "code",
   "execution_count": null,
   "metadata": {
    "collapsed": true
   },
   "outputs": [],
   "source": []
  },
  {
   "cell_type": "code",
   "execution_count": 837,
   "metadata": {
    "collapsed": true
   },
   "outputs": [],
   "source": [
    "def headandtail(tuplelist, n):\n",
    "    tuplelist.sort(reverse = True)\n",
    "    print(\"TOP VALUES:\")\n",
    "    for i in range(n):\n",
    "        print(tuplelist[i][1], tuplelist[i][0])\n",
    "    \n",
    "    print()\n",
    "    print(\"BOTTOM VALUES:\")\n",
    "    lastindex = len(tuplelist) - 1\n",
    "    for i in range(lastindex, lastindex - n, -1):\n",
    "        print(tuplelist[i][1], tuplelist[i][0])"
   ]
  },
  {
   "cell_type": "code",
   "execution_count": null,
   "metadata": {
    "collapsed": true
   },
   "outputs": [],
   "source": []
  },
  {
   "cell_type": "code",
   "execution_count": 838,
   "metadata": {
    "collapsed": true
   },
   "outputs": [],
   "source": [
    "def logodds(countsA, countsB, word):\n",
    "    ''' Straightforward.\n",
    "    '''\n",
    "    # using Laplacian smoothing to get better results\n",
    "    odds = (countsA[word] + 1) / (countsB[word] + 1)\n",
    "    \n",
    "    return math.log(odds)\n",
    "\n",
    "def signed_dunnings(countsA, totalA, countsB, totalB, word):\n",
    "    ''' Less straightforward. This function calculates a signed (+1 / -1)\n",
    "    version of Dunning's log likelihood. This number gets larger as the \n",
    "    frequency of the word in our two corpora diverges from its EXPECTED frequency\n",
    "    i.e., the frequency it would have if it were equally distributed over both. \n",
    "    But it also tends to get larger as the raw frequency of the word increases.\n",
    "    \n",
    "    Note that this function requires two additional arguments:\n",
    "    the total number of words in A and B. We could calculate that inside\n",
    "    the function, but it's faster to calculate it just once, outside the function.\n",
    "    \n",
    "    Also note: the strict definition of Dunnings has no 'sign': it gets bigger\n",
    "    whether a word is overrepresented in A or B. I've edited that so that Dunnings\n",
    "    is positive if overrepresented in A, and negative if overrepresented in B.\n",
    "    '''\n",
    "    if word not in countsA and word not in countsB:\n",
    "        return 0\n",
    "    \n",
    "    # the raw frequencies of this word in our two corpora\n",
    "    # still doing a little Laplacian smoothing here\n",
    "    a = countsA[word] + 0.1\n",
    "    b = countsB[word] + 0.1\n",
    "    \n",
    "    # now let's calculate the expected number of times this\n",
    "    # word would occur in both if the frequency were constant\n",
    "    # across both\n",
    "    overallfreq = (a + b) / (totalA + totalB)\n",
    "    expectedA = totalA * overallfreq\n",
    "    expectedB = totalB * overallfreq\n",
    "    \n",
    "    # and now the Dunning's formula\n",
    "    dunning = 2 * ((a * math.log(a / expectedA)) + (b * math.log(b / expectedB)))\n",
    "    \n",
    "    if a < expectedA:\n",
    "        return -dunning\n",
    "    else:   \n",
    "        return dunning"
   ]
  },
  {
   "cell_type": "code",
   "execution_count": 839,
   "metadata": {
    "collapsed": false
   },
   "outputs": [
    {
     "name": "stdout",
     "output_type": "stream",
     "text": [
      "Dis lines: 54\n",
      "Undis lines: 65\n"
     ]
    }
   ],
   "source": [
    "# ch = open('test.csv', 'r')\n",
    "# # print(cdata)\n",
    "# ch_df_two = pd.read_csv(ch, encoding='utf-8')\n",
    "\n",
    "# del ch_df_two['Unnamed: 0']\n",
    "\n",
    "# ch_df_two.head()\n",
    "\n",
    "dis_word_list = []\n",
    "dis_char_count = 0\n",
    "\n",
    "undis_word_list = []\n",
    "undis_char_count = 0\n",
    "\n",
    "for i in char_basic.index:\n",
    "    clss = char_basic['has_disability'][i]\n",
    "    if clss == 'y':\n",
    "        dis_char_count += 1\n",
    "        dis_word_list.append(char_basic['words'])\n",
    "    elif clss == 'n':\n",
    "        undis_char_count += 1\n",
    "        undis_word_list.append(char_basic['words'])\n",
    "        \n",
    "print('Dis lines:', dis_char_count)\n",
    "print('Undis lines:', undis_char_count)\n",
    "    "
   ]
  },
  {
   "cell_type": "code",
   "execution_count": 716,
   "metadata": {
    "collapsed": false
   },
   "outputs": [
    {
     "name": "stdout",
     "output_type": "stream",
     "text": [
      "(54, 5)\n"
     ]
    }
   ],
   "source": [
    "# ch = open('dis_df.csv', 'r')\n",
    "# dis_df = pd.read_csv(ch, encoding='utf-8')\n",
    "\n",
    "# del dis_df['Unnamed: 0']\n",
    "\n",
    "print(dis_df.shape)\n",
    "# dis_df = dis_df.reset_index(drop=True)\n",
    "# dis_df.head()\n",
    "\n",
    "# print(dis_df.shape)\n",
    "\n",
    "# for i in dis_df.index:\n",
    "#     dis = dis_df['has_disability'][i]\n",
    "#     if dis == 0:\n",
    "#         dis_df.drop(i, inplace=True)\n",
    "\n",
    "# print(dis_df.shape)\n",
    "# no_dis_sample = no_dis_ch_df.sample(n=54)\n",
    "# ch_df_sample = ch_df_sample.reset_index(drop=True)\n",
    "\n",
    "\n",
    "# dis_df.to_csv('dis_df.csv')"
   ]
  },
  {
   "cell_type": "code",
   "execution_count": 718,
   "metadata": {
    "collapsed": false
   },
   "outputs": [
    {
     "name": "stdout",
     "output_type": "stream",
     "text": [
      "(65, 5)\n"
     ]
    }
   ],
   "source": [
    "# ch = open('no_dis_sample_5819.csv', 'r')\n",
    "# no_dis_df = pd.read_csv(ch, encoding='utf-8')\n",
    "\n",
    "# del no_dis_df['Unnamed: 0']\n",
    "\n",
    "print(no_dis_df.shape)\n",
    "# dis_df = dis_df.reset_index(drop=True)\n",
    "# dis_df.head()\n",
    "\n",
    "# print(dis_df.shape)\n",
    "\n",
    "# for i in dis_df.index:\n",
    "#     dis = dis_df['has_disability'][i]\n",
    "#     if dis == 0:\n",
    "#         dis_df.drop(i, inplace=True)\n",
    "\n",
    "# print(dis_df.shape)\n",
    "# no_dis_sample = no_dis_ch_df.sample(n=54)\n",
    "# ch_df_sample = ch_df_sample.reset_index(drop=True)\n",
    "\n",
    "\n",
    "# dis_df.to_csv('dis_df.csv')"
   ]
  },
  {
   "cell_type": "code",
   "execution_count": 713,
   "metadata": {
    "collapsed": false,
    "scrolled": true
   },
   "outputs": [],
   "source": [
    "# ch = open('dis_df.csv', 'r')\n",
    "# dis_df = pd.read_csv(ch, encoding='utf-8')\n",
    "\n",
    "# print(ch_df_two.shape)\n",
    "\n",
    "# for i in ch_df_two.index:\n",
    "#     dis = ch_df_two['has_disability'][i]\n",
    "#     if dis == 1:\n",
    "#         ch_df_two.drop(i, inplace=True)\n",
    "\n",
    "# print(ch_df_two.shape)\n",
    "no_dis_sample = no_dis_ch_df.sample(n=60)\n",
    "no_dis_sample = no_dis_sample.reset_index(drop=True)\n",
    "# no_dis_sample.head()\n",
    "\n",
    "\n",
    "#no_dis_sample.to_csv('nottodaypal.csv')\n",
    "# no_dis_ch_df.head()"
   ]
  },
  {
   "cell_type": "code",
   "execution_count": 693,
   "metadata": {
    "collapsed": false
   },
   "outputs": [],
   "source": [
    "# dis_df_copy = dis_df\n",
    "\n",
    "for i in dis_df.index:\n",
    "    dis = dis_df_copy['has_disability'][i]\n",
    "    words = dis_df_copy['words'][i]\n",
    "    if len(words) < 150:\n",
    "        print('found one')\n",
    "        # dis_df_copy.drop(i, inplace=True)"
   ]
  },
  {
   "cell_type": "code",
   "execution_count": 857,
   "metadata": {
    "collapsed": false
   },
   "outputs": [
    {
     "name": "stdout",
     "output_type": "stream",
     "text": [
      "Total words describing with characters with disabilities =  7079\n",
      "Total words describing with characters without disabilities  5819\n"
     ]
    }
   ],
   "source": [
    "# disab = Counter()\n",
    "# no_disab = Counter()\n",
    "\n",
    "dis_word_ct = 0\n",
    "no_word_ct = 0\n",
    "\n",
    "# num_rows = no_dis_df.shape[0]\n",
    "# print('Total number of rows in no_dis_sample dataset = ', num_rows)\n",
    "# dis_num = dis_df.shape[0]\n",
    "# print('Total number of rows in dis_df_copy dataset = ', dis_num)\n",
    "\n",
    "# Figure out how many rows are in youur DataFrame and put that number \n",
    "#  in a variable like 'numrows.' Then iterate through the 'text' column of the data frame.\n",
    "\n",
    "for i in no_dis_df.index:\n",
    "    words = tokenize(no_dis_df['words'][i])\n",
    "    no_word_ct += len(words)\n",
    "    \n",
    "for i in dis_df.index:\n",
    "    words = tokenize(dis_df['words'][i])\n",
    "    dis_word_ct += len(words)\n",
    "\n",
    "# disab_ct = len(disab)\n",
    "# no_disab_ct = len(no_disab)\n",
    "\n",
    "print('Total words describing with characters with disabilities = ', dis_word_ct)\n",
    "print('Total words describing with characters without disabilities ', no_word_ct)"
   ]
  },
  {
   "cell_type": "code",
   "execution_count": null,
   "metadata": {
    "collapsed": true
   },
   "outputs": [],
   "source": []
  },
  {
   "cell_type": "code",
   "execution_count": 841,
   "metadata": {
    "collapsed": false
   },
   "outputs": [],
   "source": [
    "# df_list = [no_dis_df, dis_df]\n",
    "\n",
    "# no_dis_df_basic\n",
    "\n",
    "\n",
    "# dis_df_basic\n",
    "\n",
    "# char_df = pd.concat([no_dis_df, dis_df])\n",
    "# char_df = char_df.reset_index(drop=True)\n",
    "# char_df[61:91]"
   ]
  },
  {
   "cell_type": "code",
   "execution_count": null,
   "metadata": {
    "collapsed": true
   },
   "outputs": [],
   "source": []
  },
  {
   "cell_type": "code",
   "execution_count": null,
   "metadata": {
    "collapsed": false
   },
   "outputs": [],
   "source": []
  },
  {
   "cell_type": "code",
   "execution_count": 724,
   "metadata": {
    "collapsed": false
   },
   "outputs": [],
   "source": []
  },
  {
   "cell_type": "code",
   "execution_count": 846,
   "metadata": {
    "collapsed": false
   },
   "outputs": [
    {
     "name": "stdout",
     "output_type": "stream",
     "text": [
      "Total vocab =  4175\n",
      "Total vocab minus stop words =  4168\n"
     ]
    }
   ],
   "source": [
    "# Now, it's time to see the words most prevalent in each set of reviews.\n",
    "\n",
    "# remember, the create_vocab function takes two parameters: a corpus of text and 'n' which represents\n",
    "#  the max size of the created vocab. I'm going to make this number very high, but it can be adjusted\n",
    "#  based on if our results are interesting or not.\n",
    "\n",
    "dis_vocab = create_vocab(char_basic['words'], 15000)\n",
    "print('Total vocab = ', len(dis_vocab))\n",
    "\n",
    "# a list of common stop words to use for removing frequent words that are unenlightening:\n",
    "stopwords = {'a', 'an', 'are', 'and', 'but', 'or', 'that', 'this', 'so', \n",
    "             'all', 'at', 'if', 'in', 'i', 'is', 'was', 'by', 'of', 'to', \n",
    "             'the', 'be', 'were'}\n",
    "\n",
    "# Removing stopwords for more enlightening results\n",
    "dis_vocab_nostop = list(set(dis_vocab) - stopwords)\n",
    "print('Total vocab minus stop words = ', len(dis_vocab_nostop))"
   ]
  },
  {
   "cell_type": "code",
   "execution_count": null,
   "metadata": {
    "collapsed": true
   },
   "outputs": [],
   "source": []
  },
  {
   "cell_type": "code",
   "execution_count": 847,
   "metadata": {
    "collapsed": false
   },
   "outputs": [
    {
     "name": "stdout",
     "output_type": "stream",
     "text": [
      "Total number of rows in char_basic dataset =  119\n",
      "Total words describing with characters with disabilities =  2999\n",
      "Total words describing with characters without disabilities  2419\n"
     ]
    }
   ],
   "source": [
    "disability = Counter()\n",
    "no_disability = Counter()\n",
    "\n",
    "num_rows = char_basic.shape[0]\n",
    "print('Total number of rows in char_basic dataset = ', num_rows)\n",
    "\n",
    "# Figure out how many rows are in youur DataFrame and put that number \n",
    "#  in a variable like 'numrows.' Then iterate through the 'text' column of the data frame.\n",
    "\n",
    "for i in range(num_rows):\n",
    "    counts = tokenize(char_basic['words'][i])\n",
    "    if 'n' in char_basic['has_disability'][i]:\n",
    "        addcounters(counts, no_disability)\n",
    "    elif 'y' in char_basic['has_disability'][i]:\n",
    "        addcounters(counts, disability)\n",
    "\n",
    "dis_ct = len(disability)\n",
    "no_dis_ct = len(no_disability)\n",
    "\n",
    "print('Total words describing with characters with disabilities = ', dis_ct)\n",
    "print('Total words describing with characters without disabilities ', no_dis_ct)"
   ]
  },
  {
   "cell_type": "markdown",
   "metadata": {},
   "source": [
    "### Explanation for above:\n",
    "- Disability-character centric books due to discovery method, typically means more words for main characters\n",
    "- Characters without disabilities had a lower average number of words per character (not surprising, given the above)"
   ]
  },
  {
   "cell_type": "code",
   "execution_count": 856,
   "metadata": {
    "collapsed": false
   },
   "outputs": [
    {
     "name": "stdout",
     "output_type": "stream",
     "text": [
      "FOR LOG ODDS:\n",
      "TOP VALUES:\n",
      "mustache 2.5649493574615367\n",
      "bargain 2.5649493574615367\n",
      "dad 2.4849066497880004\n",
      "tie 2.0794415416798357\n",
      "responded 2.0794415416798357\n",
      "girlfriend 2.0794415416798357\n",
      "beard 2.0794415416798357\n",
      "spectacles 1.9459101490553132\n",
      "rasped 1.9459101490553132\n",
      "faced 1.9459101490553132\n",
      "woman 1.791759469228055\n",
      "wearing 1.791759469228055\n",
      "thrust 1.791759469228055\n",
      "thief 1.791759469228055\n",
      "tent 1.791759469228055\n",
      "sight 1.791759469228055\n",
      "recoiled 1.791759469228055\n",
      "nightshirt 1.791759469228055\n",
      "hungry 1.791759469228055\n",
      "drawing-room 1.791759469228055\n",
      "bones 1.791759469228055\n",
      "apron 1.791759469228055\n",
      "abandoned 1.791759469228055\n",
      "boots 1.7047480922384253\n",
      "yanked 1.6094379124341003\n",
      "welcomed 1.6094379124341003\n",
      "snored 1.6094379124341003\n",
      "slowed 1.6094379124341003\n",
      "silenced 1.6094379124341003\n",
      "sense 1.6094379124341003\n",
      "save 1.6094379124341003\n",
      "robe 1.6094379124341003\n",
      "remained 1.6094379124341003\n",
      "relief 1.6094379124341003\n",
      "purse 1.6094379124341003\n",
      "mount 1.6094379124341003\n",
      "join 1.6094379124341003\n",
      "intrigued 1.6094379124341003\n",
      "guided 1.6094379124341003\n",
      "feared 1.6094379124341003\n",
      "faltered 1.6094379124341003\n",
      "eluded 1.6094379124341003\n",
      "drinking 1.6094379124341003\n",
      "conviction 1.6094379124341003\n",
      "companions 1.6094379124341003\n",
      "climber 1.6094379124341003\n",
      "business 1.6094379124341003\n",
      "announce 1.6094379124341003\n",
      "afford 1.6094379124341003\n",
      "gaze 1.540445040947149\n",
      "\n",
      "BOTTOM VALUES:\n",
      "rang -2.833213344056216\n",
      "aunt -2.70805020110221\n",
      "wondered -2.6026896854443837\n",
      "wheeled -2.5649493574615367\n",
      "mother -2.5199979695992702\n",
      "sort -2.3978952727983707\n",
      "thumbs -2.3978952727983707\n",
      "pants -2.3025850929940455\n",
      "tells -2.3025850929940455\n",
      "embarrassed -2.1972245773362196\n",
      "enquired -2.1972245773362196\n",
      "starts -2.1972245773362196\n",
      "father -2.0984897366505306\n",
      "cousin -2.0794415416798357\n",
      "frightened -2.0794415416798357\n",
      "interested -2.0794415416798357\n",
      "mumbled -2.0794415416798357\n",
      "pillows -2.0794415416798357\n",
      "stories -2.0794415416798357\n",
      "tries -2.0794415416798357\n",
      "upset -2.0794415416798357\n",
      "wheelchair -2.0794415416798357\n",
      "sure -2.0476928433652555\n",
      "bed -2.0281482472922856\n",
      "glad -2.0149030205422647\n",
      "cap -1.9459101490553135\n",
      "crept -1.9459101490553135\n",
      "doctors -1.9459101490553135\n",
      "dream -1.9459101490553135\n",
      "giggled -1.9459101490553135\n",
      "hoped -1.9459101490553135\n",
      "letters -1.9459101490553135\n",
      "lied -1.9459101490553135\n",
      "ordered -1.9459101490553135\n",
      "pretended -1.9459101490553135\n",
      "spinner -1.9459101490553135\n",
      "stares -1.9459101490553135\n",
      "stretcher -1.9459101490553135\n",
      "room -1.9021075263969205\n",
      "books -1.8718021769015913\n",
      "thumb -1.8718021769015913\n",
      "doing -1.8325814637483102\n",
      "arrived -1.791759469228055\n",
      "cards -1.791759469228055\n",
      "crying -1.791759469228055\n",
      "feelings -1.791759469228055\n",
      "glared -1.791759469228055\n",
      "grandfather -1.791759469228055\n",
      "grins -1.791759469228055\n",
      "mad -1.791759469228055\n",
      "\n",
      "\n",
      "FOR DUNNINGS:\n",
      "TOP VALUES:\n",
      "mustache 18.472522071976197\n",
      "bargain 18.472522071976197\n",
      "dad 16.8769550880802\n",
      "throat 15.750153629790725\n",
      "gaze 11.40223703226242\n",
      "husband 10.791808350060874\n",
      "tie 10.514841379831875\n",
      "responded 10.514841379831875\n",
      "girlfriend 10.514841379831875\n",
      "beard 10.514841379831875\n",
      "boots 10.396339323018275\n",
      "chest 9.674982526579017\n",
      "house 9.080016359952728\n",
      "spectacles 8.932228983961625\n",
      "rasped 8.932228983961625\n",
      "faced 8.932228983961625\n",
      "carried 8.739051297234994\n",
      "moved 8.273659623493078\n",
      "hair 8.208642011442166\n",
      "run 8.06254433711761\n",
      "followed 7.639785528846209\n",
      "entered 7.628956039686065\n",
      "daddy 7.628956039686065\n",
      "breathing 7.628956039686065\n",
      "needed 7.567120874610955\n",
      "woman 7.354975972077618\n",
      "wearing 7.354975972077618\n",
      "thrust 7.354975972077618\n",
      "thief 7.354975972077618\n",
      "tent 7.354975972077618\n",
      "sight 7.354975972077618\n",
      "recoiled 7.354975972077618\n",
      "nightshirt 7.354975972077618\n",
      "hungry 7.354975972077618\n",
      "drawing-room 7.354975972077618\n",
      "bones 7.354975972077618\n",
      "apron 7.354975972077618\n",
      "abandoned 7.354975972077618\n",
      "ran 7.075864523343903\n",
      "leaned 6.837188164142294\n",
      "heart 6.686615208149133\n",
      "stood 6.028692505476133\n",
      "wore 5.786415032020669\n",
      "yanked 5.785410320861345\n",
      "welcomed 5.785410320861345\n",
      "snored 5.785410320861345\n",
      "slowed 5.785410320861345\n",
      "silenced 5.785410320861345\n",
      "sense 5.785410320861345\n",
      "save 5.785410320861345\n",
      "\n",
      "BOTTOM VALUES:\n",
      "mother -195.4466664158344\n",
      "thought -68.26984216214623\n",
      "father -65.98077233986645\n",
      "wondered -43.82090999202654\n",
      "room -37.37774220703629\n",
      "asked -34.78775554608738\n",
      "cried -27.14499733824231\n",
      "bed -23.79884462181867\n",
      "sure -20.002466446793548\n",
      "rang -17.988994366829676\n",
      "looks -17.671480206029642\n",
      "aunt -15.649644173063631\n",
      "doing -14.209596105961015\n",
      "wheeled -13.314330036640637\n",
      "cap -13.263943662451524\n",
      "chair -13.13099591267936\n",
      "brother -12.608562993979138\n",
      "got -12.32562998887989\n",
      "get -11.935865473844089\n",
      "told -11.778173943904243\n",
      "do -11.75039548207776\n",
      "friends -11.30776487085099\n",
      "has -11.004252618172838\n",
      "sort -10.984509998301144\n",
      "thumbs -10.984509998301144\n",
      "arm -10.682047226933783\n",
      "glad -10.55727939943907\n",
      "grandmother -10.530676825703509\n",
      "think -10.431018426298543\n",
      "tell -10.37844333492404\n",
      "sighed -10.358346396753854\n",
      "pants -9.822358462219103\n",
      "tells -9.822358462219103\n",
      "hated -8.89065088973915\n",
      "embarrassed -8.662610224082465\n",
      "enquired -8.662610224082465\n",
      "starts -8.662610224082465\n",
      "books -8.514587396078348\n",
      "thumb -8.514587396078348\n",
      "making -8.48352474407351\n",
      "decided -8.114774777332263\n",
      "comes -7.908625161051547\n",
      "watched -7.842340189149223\n",
      "explained -7.813171307988366\n",
      "talked -7.813171307988366\n",
      "arrived -7.512988238767697\n",
      "crying -7.512988238767697\n",
      "cousin -7.5058960258861305\n",
      "frightened -7.5058960258861305\n",
      "interested -7.5058960258861305\n"
     ]
    }
   ],
   "source": [
    "total_words = Counter()\n",
    "addcounters(disability, total_words)\n",
    "addcounters(no_disability, total_words)\n",
    "\n",
    "# Create an empty list to hold pairs of (overrepresentation_measure, word) Then iterate through your \n",
    "# vocabulary. For each word, measure overrepresentation using either logodds or signed_dunnings.\n",
    "\n",
    "overrep_words_log = []\n",
    "overrep_words_dunnings = []\n",
    "\n",
    "for wrd in dis_vocab_nostop:\n",
    "    x = signed_dunnings(no_disability, no_dis_ct, disability, dis_ct, wrd)\n",
    "    overrep_words_dunnings.append((x, wrd))\n",
    "\n",
    "for word in dis_vocab_nostop:\n",
    "    x = logodds(no_disability, disability, word)\n",
    "    overrep_words_log.append((x, word))\n",
    "\n",
    "# Finally use the headandtail function to display the top 25 and bottom 25 words in your tuplelist.\n",
    "\n",
    "print('FOR LOG ODDS:')\n",
    "headandtail(overrep_words_log, 50)\n",
    "print('\\n')\n",
    "print('FOR DUNNINGS:')\n",
    "headandtail(overrep_words_dunnings, 50)"
   ]
  },
  {
   "cell_type": "code",
   "execution_count": null,
   "metadata": {
    "collapsed": true
   },
   "outputs": [],
   "source": []
  },
  {
   "cell_type": "code",
   "execution_count": null,
   "metadata": {
    "collapsed": true
   },
   "outputs": [],
   "source": []
  },
  {
   "cell_type": "code",
   "execution_count": null,
   "metadata": {
    "collapsed": true
   },
   "outputs": [],
   "source": []
  },
  {
   "cell_type": "code",
   "execution_count": null,
   "metadata": {
    "collapsed": true
   },
   "outputs": [],
   "source": []
  },
  {
   "cell_type": "code",
   "execution_count": null,
   "metadata": {
    "collapsed": true
   },
   "outputs": [],
   "source": []
  },
  {
   "cell_type": "code",
   "execution_count": null,
   "metadata": {
    "collapsed": true
   },
   "outputs": [],
   "source": []
  },
  {
   "cell_type": "code",
   "execution_count": null,
   "metadata": {
    "collapsed": true
   },
   "outputs": [],
   "source": []
  },
  {
   "cell_type": "code",
   "execution_count": null,
   "metadata": {
    "collapsed": true
   },
   "outputs": [],
   "source": []
  },
  {
   "cell_type": "code",
   "execution_count": null,
   "metadata": {
    "collapsed": true
   },
   "outputs": [],
   "source": []
  },
  {
   "cell_type": "code",
   "execution_count": null,
   "metadata": {
    "collapsed": true
   },
   "outputs": [],
   "source": []
  },
  {
   "cell_type": "code",
   "execution_count": null,
   "metadata": {
    "collapsed": true
   },
   "outputs": [],
   "source": []
  },
  {
   "cell_type": "code",
   "execution_count": null,
   "metadata": {
    "collapsed": true
   },
   "outputs": [],
   "source": []
  },
  {
   "cell_type": "code",
   "execution_count": null,
   "metadata": {
    "collapsed": true
   },
   "outputs": [],
   "source": []
  },
  {
   "cell_type": "code",
   "execution_count": null,
   "metadata": {
    "collapsed": true
   },
   "outputs": [],
   "source": []
  },
  {
   "cell_type": "code",
   "execution_count": null,
   "metadata": {
    "collapsed": true
   },
   "outputs": [],
   "source": []
  },
  {
   "cell_type": "code",
   "execution_count": null,
   "metadata": {
    "collapsed": true
   },
   "outputs": [],
   "source": []
  },
  {
   "cell_type": "code",
   "execution_count": 493,
   "metadata": {
    "collapsed": true
   },
   "outputs": [],
   "source": []
  },
  {
   "cell_type": "code",
   "execution_count": null,
   "metadata": {
    "collapsed": true
   },
   "outputs": [],
   "source": []
  },
  {
   "cell_type": "code",
   "execution_count": 496,
   "metadata": {
    "collapsed": false
   },
   "outputs": [],
   "source": []
  },
  {
   "cell_type": "code",
   "execution_count": null,
   "metadata": {
    "collapsed": true
   },
   "outputs": [],
   "source": []
  },
  {
   "cell_type": "code",
   "execution_count": null,
   "metadata": {
    "collapsed": false
   },
   "outputs": [],
   "source": []
  },
  {
   "cell_type": "code",
   "execution_count": null,
   "metadata": {
    "collapsed": true
   },
   "outputs": [],
   "source": []
  },
  {
   "cell_type": "code",
   "execution_count": null,
   "metadata": {
    "collapsed": true
   },
   "outputs": [],
   "source": []
  },
  {
   "cell_type": "code",
   "execution_count": null,
   "metadata": {
    "collapsed": true
   },
   "outputs": [],
   "source": []
  }
 ],
 "metadata": {
  "anaconda-cloud": {},
  "kernelspec": {
   "display_name": "Python [conda root]",
   "language": "python",
   "name": "conda-root-py"
  },
  "language_info": {
   "codemirror_mode": {
    "name": "ipython",
    "version": 3
   },
   "file_extension": ".py",
   "mimetype": "text/x-python",
   "name": "python",
   "nbconvert_exporter": "python",
   "pygments_lexer": "ipython3",
   "version": "3.5.3"
  }
 },
 "nbformat": 4,
 "nbformat_minor": 1
}
