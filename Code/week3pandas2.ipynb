{
 "cells": [
  {
   "cell_type": "markdown",
   "metadata": {},
   "source": [
    "# Data analysis with pandas\n",
    "\n",
    "Technically, I think pandas stands for \"**pan**el **da**ta.\" But really it's just an easy-to-remember name.\n",
    "\n",
    "Let's use it to explore our Bechdel-test dataset. The questions we'll pose are based on [a parallel analysis by Albert Y. Kim, Chester Ismay, and Jennifer Chunn.](https://mran.microsoft.com/web/packages/fivethirtyeight/vignettes/bechdel.html) Basically, our goal is to figure out whether a film's approach to gender is significantly correlated with the amount of money executives are willing to spend on it, or the amount it makes. It would be especially telling if we could show that executives tend to under-estimate the amount of money made by films about women.\n",
    "\n",
    "First run the cell below, to make sure all the modules you need are imported, and to load the dataset itself. \n",
    "\n",
    "As part of the process, this cell also prints out your \"current working directory,\" (which can be useful if you need to check that the relative path is starting *from* the right place).\n"
   ]
  },
  {
   "cell_type": "code",
   "execution_count": 4,
   "metadata": {
    "collapsed": false
   },
   "outputs": [
    {
     "name": "stdout",
     "output_type": "stream",
     "text": [
      "Current working directory: /Users/tunder/Dropbox/courses/2017datasci/03-Pandas\n",
      "\n"
     ]
    }
   ],
   "source": [
    "%matplotlib inline\n",
    "import os\n",
    "import pandas as pd\n",
    "import numpy as np\n",
    "import matplotlib.pyplot as plt\n",
    "\n",
    "cwd = os.getcwd()\n",
    "print('Current working directory: ' + cwd + '\\n')\n",
    "      \n",
    "relativepath = os.path.join('..', 'data', 'fivethirtyeight', 'bechdel.csv')\n",
    "bechdel = pd.read_csv(relativepath)\n"
   ]
  },
  {
   "cell_type": "markdown",
   "metadata": {},
   "source": [
    "### Initial exploratory analysis.\n",
    "\n",
    "Once that's done, we can start to explore the basic properties of the DataFrame. Remember that shape is defined as\n",
    "\n",
    "(rows, columns)"
   ]
  },
  {
   "cell_type": "code",
   "execution_count": 12,
   "metadata": {
    "collapsed": false
   },
   "outputs": [
    {
     "name": "stdout",
     "output_type": "stream",
     "text": [
      "Data frame shape:  (1794, 15)\n"
     ]
    }
   ],
   "source": [
    "print('Data frame shape: ', bechdel.shape)"
   ]
  },
  {
   "cell_type": "code",
   "execution_count": 13,
   "metadata": {
    "collapsed": false
   },
   "outputs": [
    {
     "name": "stdout",
     "output_type": "stream",
     "text": [
      "Data frame columns:  ['year' 'imdb' 'title' 'test' 'clean_test' 'binary' 'budget' 'domgross'\n",
      " 'intgross' 'code' 'budget_2013' 'domgross_2013' 'intgross_2013'\n",
      " 'period_code' 'decade_code']\n"
     ]
    }
   ],
   "source": [
    "print('Data frame columns: ', bechdel.columns.values)"
   ]
  },
  {
   "cell_type": "markdown",
   "metadata": {},
   "source": [
    "DataFrames have a head() method that can be useful to get a sense of what columns actually contain. Note that you can scroll back and forth below."
   ]
  },
  {
   "cell_type": "code",
   "execution_count": 11,
   "metadata": {
    "collapsed": false
   },
   "outputs": [
    {
     "data": {
      "text/html": [
       "<div>\n",
       "<table border=\"1\" class=\"dataframe\">\n",
       "  <thead>\n",
       "    <tr style=\"text-align: right;\">\n",
       "      <th></th>\n",
       "      <th>year</th>\n",
       "      <th>imdb</th>\n",
       "      <th>title</th>\n",
       "      <th>test</th>\n",
       "      <th>clean_test</th>\n",
       "      <th>binary</th>\n",
       "      <th>budget</th>\n",
       "      <th>domgross</th>\n",
       "      <th>intgross</th>\n",
       "      <th>code</th>\n",
       "      <th>budget_2013</th>\n",
       "      <th>domgross_2013</th>\n",
       "      <th>intgross_2013</th>\n",
       "      <th>period_code</th>\n",
       "      <th>decade_code</th>\n",
       "    </tr>\n",
       "  </thead>\n",
       "  <tbody>\n",
       "    <tr>\n",
       "      <th>0</th>\n",
       "      <td>2013</td>\n",
       "      <td>tt1711425</td>\n",
       "      <td>21 &amp; Over</td>\n",
       "      <td>notalk</td>\n",
       "      <td>notalk</td>\n",
       "      <td>FAIL</td>\n",
       "      <td>13000000</td>\n",
       "      <td>25682380.0</td>\n",
       "      <td>42195766.0</td>\n",
       "      <td>2013FAIL</td>\n",
       "      <td>13000000</td>\n",
       "      <td>25682380.0</td>\n",
       "      <td>42195766.0</td>\n",
       "      <td>1.0</td>\n",
       "      <td>1.0</td>\n",
       "    </tr>\n",
       "    <tr>\n",
       "      <th>1</th>\n",
       "      <td>2012</td>\n",
       "      <td>tt1343727</td>\n",
       "      <td>Dredd 3D</td>\n",
       "      <td>ok-disagree</td>\n",
       "      <td>ok</td>\n",
       "      <td>PASS</td>\n",
       "      <td>45000000</td>\n",
       "      <td>13414714.0</td>\n",
       "      <td>40868994.0</td>\n",
       "      <td>2012PASS</td>\n",
       "      <td>45658735</td>\n",
       "      <td>13611086.0</td>\n",
       "      <td>41467257.0</td>\n",
       "      <td>1.0</td>\n",
       "      <td>1.0</td>\n",
       "    </tr>\n",
       "    <tr>\n",
       "      <th>2</th>\n",
       "      <td>2013</td>\n",
       "      <td>tt2024544</td>\n",
       "      <td>12 Years a Slave</td>\n",
       "      <td>notalk-disagree</td>\n",
       "      <td>notalk</td>\n",
       "      <td>FAIL</td>\n",
       "      <td>20000000</td>\n",
       "      <td>53107035.0</td>\n",
       "      <td>158607035.0</td>\n",
       "      <td>2013FAIL</td>\n",
       "      <td>20000000</td>\n",
       "      <td>53107035.0</td>\n",
       "      <td>158607035.0</td>\n",
       "      <td>1.0</td>\n",
       "      <td>1.0</td>\n",
       "    </tr>\n",
       "    <tr>\n",
       "      <th>3</th>\n",
       "      <td>2013</td>\n",
       "      <td>tt1272878</td>\n",
       "      <td>2 Guns</td>\n",
       "      <td>notalk</td>\n",
       "      <td>notalk</td>\n",
       "      <td>FAIL</td>\n",
       "      <td>61000000</td>\n",
       "      <td>75612460.0</td>\n",
       "      <td>132493015.0</td>\n",
       "      <td>2013FAIL</td>\n",
       "      <td>61000000</td>\n",
       "      <td>75612460.0</td>\n",
       "      <td>132493015.0</td>\n",
       "      <td>1.0</td>\n",
       "      <td>1.0</td>\n",
       "    </tr>\n",
       "    <tr>\n",
       "      <th>4</th>\n",
       "      <td>2013</td>\n",
       "      <td>tt0453562</td>\n",
       "      <td>42</td>\n",
       "      <td>men</td>\n",
       "      <td>men</td>\n",
       "      <td>FAIL</td>\n",
       "      <td>40000000</td>\n",
       "      <td>95020213.0</td>\n",
       "      <td>95020213.0</td>\n",
       "      <td>2013FAIL</td>\n",
       "      <td>40000000</td>\n",
       "      <td>95020213.0</td>\n",
       "      <td>95020213.0</td>\n",
       "      <td>1.0</td>\n",
       "      <td>1.0</td>\n",
       "    </tr>\n",
       "  </tbody>\n",
       "</table>\n",
       "</div>"
      ],
      "text/plain": [
       "   year       imdb             title             test clean_test binary  \\\n",
       "0  2013  tt1711425         21 & Over           notalk     notalk   FAIL   \n",
       "1  2012  tt1343727          Dredd 3D      ok-disagree         ok   PASS   \n",
       "2  2013  tt2024544  12 Years a Slave  notalk-disagree     notalk   FAIL   \n",
       "3  2013  tt1272878            2 Guns           notalk     notalk   FAIL   \n",
       "4  2013  tt0453562                42              men        men   FAIL   \n",
       "\n",
       "     budget    domgross     intgross      code  budget_2013  domgross_2013  \\\n",
       "0  13000000  25682380.0   42195766.0  2013FAIL     13000000     25682380.0   \n",
       "1  45000000  13414714.0   40868994.0  2012PASS     45658735     13611086.0   \n",
       "2  20000000  53107035.0  158607035.0  2013FAIL     20000000     53107035.0   \n",
       "3  61000000  75612460.0  132493015.0  2013FAIL     61000000     75612460.0   \n",
       "4  40000000  95020213.0   95020213.0  2013FAIL     40000000     95020213.0   \n",
       "\n",
       "   intgross_2013  period_code  decade_code  \n",
       "0     42195766.0          1.0          1.0  \n",
       "1     41467257.0          1.0          1.0  \n",
       "2    158607035.0          1.0          1.0  \n",
       "3    132493015.0          1.0          1.0  \n",
       "4     95020213.0          1.0          1.0  "
      ]
     },
     "execution_count": 11,
     "metadata": {},
     "output_type": "execute_result"
    }
   ],
   "source": [
    "bechdel.head()"
   ]
  },
  {
   "cell_type": "markdown",
   "metadata": {},
   "source": [
    "To get a sense of the distribution of a column we already know how to print a histogram."
   ]
  },
  {
   "cell_type": "code",
   "execution_count": 18,
   "metadata": {
    "collapsed": false
   },
   "outputs": [
    {
     "data": {
      "text/plain": [
       "<matplotlib.axes._subplots.AxesSubplot at 0x116188588>"
      ]
     },
     "execution_count": 18,
     "metadata": {},
     "output_type": "execute_result"
    },
    {
     "data": {
      "image/png": "[encoded data removed]",
      "text/plain": [
       "<matplotlib.figure.Figure at 0x112e99b00>"
      ]
     },
     "metadata": {},
     "output_type": "display_data"
    }
   ],
   "source": [
    "bechdel['budget_2013'].hist()"
   ]
  },
  {
   "cell_type": "raw",
   "metadata": {},
   "source": [
    "Or a scatterplot, to assess the relation between two columns (e.g., how inflation-adjusted budget varies over time)."
   ]
  },
  {
   "cell_type": "code",
   "execution_count": 31,
   "metadata": {
    "collapsed": false
   },
   "outputs": [
    {
     "data": {
      "image/png": "[encoded data removed]",
      "text/plain": [
       "<matplotlib.figure.Figure at 0x1167a10f0>"
      ]
     },
     "metadata": {},
     "output_type": "display_data"
    }
   ],
   "source": [
    "bechdel.plot(kind = 'scatter', x = 'year', y = 'budget_2013', color = 'r', marker = 'o')\n",
    "plt.show()"
   ]
  },
  {
   "cell_type": "markdown",
   "metadata": {},
   "source": [
    "## Pandas' relation to numpy\n",
    "\n",
    "This may seem a little abstract or metaphysical, but it's important to understand that the columns in Pandas are not ordinary Python lists. Pandas is built on top of a library called Numpy, which allows us to do math directly on vectors and matrices instead of individual numbers. Here's a quick illustration of the difference between a Numpy \"array\" and a Python \"list.\""
   ]
  },
  {
   "cell_type": "code",
   "execution_count": 30,
   "metadata": {
    "collapsed": false
   },
   "outputs": [
    {
     "name": "stdout",
     "output_type": "stream",
     "text": [
      "List arithmetic: concatenation\n",
      "[1, 10, 100, 1000, 1, 10, 100, 1000]\n",
      "\n",
      "Numpy arithmetic: vector math\n",
      "[   2   11  101 1001]\n",
      "[   2   20  200 2000]\n",
      "[    1.1    11.    110.   1100. ]\n",
      "[ 0.  1.  2.  3.]\n"
     ]
    }
   ],
   "source": [
    "# a Python list can contain mixed items\n",
    "heterogenous = ['alphabet', 1492, ('a', 'tuple')]\n",
    "\n",
    "# a Numpy array has to have a single data type\n",
    "np_array = np.array([1, 10, 100, 1000], dtype = 'int64')\n",
    "\n",
    "# If you try to do arithmetic on Python lists, it will\n",
    "# be interpreted as concatenation\n",
    "print('List arithmetic: concatenation')\n",
    "py_list = [1, 10, 100, 1000]\n",
    "print(py_list * 2)\n",
    "print()\n",
    "\n",
    "print('Numpy arithmetic: vector math')\n",
    "print(np_array + 1)\n",
    "print(np_array * 2)\n",
    "print(np_array + np_array/10)\n",
    "print(np.log10(np_array))\n",
    "\n",
    "# In the last two examples here, note that the entire array of\n",
    "# integers is converted to an array of floats when necessary"
   ]
  },
  {
   "cell_type": "markdown",
   "metadata": {},
   "source": [
    "[A full explanation of Numpy data types](https://www.tutorialspoint.com/numpy/numpy_data_types.htm) gets complicated, but for our purposes the main ones you need to know about are \n",
    "\n",
    "    int64 (Python int)\n",
    "    float64 (Python float)\n",
    "    and object (Python string)\n",
    "    \n",
    "If you needed to save space because of memory limits on big data you could get clever and use another type like ```int16.```\n",
    "\n",
    "I've said that Pandas columns are built on Numpy arrays, but they do have a few other features — especially a feature called an 'index,' which allows automatic alignment of differently-sorted data. For this reason we'll refer to them as data objects called Series."
   ]
  },
  {
   "cell_type": "code",
   "execution_count": 36,
   "metadata": {
    "collapsed": false
   },
   "outputs": [
    {
     "data": {
      "text/html": [
       "<div>\n",
       "<table border=\"1\" class=\"dataframe\">\n",
       "  <thead>\n",
       "    <tr style=\"text-align: right;\">\n",
       "      <th></th>\n",
       "      <th>city</th>\n",
       "      <th>scenic</th>\n",
       "    </tr>\n",
       "  </thead>\n",
       "  <tbody>\n",
       "    <tr>\n",
       "      <th>F</th>\n",
       "      <td>12</td>\n",
       "      <td>NaN</td>\n",
       "    </tr>\n",
       "    <tr>\n",
       "      <th>M</th>\n",
       "      <td>14</td>\n",
       "      <td>NaN</td>\n",
       "    </tr>\n",
       "    <tr>\n",
       "      <th>R</th>\n",
       "      <td>14</td>\n",
       "      <td>NaN</td>\n",
       "    </tr>\n",
       "    <tr>\n",
       "      <th>Sa</th>\n",
       "      <td>0</td>\n",
       "      <td>18.0</td>\n",
       "    </tr>\n",
       "    <tr>\n",
       "      <th>Su</th>\n",
       "      <td>5</td>\n",
       "      <td>14.0</td>\n",
       "    </tr>\n",
       "    <tr>\n",
       "      <th>T</th>\n",
       "      <td>17</td>\n",
       "      <td>NaN</td>\n",
       "    </tr>\n",
       "    <tr>\n",
       "      <th>W</th>\n",
       "      <td>18</td>\n",
       "      <td>2.0</td>\n",
       "    </tr>\n",
       "  </tbody>\n",
       "</table>\n",
       "</div>"
      ],
      "text/plain": [
       "    city  scenic\n",
       "F     12     NaN\n",
       "M     14     NaN\n",
       "R     14     NaN\n",
       "Sa     0    18.0\n",
       "Su     5    14.0\n",
       "T     17     NaN\n",
       "W     18     2.0"
      ]
     },
     "execution_count": 36,
     "metadata": {},
     "output_type": "execute_result"
    }
   ],
   "source": [
    "# How many bicyclists use different paths in Montreal?\n",
    "\n",
    "city_path = pd.Series([5, 14, 17, 18, 14, 12, 0], index = ['Su', 'M', \"T\", 'W', 'R', 'F', 'Sa'])\n",
    "scenic_path = pd.Series([14, 2, 18], index = ['Su', 'W', 'Sa'])\n",
    "path_frame = pd.concat([city_path, scenic_path], axis = 1)\n",
    "path_frame.columns = ['city', 'scenic']\n",
    "path_frame"
   ]
  },
  {
   "cell_type": "markdown",
   "metadata": {},
   "source": [
    "Notice several things above: the index is not technically a column of the DataFrame. It's a separate entity, which we could access by saying ```path_frame.index```. The two Series are automatically aligned along the index. Where values are missing in the scenic path, NaN is created as a placeholder for missing data. You can check for missing values with the method ```isnull()``` and fill missing values with the method ```fillna()```. In this case, we could assume that a missing value is equivalent to zero. That assumption won't always be safe, but if it's safe here, we could apply it."
   ]
  },
  {
   "cell_type": "code",
   "execution_count": 38,
   "metadata": {
    "collapsed": false
   },
   "outputs": [
    {
     "name": "stdout",
     "output_type": "stream",
     "text": [
      "F      True\n",
      "M      True\n",
      "R      True\n",
      "Sa    False\n",
      "Su    False\n",
      "T      True\n",
      "W     False\n",
      "Name: scenic, dtype: bool\n"
     ]
    },
    {
     "data": {
      "text/html": [
       "<div>\n",
       "<table border=\"1\" class=\"dataframe\">\n",
       "  <thead>\n",
       "    <tr style=\"text-align: right;\">\n",
       "      <th></th>\n",
       "      <th>city</th>\n",
       "      <th>scenic</th>\n",
       "    </tr>\n",
       "  </thead>\n",
       "  <tbody>\n",
       "    <tr>\n",
       "      <th>F</th>\n",
       "      <td>12</td>\n",
       "      <td>0.0</td>\n",
       "    </tr>\n",
       "    <tr>\n",
       "      <th>M</th>\n",
       "      <td>14</td>\n",
       "      <td>0.0</td>\n",
       "    </tr>\n",
       "    <tr>\n",
       "      <th>R</th>\n",
       "      <td>14</td>\n",
       "      <td>0.0</td>\n",
       "    </tr>\n",
       "    <tr>\n",
       "      <th>Sa</th>\n",
       "      <td>0</td>\n",
       "      <td>18.0</td>\n",
       "    </tr>\n",
       "    <tr>\n",
       "      <th>Su</th>\n",
       "      <td>5</td>\n",
       "      <td>14.0</td>\n",
       "    </tr>\n",
       "    <tr>\n",
       "      <th>T</th>\n",
       "      <td>17</td>\n",
       "      <td>0.0</td>\n",
       "    </tr>\n",
       "    <tr>\n",
       "      <th>W</th>\n",
       "      <td>18</td>\n",
       "      <td>2.0</td>\n",
       "    </tr>\n",
       "  </tbody>\n",
       "</table>\n",
       "</div>"
      ],
      "text/plain": [
       "    city  scenic\n",
       "F     12     0.0\n",
       "M     14     0.0\n",
       "R     14     0.0\n",
       "Sa     0    18.0\n",
       "Su     5    14.0\n",
       "T     17     0.0\n",
       "W     18     2.0"
      ]
     },
     "execution_count": 38,
     "metadata": {},
     "output_type": "execute_result"
    }
   ],
   "source": [
    "print(path_frame['scenic'].isnull())\n",
    "path_frame.fillna(0)"
   ]
  },
  {
   "cell_type": "markdown",
   "metadata": {},
   "source": [
    "You'll notice that the presence of missing data has converted one column to float, while the other remains integer. That's not really intended behavior; it's an odd, relatively trivial side-effect of the choice to represent missing data as NaN."
   ]
  },
  {
   "cell_type": "markdown",
   "metadata": {},
   "source": [
    "## Split - apply - combine\n",
    "\n",
    "A lot of operations on tabular data boil down to a three-step recipe:\n",
    "\n",
    "1. split the table into subgroups using values of some variable\n",
    "2. perform an operation on each subgroup\n",
    "3. recombine the transformed data\n",
    "\n",
    "For a full explanation of this strategy, [see the Pandas documentation.](http://pandas.pydata.org/pandas-docs/stable/groupby.html) But to take a simple example, suppose we wanted to find the mean budget for each year in our bechdel dataset. The ```groupby``` method divides the DataFrame, producing a data object that is basically a ```mapping```; it's not something you can easily display by itself.\n"
   ]
  },
  {
   "cell_type": "code",
   "execution_count": 39,
   "metadata": {
    "collapsed": false
   },
   "outputs": [
    {
     "data": {
      "text/plain": [
       "<pandas.core.groupby.DataFrameGroupBy object at 0x1167bb080>"
      ]
     },
     "execution_count": 39,
     "metadata": {},
     "output_type": "execute_result"
    }
   ],
   "source": [
    "by_year = bechdel.groupby('year')\n",
    "by_year"
   ]
  },
  {
   "cell_type": "markdown",
   "metadata": {},
   "source": [
    "If you want to use the GroupBy object, you need to do something with it. ```aggregate()``` is a common operation. It takes a function as its argument. Some of the functions that can be passed in include ```np.sum, np.mean, np.median,``` and ```np.std``` (standard deviation). The prefix ```np``` is there to acknowledge that many of these are actually Numpy functions.\n"
   ]
  },
  {
   "cell_type": "code",
   "execution_count": 46,
   "metadata": {
    "collapsed": false
   },
   "outputs": [
    {
     "data": {
      "text/html": [
       "<div>\n",
       "<table border=\"1\" class=\"dataframe\">\n",
       "  <thead>\n",
       "    <tr style=\"text-align: right;\">\n",
       "      <th></th>\n",
       "      <th>budget</th>\n",
       "      <th>budget_2013</th>\n",
       "    </tr>\n",
       "    <tr>\n",
       "      <th>year</th>\n",
       "      <th></th>\n",
       "      <th></th>\n",
       "    </tr>\n",
       "  </thead>\n",
       "  <tbody>\n",
       "    <tr>\n",
       "      <th>1970</th>\n",
       "      <td>1000000</td>\n",
       "      <td>5997631</td>\n",
       "    </tr>\n",
       "    <tr>\n",
       "      <th>1971</th>\n",
       "      <td>17142587</td>\n",
       "      <td>98647264</td>\n",
       "    </tr>\n",
       "    <tr>\n",
       "      <th>1972</th>\n",
       "      <td>3670666</td>\n",
       "      <td>20453466</td>\n",
       "    </tr>\n",
       "    <tr>\n",
       "      <th>1973</th>\n",
       "      <td>7195400</td>\n",
       "      <td>37731916</td>\n",
       "    </tr>\n",
       "    <tr>\n",
       "      <th>1974</th>\n",
       "      <td>4182857</td>\n",
       "      <td>19758671</td>\n",
       "    </tr>\n",
       "    <tr>\n",
       "      <th>1975</th>\n",
       "      <td>5800000</td>\n",
       "      <td>25102981</td>\n",
       "    </tr>\n",
       "    <tr>\n",
       "      <th>1976</th>\n",
       "      <td>7525000</td>\n",
       "      <td>30790999</td>\n",
       "    </tr>\n",
       "    <tr>\n",
       "      <th>1977</th>\n",
       "      <td>10071428</td>\n",
       "      <td>38705973</td>\n",
       "    </tr>\n",
       "    <tr>\n",
       "      <th>1978</th>\n",
       "      <td>15843750</td>\n",
       "      <td>56573373</td>\n",
       "    </tr>\n",
       "    <tr>\n",
       "      <th>1979</th>\n",
       "      <td>25000000</td>\n",
       "      <td>80239174</td>\n",
       "    </tr>\n",
       "    <tr>\n",
       "      <th>1980</th>\n",
       "      <td>22614285</td>\n",
       "      <td>63947950</td>\n",
       "    </tr>\n",
       "    <tr>\n",
       "      <th>1981</th>\n",
       "      <td>8269444</td>\n",
       "      <td>21185375</td>\n",
       "    </tr>\n",
       "    <tr>\n",
       "      <th>1982</th>\n",
       "      <td>12567857</td>\n",
       "      <td>30329607</td>\n",
       "    </tr>\n",
       "    <tr>\n",
       "      <th>1983</th>\n",
       "      <td>19290400</td>\n",
       "      <td>45127095</td>\n",
       "    </tr>\n",
       "    <tr>\n",
       "      <th>1984</th>\n",
       "      <td>18187500</td>\n",
       "      <td>40766262</td>\n",
       "    </tr>\n",
       "    <tr>\n",
       "      <th>1985</th>\n",
       "      <td>16730000</td>\n",
       "      <td>36221382</td>\n",
       "    </tr>\n",
       "    <tr>\n",
       "      <th>1986</th>\n",
       "      <td>16000000</td>\n",
       "      <td>33980235</td>\n",
       "    </tr>\n",
       "    <tr>\n",
       "      <th>1987</th>\n",
       "      <td>22050000</td>\n",
       "      <td>45211262</td>\n",
       "    </tr>\n",
       "    <tr>\n",
       "      <th>1988</th>\n",
       "      <td>16963157</td>\n",
       "      <td>33411433</td>\n",
       "    </tr>\n",
       "    <tr>\n",
       "      <th>1989</th>\n",
       "      <td>24685714</td>\n",
       "      <td>46398993</td>\n",
       "    </tr>\n",
       "    <tr>\n",
       "      <th>1990</th>\n",
       "      <td>30600000</td>\n",
       "      <td>54559047</td>\n",
       "    </tr>\n",
       "    <tr>\n",
       "      <th>1991</th>\n",
       "      <td>35694076</td>\n",
       "      <td>61066867</td>\n",
       "    </tr>\n",
       "    <tr>\n",
       "      <th>1992</th>\n",
       "      <td>24235350</td>\n",
       "      <td>40239096</td>\n",
       "    </tr>\n",
       "    <tr>\n",
       "      <th>1993</th>\n",
       "      <td>28175000</td>\n",
       "      <td>45431029</td>\n",
       "    </tr>\n",
       "    <tr>\n",
       "      <th>1994</th>\n",
       "      <td>33858730</td>\n",
       "      <td>53214571</td>\n",
       "    </tr>\n",
       "    <tr>\n",
       "      <th>1995</th>\n",
       "      <td>39856944</td>\n",
       "      <td>60932477</td>\n",
       "    </tr>\n",
       "    <tr>\n",
       "      <th>1996</th>\n",
       "      <td>34927380</td>\n",
       "      <td>51872921</td>\n",
       "    </tr>\n",
       "    <tr>\n",
       "      <th>1997</th>\n",
       "      <td>47434803</td>\n",
       "      <td>68839195</td>\n",
       "    </tr>\n",
       "    <tr>\n",
       "      <th>1998</th>\n",
       "      <td>37039806</td>\n",
       "      <td>52934784</td>\n",
       "    </tr>\n",
       "    <tr>\n",
       "      <th>1999</th>\n",
       "      <td>41978571</td>\n",
       "      <td>58705438</td>\n",
       "    </tr>\n",
       "    <tr>\n",
       "      <th>2000</th>\n",
       "      <td>41918541</td>\n",
       "      <td>56711945</td>\n",
       "    </tr>\n",
       "    <tr>\n",
       "      <th>2001</th>\n",
       "      <td>41416406</td>\n",
       "      <td>54497610</td>\n",
       "    </tr>\n",
       "    <tr>\n",
       "      <th>2002</th>\n",
       "      <td>42867282</td>\n",
       "      <td>55520813</td>\n",
       "    </tr>\n",
       "    <tr>\n",
       "      <th>2003</th>\n",
       "      <td>55335156</td>\n",
       "      <td>70059119</td>\n",
       "    </tr>\n",
       "    <tr>\n",
       "      <th>2004</th>\n",
       "      <td>49043124</td>\n",
       "      <td>60479631</td>\n",
       "    </tr>\n",
       "    <tr>\n",
       "      <th>2005</th>\n",
       "      <td>45754250</td>\n",
       "      <td>54586335</td>\n",
       "    </tr>\n",
       "    <tr>\n",
       "      <th>2006</th>\n",
       "      <td>41924722</td>\n",
       "      <td>48456440</td>\n",
       "    </tr>\n",
       "    <tr>\n",
       "      <th>2007</th>\n",
       "      <td>47113532</td>\n",
       "      <td>52934102</td>\n",
       "    </tr>\n",
       "    <tr>\n",
       "      <th>2008</th>\n",
       "      <td>49651485</td>\n",
       "      <td>53735633</td>\n",
       "    </tr>\n",
       "    <tr>\n",
       "      <th>2009</th>\n",
       "      <td>50151612</td>\n",
       "      <td>54451190</td>\n",
       "    </tr>\n",
       "    <tr>\n",
       "      <th>2010</th>\n",
       "      <td>51915116</td>\n",
       "      <td>55457380</td>\n",
       "    </tr>\n",
       "    <tr>\n",
       "      <th>2011</th>\n",
       "      <td>50357137</td>\n",
       "      <td>52154422</td>\n",
       "    </tr>\n",
       "    <tr>\n",
       "      <th>2012</th>\n",
       "      <td>64458120</td>\n",
       "      <td>65401694</td>\n",
       "    </tr>\n",
       "    <tr>\n",
       "      <th>2013</th>\n",
       "      <td>72097979</td>\n",
       "      <td>72097979</td>\n",
       "    </tr>\n",
       "  </tbody>\n",
       "</table>\n",
       "</div>"
      ],
      "text/plain": [
       "        budget  budget_2013\n",
       "year                       \n",
       "1970   1000000      5997631\n",
       "1971  17142587     98647264\n",
       "1972   3670666     20453466\n",
       "1973   7195400     37731916\n",
       "1974   4182857     19758671\n",
       "1975   5800000     25102981\n",
       "1976   7525000     30790999\n",
       "1977  10071428     38705973\n",
       "1978  15843750     56573373\n",
       "1979  25000000     80239174\n",
       "1980  22614285     63947950\n",
       "1981   8269444     21185375\n",
       "1982  12567857     30329607\n",
       "1983  19290400     45127095\n",
       "1984  18187500     40766262\n",
       "1985  16730000     36221382\n",
       "1986  16000000     33980235\n",
       "1987  22050000     45211262\n",
       "1988  16963157     33411433\n",
       "1989  24685714     46398993\n",
       "1990  30600000     54559047\n",
       "1991  35694076     61066867\n",
       "1992  24235350     40239096\n",
       "1993  28175000     45431029\n",
       "1994  33858730     53214571\n",
       "1995  39856944     60932477\n",
       "1996  34927380     51872921\n",
       "1997  47434803     68839195\n",
       "1998  37039806     52934784\n",
       "1999  41978571     58705438\n",
       "2000  41918541     56711945\n",
       "2001  41416406     54497610\n",
       "2002  42867282     55520813\n",
       "2003  55335156     70059119\n",
       "2004  49043124     60479631\n",
       "2005  45754250     54586335\n",
       "2006  41924722     48456440\n",
       "2007  47113532     52934102\n",
       "2008  49651485     53735633\n",
       "2009  50151612     54451190\n",
       "2010  51915116     55457380\n",
       "2011  50357137     52154422\n",
       "2012  64458120     65401694\n",
       "2013  72097979     72097979"
      ]
     },
     "execution_count": 46,
     "metadata": {},
     "output_type": "execute_result"
    }
   ],
   "source": [
    "mean_budget = by_year.aggregate(np.mean)[['budget', 'budget_2013']]\n",
    "mean_budget"
   ]
  },
  {
   "cell_type": "code",
   "execution_count": 63,
   "metadata": {
    "collapsed": false
   },
   "outputs": [
    {
     "data": {
      "image/png": "[encoded data removed]",
      "text/plain": [
       "<matplotlib.figure.Figure at 0x1172620f0>"
      ]
     },
     "metadata": {},
     "output_type": "display_data"
    }
   ],
   "source": [
    "mean_budget.plot()\n",
    "plt.show()"
   ]
  },
  {
   "cell_type": "markdown",
   "metadata": {},
   "source": [
    "You can also use the ```.count()``` method if you want simply to count the number of rows in each group. We can use this to count the number of films in each year, for instance."
   ]
  },
  {
   "cell_type": "code",
   "execution_count": 62,
   "metadata": {
    "collapsed": false
   },
   "outputs": [
    {
     "data": {
      "image/png": "[encoded data removed]",
      "text/plain": [
       "<matplotlib.figure.Figure at 0x117255e48>"
      ]
     },
     "metadata": {},
     "output_type": "display_data"
    }
   ],
   "source": [
    "number_of_films = bechdel.groupby('year').count()['title']\n",
    "number_of_films.plot()\n",
    "plt.show()"
   ]
  },
  {
   "cell_type": "markdown",
   "metadata": {},
   "source": [
    "## Exercise 1.\n",
    "\n",
    "Use the split-apply-combine method outlined above to divide the ```bechdel``` dataframe by the ```binary``` column. Report the mean and median inflation-adjusted budget for films that did or didn't pass the Bechdel test, as well as the sheer number of films in each category."
   ]
  },
  {
   "cell_type": "code",
   "execution_count": 64,
   "metadata": {
    "collapsed": true
   },
   "outputs": [],
   "source": [
    "# code for exercise 1 goes here"
   ]
  },
  {
   "cell_type": "markdown",
   "metadata": {},
   "source": [
    "## Adding columns to a DataFrame\n",
    "\n",
    "This is very easy. Add a column just as you would add a key to a dictionary. For instance, if we define return on investment as \n",
    "\n",
    "    gross receipts / budget\n",
    "    \n",
    "Then"
   ]
  },
  {
   "cell_type": "code",
   "execution_count": 70,
   "metadata": {
    "collapsed": false
   },
   "outputs": [
    {
     "data": {
      "text/html": [
       "<div>\n",
       "<table border=\"1\" class=\"dataframe\">\n",
       "  <thead>\n",
       "    <tr style=\"text-align: right;\">\n",
       "      <th></th>\n",
       "      <th>year</th>\n",
       "      <th>imdb</th>\n",
       "      <th>title</th>\n",
       "      <th>test</th>\n",
       "      <th>clean_test</th>\n",
       "      <th>binary</th>\n",
       "      <th>budget</th>\n",
       "      <th>domgross</th>\n",
       "      <th>intgross</th>\n",
       "      <th>code</th>\n",
       "      <th>budget_2013</th>\n",
       "      <th>domgross_2013</th>\n",
       "      <th>intgross_2013</th>\n",
       "      <th>period_code</th>\n",
       "      <th>decade_code</th>\n",
       "      <th>domroi</th>\n",
       "    </tr>\n",
       "  </thead>\n",
       "  <tbody>\n",
       "    <tr>\n",
       "      <th>0</th>\n",
       "      <td>2013</td>\n",
       "      <td>tt1711425</td>\n",
       "      <td>21 &amp; Over</td>\n",
       "      <td>notalk</td>\n",
       "      <td>notalk</td>\n",
       "      <td>FAIL</td>\n",
       "      <td>13000000</td>\n",
       "      <td>25682380.0</td>\n",
       "      <td>42195766.0</td>\n",
       "      <td>2013FAIL</td>\n",
       "      <td>13000000</td>\n",
       "      <td>25682380.0</td>\n",
       "      <td>42195766.0</td>\n",
       "      <td>1.0</td>\n",
       "      <td>1.0</td>\n",
       "      <td>1.975568</td>\n",
       "    </tr>\n",
       "    <tr>\n",
       "      <th>1</th>\n",
       "      <td>2012</td>\n",
       "      <td>tt1343727</td>\n",
       "      <td>Dredd 3D</td>\n",
       "      <td>ok-disagree</td>\n",
       "      <td>ok</td>\n",
       "      <td>PASS</td>\n",
       "      <td>45000000</td>\n",
       "      <td>13414714.0</td>\n",
       "      <td>40868994.0</td>\n",
       "      <td>2012PASS</td>\n",
       "      <td>45658735</td>\n",
       "      <td>13611086.0</td>\n",
       "      <td>41467257.0</td>\n",
       "      <td>1.0</td>\n",
       "      <td>1.0</td>\n",
       "      <td>0.298105</td>\n",
       "    </tr>\n",
       "    <tr>\n",
       "      <th>2</th>\n",
       "      <td>2013</td>\n",
       "      <td>tt2024544</td>\n",
       "      <td>12 Years a Slave</td>\n",
       "      <td>notalk-disagree</td>\n",
       "      <td>notalk</td>\n",
       "      <td>FAIL</td>\n",
       "      <td>20000000</td>\n",
       "      <td>53107035.0</td>\n",
       "      <td>158607035.0</td>\n",
       "      <td>2013FAIL</td>\n",
       "      <td>20000000</td>\n",
       "      <td>53107035.0</td>\n",
       "      <td>158607035.0</td>\n",
       "      <td>1.0</td>\n",
       "      <td>1.0</td>\n",
       "      <td>2.655352</td>\n",
       "    </tr>\n",
       "    <tr>\n",
       "      <th>3</th>\n",
       "      <td>2013</td>\n",
       "      <td>tt1272878</td>\n",
       "      <td>2 Guns</td>\n",
       "      <td>notalk</td>\n",
       "      <td>notalk</td>\n",
       "      <td>FAIL</td>\n",
       "      <td>61000000</td>\n",
       "      <td>75612460.0</td>\n",
       "      <td>132493015.0</td>\n",
       "      <td>2013FAIL</td>\n",
       "      <td>61000000</td>\n",
       "      <td>75612460.0</td>\n",
       "      <td>132493015.0</td>\n",
       "      <td>1.0</td>\n",
       "      <td>1.0</td>\n",
       "      <td>1.239549</td>\n",
       "    </tr>\n",
       "    <tr>\n",
       "      <th>4</th>\n",
       "      <td>2013</td>\n",
       "      <td>tt0453562</td>\n",
       "      <td>42</td>\n",
       "      <td>men</td>\n",
       "      <td>men</td>\n",
       "      <td>FAIL</td>\n",
       "      <td>40000000</td>\n",
       "      <td>95020213.0</td>\n",
       "      <td>95020213.0</td>\n",
       "      <td>2013FAIL</td>\n",
       "      <td>40000000</td>\n",
       "      <td>95020213.0</td>\n",
       "      <td>95020213.0</td>\n",
       "      <td>1.0</td>\n",
       "      <td>1.0</td>\n",
       "      <td>2.375505</td>\n",
       "    </tr>\n",
       "  </tbody>\n",
       "</table>\n",
       "</div>"
      ],
      "text/plain": [
       "   year       imdb             title             test clean_test binary  \\\n",
       "0  2013  tt1711425         21 & Over           notalk     notalk   FAIL   \n",
       "1  2012  tt1343727          Dredd 3D      ok-disagree         ok   PASS   \n",
       "2  2013  tt2024544  12 Years a Slave  notalk-disagree     notalk   FAIL   \n",
       "3  2013  tt1272878            2 Guns           notalk     notalk   FAIL   \n",
       "4  2013  tt0453562                42              men        men   FAIL   \n",
       "\n",
       "     budget    domgross     intgross      code  budget_2013  domgross_2013  \\\n",
       "0  13000000  25682380.0   42195766.0  2013FAIL     13000000     25682380.0   \n",
       "1  45000000  13414714.0   40868994.0  2012PASS     45658735     13611086.0   \n",
       "2  20000000  53107035.0  158607035.0  2013FAIL     20000000     53107035.0   \n",
       "3  61000000  75612460.0  132493015.0  2013FAIL     61000000     75612460.0   \n",
       "4  40000000  95020213.0   95020213.0  2013FAIL     40000000     95020213.0   \n",
       "\n",
       "   intgross_2013  period_code  decade_code    domroi  \n",
       "0     42195766.0          1.0          1.0  1.975568  \n",
       "1     41467257.0          1.0          1.0  0.298105  \n",
       "2    158607035.0          1.0          1.0  2.655352  \n",
       "3    132493015.0          1.0          1.0  1.239549  \n",
       "4     95020213.0          1.0          1.0  2.375505  "
      ]
     },
     "execution_count": 70,
     "metadata": {},
     "output_type": "execute_result"
    }
   ],
   "source": [
    "bechdel['domroi'] = bechdel['domgross_2013'] / bechdel['budget_2013']\n",
    "bechdel.head()"
   ]
  },
  {
   "cell_type": "markdown",
   "metadata": {},
   "source": [
    "You can scroll over to confirm we added two columns. Then if we want to know what the mean return on investment is, we could use split-apply-combine:"
   ]
  },
  {
   "cell_type": "code",
   "execution_count": 74,
   "metadata": {
    "collapsed": false
   },
   "outputs": [
    {
     "data": {
      "text/plain": [
       "<matplotlib.axes._subplots.AxesSubplot at 0x1174e1940>"
      ]
     },
     "execution_count": 74,
     "metadata": {},
     "output_type": "execute_result"
    },
    {
     "data": {
      "image/png": "[encoded data removed]",
      "text/plain": [
       "<matplotlib.figure.Figure at 0x117928908>"
      ]
     },
     "metadata": {},
     "output_type": "display_data"
    }
   ],
   "source": [
    "mean_roi = bechdel.groupby('year').aggregate(np.mean)[['domroi']]\n",
    "mean_roi.plot()"
   ]
  },
  {
   "cell_type": "markdown",
   "metadata": {},
   "source": [
    "Looks like business is getting tougher. But maybe not. \n",
    "\n",
    "## Exercise 2\n",
    "\n",
    "What if we calculated return on investment using international gross receipts? Is business still getting tougher?\n"
   ]
  },
  {
   "cell_type": "markdown",
   "metadata": {},
   "source": [
    "## Relations between variables\n",
    "\n",
    "To start thinking about the relations between columns, we need to define some *functions*. To make this simple, let's define a toy dataset. Like, literally about toys. Is there a relationship between their price and their weight?"
   ]
  },
  {
   "cell_type": "code",
   "execution_count": 13,
   "metadata": {
    "collapsed": false
   },
   "outputs": [
    {
     "data": {
      "text/plain": [
       "<matplotlib.axes._subplots.AxesSubplot at 0x111c46048>"
      ]
     },
     "execution_count": 13,
     "metadata": {},
     "output_type": "execute_result"
    },
    {
     "data": {
      "image/png": "[encoded data removed]",
      "text/plain": [
       "<matplotlib.figure.Figure at 0x111c27518>"
      ]
     },
     "metadata": {},
     "output_type": "display_data"
    }
   ],
   "source": [
    "toy = pd.DataFrame({'price': [1.25, 5.00, 4.99, 2.49, 3.29, 3.02],\n",
    "                  'weight': [.5, .9, .8, .2, .4, .61]})\n",
    "toy.plot(kind = 'scatter', x = 'price', y= 'weight')"
   ]
  },
  {
   "cell_type": "markdown",
   "metadata": {},
   "source": [
    "Intuitively, what we want to ask here is, do toys with above-average prices also have above-average weights?\n",
    "\n",
    "One way to measure this is to measure *covariance*."
   ]
  },
  {
   "cell_type": "code",
   "execution_count": 25,
   "metadata": {
    "collapsed": false
   },
   "outputs": [
    {
     "name": "stdout",
     "output_type": "stream",
     "text": [
      "0.27676\n"
     ]
    }
   ],
   "source": [
    "covariance = 0\n",
    "diff_from_price_mean = toy['price'] - np.mean(toy['price'])\n",
    "diff_from_weight_mean = toy['weight']- np.mean(toy['weight'])\n",
    "\n",
    "covariance = 0\n",
    "number_of_toys = len(diff_from_price_mean)\n",
    "\n",
    "for i in range(number_of_toys):\n",
    "    covariance += diff_from_price_mean[i] * diff_from_weight_mean[i]\n",
    "    # if price and weight are both above average, this value will be positive\n",
    "    # if they are both below average — still positive\n",
    "    # if one is over and the other is under, negative!\n",
    "    \n",
    "covariance = covariance / (number_of_toys - 1)\n",
    "\n",
    "print(covariance)\n"
   ]
  },
  {
   "cell_type": "markdown",
   "metadata": {},
   "source": [
    "## Exercise 3.\n",
    "\n",
    "Play around with the data above to get a sense of how covariance changes when you change values.\n",
    "\n",
    "Try changing individual points. Then double one whole axis by saying \n",
    "\n",
    "    toy['weight'] = toy['weight'] * 2"
   ]
  },
  {
   "cell_type": "markdown",
   "metadata": {},
   "source": [
    "## Defining functions\n",
    "\n",
    "As your programs get more complex, you can't afford to be writing out formulas like the covariance formula above each time you need them. Errors will multiply. For instance, what if you need to change something in one place? Will you remember to change it everywhere?\n",
    "\n",
    "To make code modular, we can define functions, like this:\n"
   ]
  },
  {
   "cell_type": "code",
   "execution_count": 27,
   "metadata": {
    "collapsed": false
   },
   "outputs": [
    {
     "name": "stdout",
     "output_type": "stream",
     "text": [
      "1.3838\n",
      "0.27676\n"
     ]
    },
    {
     "ename": "NameError",
     "evalue": "name 'spaghetti' is not defined",
     "output_type": "error",
     "traceback": [
      "\u001b[0;31m---------------------------------------------------------------------------\u001b[0m",
      "\u001b[0;31mNameError\u001b[0m                                 Traceback (most recent call last)",
      "\u001b[0;32m<ipython-input-27-c4730b3ec5f9>\u001b[0m in \u001b[0;36m<module>\u001b[0;34m()\u001b[0m\n\u001b[1;32m     20\u001b[0m \u001b[0mprint\u001b[0m\u001b[0;34m(\u001b[0m\u001b[0mdot\u001b[0m\u001b[0;34m(\u001b[0m\u001b[0mdiff_from_price_mean\u001b[0m\u001b[0;34m,\u001b[0m \u001b[0mdiff_from_weight_mean\u001b[0m\u001b[0;34m)\u001b[0m\u001b[0;34m)\u001b[0m\u001b[0;34m\u001b[0m\u001b[0m\n\u001b[1;32m     21\u001b[0m \u001b[0mprint\u001b[0m\u001b[0;34m(\u001b[0m\u001b[0mdot\u001b[0m\u001b[0;34m(\u001b[0m\u001b[0mdiff_from_price_mean\u001b[0m\u001b[0;34m,\u001b[0m \u001b[0mdiff_from_weight_mean\u001b[0m\u001b[0;34m)\u001b[0m \u001b[0;34m/\u001b[0m \u001b[0;36m5\u001b[0m\u001b[0;34m)\u001b[0m\u001b[0;34m\u001b[0m\u001b[0m\n\u001b[0;32m---> 22\u001b[0;31m \u001b[0mprint\u001b[0m\u001b[0;34m(\u001b[0m\u001b[0mspaghetti\u001b[0m\u001b[0;34m)\u001b[0m\u001b[0;34m\u001b[0m\u001b[0m\n\u001b[0m\u001b[1;32m     23\u001b[0m \u001b[0;34m\u001b[0m\u001b[0m\n",
      "\u001b[0;31mNameError\u001b[0m: name 'spaghetti' is not defined"
     ]
    }
   ],
   "source": [
    "def dot(vectorA, vectorB):\n",
    "    ''' Calculates the dot product of two vectors; in other words, the\n",
    "    sum of the pairwise products of A and B.\n",
    "    '''\n",
    "    \n",
    "    assert len(vectorA) == len(vectorB)\n",
    "    # If that's not true, this function should just fail.\n",
    "    \n",
    "    n = len(vectorA)\n",
    "    \n",
    "    dotproduct = 0\n",
    "    \n",
    "    spaghetti = 'yummy'\n",
    "    \n",
    "    for i in range(n):\n",
    "        dotproduct += vectorA[i] * vectorB[i]\n",
    "        \n",
    "    return dotproduct\n",
    "    # this is the value the function will return\n",
    "\n",
    "print(dot(diff_from_price_mean, diff_from_weight_mean))\n",
    "print(dot(diff_from_price_mean, diff_from_weight_mean) / 5) \n",
    "print(spaghetti)\n",
    "        "
   ]
  },
  {
   "cell_type": "markdown",
   "metadata": {},
   "source": [
    "Our function worked wonderfully, where its main purpose is concerned. Dividing the dot product by ```number_of_toys - 1``` got us the correct covariance. The only problem is that we also wanted to state spaghetti is delicious, and for some reason this important information has not been retained.\n",
    "\n",
    "Of course, actually this is a feature of functions, not a bug. You may need to do all kinds of things inside a function, you may use generic variables like ```i``` and ```n```, and you don't necessarily want changes to variables *inside* a function to affect things outside a function. By default, they don't. As a general rule, you have to send things into a function as arguments and get them back through a ```return``` statement.\n",
    "\n",
    "The important exception to this: mutable data structures passed into a function as arguments *can* be changed inside a function and will remain changed whether or not they are passed back in the return statement."
   ]
  },
  {
   "cell_type": "markdown",
   "metadata": {},
   "source": [
    "## Exercise 4: Defining your first function\n",
    "\n",
    "Now that you know how to define a function, try defining a ```covariance``` function. You can use the ```dot``` function we defined as an element of your covariance function. Then test it by passing in toy['price'] and toy['weight']. It should give you the same result we got for covariance above."
   ]
  },
  {
   "cell_type": "code",
   "execution_count": 28,
   "metadata": {
    "collapsed": true
   },
   "outputs": [],
   "source": [
    "# Code for exercise 4 goes here."
   ]
  },
  {
   "cell_type": "markdown",
   "metadata": {},
   "source": [
    "## The difference between covariance and correlation.\n",
    "\n",
    "As you saw above, covariance is not scale-invariant. We'd like a measure of relation that *is* scale-invariant.\n",
    "\n",
    "A common one is Pearson's correlation coefficient, which is simply\n",
    "\n",
    "    covariance(X, Y) / (std(X) * std(Y))\n",
    "\n",
    "## Exercise 5: Define a function for Pearson's correlation\n",
    "\n",
    "you can cut and paste your covariance code above"
   ]
  },
  {
   "cell_type": "code",
   "execution_count": 30,
   "metadata": {
    "collapsed": true
   },
   "outputs": [],
   "source": [
    "# Code for Exercise 5 goes here."
   ]
  },
  {
   "cell_type": "markdown",
   "metadata": {},
   "source": [
    "## Hypothesis testing\n",
    "\n",
    "Very commonly, we want to ask a question like this: is the relationship between these two vectors stronger than we would expect to occur randomly?\n",
    "\n",
    "One intuitive way to pose this question is to test how often we *do* get an equally strong relationship between those vectors when their values are randomly permuted. Python makes this easy with a ```random``` module. For instance."
   ]
  },
  {
   "cell_type": "code",
   "execution_count": 37,
   "metadata": {
    "collapsed": false
   },
   "outputs": [
    {
     "name": "stdout",
     "output_type": "stream",
     "text": [
      "[5, 2, 1, 4, 3]\n"
     ]
    }
   ],
   "source": [
    "import random\n",
    "vectorC = [1, 2, 3, 4, 5]\n",
    "random.shuffle(vectorC)\n",
    "print(vectorC)"
   ]
  },
  {
   "cell_type": "markdown",
   "metadata": {},
   "source": [
    "## Exercise 6\n",
    "\n",
    "Write Python code to test the significance of a correlation between two arbitrary vectors. It should return r, the correlation coefficient, as well as p, the fraction of times we get a larger correlation than r out of (say) a hundred tries with a randomly-permuted relationship between the vectors."
   ]
  },
  {
   "cell_type": "code",
   "execution_count": null,
   "metadata": {
    "collapsed": true
   },
   "outputs": [],
   "source": [
    "# Code for Exercise 6"
   ]
  },
  {
   "cell_type": "markdown",
   "metadata": {},
   "source": [
    "## Exercise 7\n",
    "\n",
    "Use the function you've defined to test the significance of correlations between budget and international gross returns for our movies, and then also between budget and ROI.\n",
    "\n",
    "You may need to remove rows in the dataframe where gross returns are missing. The ```isnull()``` function will help."
   ]
  },
  {
   "cell_type": "code",
   "execution_count": null,
   "metadata": {
    "collapsed": true
   },
   "outputs": [],
   "source": [
    "# Code for Exercise 7"
   ]
  }
 ],
 "metadata": {
  "anaconda-cloud": {},
  "kernelspec": {
   "display_name": "Python [default]",
   "language": "python",
   "name": "python3"
  },
  "language_info": {
   "codemirror_mode": {
    "name": "ipython",
    "version": 3
   },
   "file_extension": ".py",
   "mimetype": "text/x-python",
   "name": "python",
   "nbconvert_exporter": "python",
   "pygments_lexer": "ipython3",
   "version": "3.5.2"
  }
 },
 "nbformat": 4,
 "nbformat_minor": 1
}
