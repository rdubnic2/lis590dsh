{
 "cells": [
  {
   "cell_type": "markdown",
   "metadata": {},
   "source": [
    "# Introduction to Python: Iteration and flow control"
   ]
  },
  {
   "cell_type": "markdown",
   "metadata": {},
   "source": [
    "## I. Jupyter notebooks"
   ]
  },
  {
   "cell_type": "markdown",
   "metadata": {},
   "source": [
    "You're looking at a \"Jupyter notebook.\" This kind of file allows you to present Python code alongside the results of the code, and text that explains the whole process. Researchers are finding it a good way to document their work, and it's also, of course, useful for teaching."
   ]
  },
  {
   "cell_type": "markdown",
   "metadata": {},
   "source": [
    "A notebook is made up of \"cells.\" Each cell can be a heading, \"markdown\" (which is just a kind of lightly formatted text), or code. Go ahead and change this notebook by inserting a new cell here. Select \"insert\" in the menu above, and then \"insert cell below.\" Select \"markdown\" in the pull-down menu. Write some text, and then click the forward arrow to \"run\" the cell, or type Shift-Enter."
   ]
  },
  {
   "cell_type": "code",
   "execution_count": 1,
   "metadata": {
    "collapsed": false
   },
   "outputs": [
    {
     "name": "stdout",
     "output_type": "stream",
     "text": [
      "Enter a sentence: This has 4 words.\n",
      "That had 4 words.\n"
     ]
    }
   ],
   "source": [
    "# wordcounter\n",
    "# A simple program that counts words.\n",
    "\n",
    "sentence = input('Enter a sentence: ')\n",
    "words = sentence.split(' ')\n",
    "sentence_length = len(words)\n",
    "print('That had ' + str(sentence_length) + ' words.')"
   ]
  },
  {
   "cell_type": "markdown",
   "metadata": {},
   "source": [
    "Once you have run a cell, the variables you created will remain in the notebook's \"memory.\" So if I now say, for instance,"
   ]
  },
  {
   "cell_type": "code",
   "execution_count": 2,
   "metadata": {
    "collapsed": false
   },
   "outputs": [
    {
     "name": "stdout",
     "output_type": "stream",
     "text": [
      "['This', 'has', '4', 'words.']\n"
     ]
    }
   ],
   "source": [
    "print(words)"
   ]
  },
  {
   "cell_type": "markdown",
   "metadata": {},
   "source": [
    "But notice that this only happens *after* you've run the first cell. If I simply loaded this notebook and ran print(words), I would get an error, because no variable called 'words' will exist in the notebook's memory until we **run** the wordcounter cell."
   ]
  },
  {
   "cell_type": "markdown",
   "metadata": {},
   "source": [
    "For this reason, it's often a good idea to select \"Cell\" -> \"Run all\" when you first load a complex notebook. That will run all the cells, in order. Don't do it now, though. It's better to work through these cells one by one.\n",
    "\n",
    "Let's practice editing a cell:"
   ]
  },
  {
   "cell_type": "code",
   "execution_count": 6,
   "metadata": {
    "collapsed": false
   },
   "outputs": [
    {
     "name": "stdout",
     "output_type": "stream",
     "text": [
      "SHOUT SOMETHING: HELLO\n",
      "Oh, did you shout hello?\n"
     ]
    }
   ],
   "source": [
    "# screamer\n",
    "# A program that repeats whatever you say, a little louder.\n",
    "\n",
    "quiet = input('SHOUT SOMETHING: ')\n",
    "loud = quiet.lower()\n",
    "print('Oh, did you shout ' + loud + '?')"
   ]
  },
  {
   "cell_type": "markdown",
   "metadata": {},
   "source": [
    "Try editing the cell above so it works in reverse. Hint: since strings have an ```upper()``` method, they probably have a ```lower()``` method as well."
   ]
  },
  {
   "cell_type": "markdown",
   "metadata": {},
   "source": [
    "## II. Iteration"
   ]
  },
  {
   "cell_type": "markdown",
   "metadata": {},
   "source": [
    "One of Python's nicer tricks is known as a **list comprehension.** It's easier to show an example than to explain it, so observe below."
   ]
  },
  {
   "cell_type": "code",
   "execution_count": null,
   "metadata": {
    "collapsed": false
   },
   "outputs": [],
   "source": [
    "# example of a list comprehension\n",
    "\n",
    "list_of_numbers = [0, 1, 2, 3, 4, 5, 6]\n",
    "doubled = [x*2 for x in list_of_numbers]\n",
    "print(doubled)"
   ]
  },
  {
   "cell_type": "markdown",
   "metadata": {},
   "source": [
    "Basically we construct a new list by proceeding through the ```list_of_numbers``` and putting a doubled value for every item in the original list (every ```x``` is replaced by ```x * 2```). "
   ]
  },
  {
   "cell_type": "code",
   "execution_count": null,
   "metadata": {
    "collapsed": false
   },
   "outputs": [],
   "source": [
    "# another list comprehension\n",
    "\n",
    "words = ['The', 'quick', 'brown', 'fox']\n",
    "initials = [x[0] for x in words]\n",
    "print(initials)"
   ]
  },
  {
   "cell_type": "markdown",
   "metadata": {},
   "source": [
    "### Exercise 1: list comprehensions"
   ]
  },
  {
   "cell_type": "markdown",
   "metadata": {},
   "source": [
    "Given a list of numbers, it's easy to compute a mean."
   ]
  },
  {
   "cell_type": "code",
   "execution_count": 7,
   "metadata": {
    "collapsed": false
   },
   "outputs": [
    {
     "name": "stdout",
     "output_type": "stream",
     "text": [
      "16.8\n"
     ]
    }
   ],
   "source": [
    "ages = [11, 14, 17, 26, 16]\n",
    "mean_age = sum(ages) / len(ages)\n",
    "print(mean_age)"
   ]
  },
  {
   "cell_type": "markdown",
   "metadata": {},
   "source": [
    "Now, use a list comprehension to compute the average length (in letters) of the words in the list below."
   ]
  },
  {
   "cell_type": "code",
   "execution_count": 15,
   "metadata": {
    "collapsed": false
   },
   "outputs": [
    {
     "name": "stdout",
     "output_type": "stream",
     "text": [
      "4.0\n"
     ]
    }
   ],
   "source": [
    "# Exercise 1: compute mean word length\n",
    "sentence = 'The quick brown fox jumped over the lazy dog'\n",
    "words = sentence.split()\n",
    "# print(words)\n",
    "word_lengths = [len(x) for x in words]\n",
    "# print(word_lengths)\n",
    "mean_words = sum(word_lengths)/len(word_lengths)\n",
    "print(mean_words)\n",
    "\n",
    "# what goes here?\n",
    "# you probably need a list comprehension, followed by a line that computes the mean"
   ]
  },
  {
   "cell_type": "markdown",
   "metadata": {},
   "source": [
    "### Exercise 2: for loops"
   ]
  },
  {
   "cell_type": "markdown",
   "metadata": {},
   "source": [
    "Much of the power of computing comes from performing simple operations repeatedly. So the syntax for *iteration* is very important. List comprehensions are a simple, condensed form of iteration, but you will often need the more flexible syntax demonstrated below."
   ]
  },
  {
   "cell_type": "code",
   "execution_count": null,
   "metadata": {
    "collapsed": false
   },
   "outputs": [],
   "source": [
    "word = 'abacus'\n",
    "for letter in word:\n",
    "    print(letter)"
   ]
  },
  {
   "cell_type": "markdown",
   "metadata": {},
   "source": [
    "Notice that the statements inside the loop are indented exactly four spaces. Multiple lines can be indented; as long as we don't return to the previous level of indentation we are \"inside\" the loop. All those lines will be executed each time we pass through the loop. You can use a for loop to duplicate the work of a list comprehension. For instance, the number-doubler we wrote earlier could be spelled out as a for loop like this:"
   ]
  },
  {
   "cell_type": "code",
   "execution_count": null,
   "metadata": {
    "collapsed": false
   },
   "outputs": [],
   "source": [
    "# for-loop version of the number-doubler\n",
    "list_of_numbers = [0, 1, 2, 3, 4, 5, 6]\n",
    "new_list = []\n",
    "for number in list_of_numbers:\n",
    "    new_list.append(number * 2)\n",
    "print(new_list)"
   ]
  },
  {
   "cell_type": "markdown",
   "metadata": {},
   "source": [
    "Since we very often need to iterate across a range of numbers, there's a special function ```range()``` that is often used in this context. So for instance"
   ]
  },
  {
   "cell_type": "code",
   "execution_count": null,
   "metadata": {
    "collapsed": false
   },
   "outputs": [],
   "source": [
    "new_list = []\n",
    "for i in range(0, 7):\n",
    "    new_list.append(i * 3)\n",
    "print(new_list)"
   ]
  },
  {
   "cell_type": "markdown",
   "metadata": {},
   "source": [
    "Notice that we never get to the number 7. Python ranges are inclusive on the low end but exclusive on the high end.\n",
    "\n",
    "For loops can also do things that list comprehensions don't. For instance, if the function ```sum``` didn't already exist, we could sum a list like this:"
   ]
  },
  {
   "cell_type": "code",
   "execution_count": null,
   "metadata": {
    "collapsed": false
   },
   "outputs": [],
   "source": [
    "# add up a list\n",
    "\n",
    "list_of_numbers = [0, 1, 2, 3, 4, 5, 6]\n",
    "total = 0\n",
    "\n",
    "for number in list_of_numbers:\n",
    "    total = total + number\n",
    "    \n",
    "print(total)"
   ]
  },
  {
   "cell_type": "markdown",
   "metadata": {},
   "source": [
    "Use a similar strategy to write a cell that calculates factorials. The factorial n! describes the number of ways n items can be arranged in a sequence. For instance, there are six ways to arrange three items.\n",
    "\n",
    "[0, 1, 2]\n",
    "\n",
    "[0, 2, 1]\n",
    "\n",
    "[1, 0, 2]\n",
    "\n",
    "[1, 2, 0]\n",
    "\n",
    "[2, 1, 0]\n",
    "\n",
    "[2, 0, 1]\n",
    "\n",
    "It turns out that you can always calculate this by multiplying the numbers from 1 to n. The factorial of 3 is ```1 * 2 * 3,``` and the factorial of 5 is ```1 * 2 * 3 * 4 * 5```. Write a cell that calculates n! for any number n. I'll start you off with a few lines that query the user for a number."
   ]
  },
  {
   "cell_type": "code",
   "execution_count": 24,
   "metadata": {
    "collapsed": false
   },
   "outputs": [
    {
     "name": "stdout",
     "output_type": "stream",
     "text": [
      "Integer for which you want the factorial: 4\n",
      "24\n"
     ]
    }
   ],
   "source": [
    "# factorial calculator\n",
    "\n",
    "string_number = input('Integer for which you want the factorial: ')\n",
    "number = int(string_number)\n",
    "\n",
    "factorial = 1\n",
    "\n",
    "for i in range(1, number + 1):\n",
    "    factorial = factorial * i\n",
    "    \n",
    "# what should go here?\n",
    "\n",
    "print(factorial)"
   ]
  },
  {
   "cell_type": "markdown",
   "metadata": {},
   "source": [
    "## III. Flow control\n",
    "\n",
    "So far every statement in each cell is executed. Sometimes they're executed more than once, but they're never skipped.\n",
    "\n",
    "However, in order to make decisions, we need a way to do X *instead of* Y. An if-statement provides this possibility. For instance, here's a cell that does nothing unless you say the magic word."
   ]
  },
  {
   "cell_type": "code",
   "execution_count": null,
   "metadata": {
    "collapsed": false
   },
   "outputs": [],
   "source": [
    "word = input('What is the magic word? ')\n",
    "if word.lower() == 'please':\n",
    "    print('YOU SAID THE MAGIC WORD!!')\n",
    "elif word.lower() == 'sorry':\n",
    "    print('Getting warmer.')\n",
    "else:\n",
    "    print('Meh.')"
   ]
  },
  {
   "cell_type": "markdown",
   "metadata": {},
   "source": [
    "Notice the double equals sign in the if statement. When you're testing equality, you'll always use that double equals (```==```). The single equals sign performs an *assignment,* not a test. For instance:"
   ]
  },
  {
   "cell_type": "code",
   "execution_count": null,
   "metadata": {
    "collapsed": false
   },
   "outputs": [],
   "source": [
    "name = 'Alice'\n",
    "print(name == 'Elaine')\n",
    "print(name)\n",
    "name = 'Elaine'\n",
    "print(name)"
   ]
  },
  {
   "cell_type": "markdown",
   "metadata": {},
   "source": [
    "### Exercise 3: A broken vowelcounter.\n",
    "\n",
    "Here's a cell that counts the number of vowels. Right now it also claims to count consonants. Unfortunately, that part is broken. See if you can fix it."
   ]
  },
  {
   "cell_type": "code",
   "execution_count": null,
   "metadata": {
    "collapsed": false
   },
   "outputs": [],
   "source": [
    "# start by creating a set of vowels\n",
    "vowels = {'a', 'e', 'i', 'o', 'u'}\n",
    "# We make this a set, so membership-checking is fast.\n",
    "# You can also test whether an item is \"in\" a list,\n",
    "# but sets are faster, and though it makes no difference\n",
    "# here, it can when the operation is repeated 100,000 times.\n",
    "\n",
    "word = input('Enter a word: ')\n",
    "\n",
    "vowelcount = 0\n",
    "consonantcount = 0\n",
    "\n",
    "for letter in word:\n",
    "    if letter in vowels:\n",
    "        vowelcount = vowelcount + 1\n",
    "        \n",
    "        # Another way to write this would be\n",
    "        # vowelcount += 1\n",
    "        # (That does the same thing.)\n",
    "        \n",
    "print('That contained {0} vowels and {1} consonants.'.format(vowelcount, consonantcount))\n",
    "\n",
    "# note that instead of \" contained \" + str(vowelcount) + \" vowels,\"\n",
    "# we use a format method on the string to replace {0} with\n",
    "# the first argument of vowelcount, and {1} with the second."
   ]
  },
  {
   "cell_type": "markdown",
   "metadata": {},
   "source": [
    "## Review\n",
    "\n",
    "There are several places you can go for more documentation of Python basics.\n",
    "\n",
    "Python has [decent documentation](https://docs.python.org/3.5/). In particular, I recommend the \"Tutorial\" on the menu you will find at that link.\n",
    "\n",
    "If you prefer to learn from notebooks you can modify, there's [a good collection of examples written by Eric Matthes.](https://github.com/ehmatthes/intro_programming/blob/master/notebooks/contents.ipynb).\n",
    "\n",
    "And, of course, you'll get some practice from homework1.ipynb."
   ]
  },
  {
   "cell_type": "code",
   "execution_count": null,
   "metadata": {
    "collapsed": true
   },
   "outputs": [],
   "source": []
  }
 ],
 "metadata": {
  "anaconda-cloud": {},
  "kernelspec": {
   "display_name": "Python [default]",
   "language": "python",
   "name": "python3"
  },
  "language_info": {
   "codemirror_mode": {
    "name": "ipython",
    "version": 3
   },
   "file_extension": ".py",
   "mimetype": "text/x-python",
   "name": "python",
   "nbconvert_exporter": "python",
   "pygments_lexer": "ipython3",
   "version": "3.5.2"
  }
 },
 "nbformat": 4,
 "nbformat_minor": 0
}
