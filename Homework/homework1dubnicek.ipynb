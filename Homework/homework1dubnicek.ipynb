{
 "cells": [
  {
   "cell_type": "markdown",
   "metadata": {},
   "source": [
    "# Homework 1\n",
    "\n",
    "Edit this notebook so the three broken code cells work as intended.\n",
    "\n",
    "Then rename the notebook homework1lastname.ipynb (e.g. homework1underwood.ipynb) and submit it as your response to the homework assignment on the Moodle. This is due by Saturday, Jan 21."
   ]
  },
  {
   "cell_type": "markdown",
   "metadata": {},
   "source": [
    "### Problem 1: Acronym creator.\n",
    "\n",
    "Write a cell that queries the user for a phrase and then creates an acronym. For instance, a dialogue might look like this:\n",
    "\n",
    "```Enter a phrase: international business machines\n",
    "The acronym is IBM.```\n",
    "\n",
    "To do this you may need to know that the string method ```split()``` has an opposite, ```join()```. For instance,"
   ]
  },
  {
   "cell_type": "code",
   "execution_count": 1,
   "metadata": {
    "collapsed": false
   },
   "outputs": [
    {
     "name": "stdout",
     "output_type": "stream",
     "text": [
      "The--quick--brown--fox--jumped--over--the--lazy--dog\n"
     ]
    }
   ],
   "source": [
    "sentence = 'The quick brown fox jumped over the lazy dog'\n",
    "words = sentence.split()\n",
    "new_sentence = '--'.join(words)\n",
    "print(new_sentence)"
   ]
  },
  {
   "cell_type": "code",
   "execution_count": 9,
   "metadata": {
    "collapsed": false
   },
   "outputs": [
    {
     "name": "stdout",
     "output_type": "stream",
     "text": [
      "Enter a phrase: You'll never walk alone\n",
      "[\"You'll\", 'never', 'walk', 'alone']\n",
      "The acronym is YNWA.\n"
     ]
    }
   ],
   "source": [
    "# Code for first problem\n",
    "\n",
    "phrase = input('Enter a phrase: ')\n",
    "words = phrase.split()\n",
    "print(words)\n",
    "first = []\n",
    "acro = ''\n",
    "for x in words:\n",
    "    ltrs = x[0].upper()\n",
    "    first.append(ltrs)\n",
    "stracro = acro.join(first)\n",
    "# what goes here?\n",
    "\n",
    "print('The acronym is ' + stracro + '.')"
   ]
  },
  {
   "cell_type": "markdown",
   "metadata": {},
   "source": [
    "### Problem 2: Temperature converter.\n",
    "\n",
    "Write a cell that queries the user for the temperature in Fahrenheit, and returns the temperature in Celsius."
   ]
  },
  {
   "cell_type": "code",
   "execution_count": 13,
   "metadata": {
    "collapsed": false
   },
   "outputs": [
    {
     "name": "stdout",
     "output_type": "stream",
     "text": [
      "Enter the temperature in Fahrenheit: 98\n",
      "36.67\n"
     ]
    }
   ],
   "source": [
    "# Code for second problem\n",
    "\n",
    "string_fah = input('Enter the temperature in Fahrenheit: ')\n",
    "fah = int(string_fah)\n",
    "cel = ((fah-32)*5)/9 # uses the conversion formula for fahrenheit to celsius\n",
    "rcel = round(cel,2) # rounds the output float to two decimal points, which is typical for remperature data\n",
    "print(rcel)"
   ]
  },
  {
   "cell_type": "markdown",
   "metadata": {},
   "source": [
    "### Problem 3: Broken devowellizer.\n",
    "\n",
    "The code below is supposed to take vowels out of any sentence. But it's broken. Can you debug it?\n",
    "Hint: there may be more than one error, so it won't necessarily run when you fix the first problem.\n"
   ]
  },
  {
   "cell_type": "code",
   "execution_count": 24,
   "metadata": {
    "collapsed": false
   },
   "outputs": [
    {
     "name": "stdout",
     "output_type": "stream",
     "text": [
      "Enter a sentence: The quick brown fox\n",
      "Th qck brwn fx\n"
     ]
    }
   ],
   "source": [
    "# Code for third problem.\n",
    "\n",
    "vowels = ['a', 'e', 'i', 'o', 'u']\n",
    "sentence = input('Enter a sentence: ')\n",
    "\n",
    "conlist = []\n",
    "for letter in sentence:\n",
    "    if letter not in vowels:\n",
    "        conlist.append(letter)\n",
    "\n",
    "new_sentence = ''.join(conlist)\n",
    "print(new_sentence)"
   ]
  },
  {
   "cell_type": "code",
   "execution_count": null,
   "metadata": {
    "collapsed": true
   },
   "outputs": [],
   "source": []
  },
  {
   "cell_type": "code",
   "execution_count": null,
   "metadata": {
    "collapsed": true
   },
   "outputs": [],
   "source": []
  }
 ],
 "metadata": {
  "anaconda-cloud": {},
  "kernelspec": {
   "display_name": "Python [default]",
   "language": "python",
   "name": "python3"
  },
  "language_info": {
   "codemirror_mode": {
    "name": "ipython",
    "version": 3
   },
   "file_extension": ".py",
   "mimetype": "text/x-python",
   "name": "python",
   "nbconvert_exporter": "python",
   "pygments_lexer": "ipython3",
   "version": "3.5.2"
  }
 },
 "nbformat": 4,
 "nbformat_minor": 0
}
